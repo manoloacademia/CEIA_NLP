{
  "cells": [
    {
      "cell_type": "markdown",
      "metadata": {
        "id": "pfa39F4lsLf3"
      },
      "source": [
        "<img src=\"https://github.com/hernancontigiani/ceia_memorias_especializacion/raw/master/Figures/logoFIUBA.jpg\" width=\"500\" align=\"center\">\n",
        "\n",
        "\n",
        "# Desafío 4: Luis Pablo Segovia\n",
        "## LSTM Bot QA"
      ]
    },
    {
      "cell_type": "markdown",
      "source": [
        "## Importamos librerías para el Desafío"
      ],
      "metadata": {
        "id": "irpX7Zdq1J7g"
      }
    },
    {
      "cell_type": "code",
      "execution_count": 1,
      "metadata": {
        "id": "cq3YXak9sGHd"
      },
      "outputs": [],
      "source": [
        "# Importamos librerías generales\n",
        "import logging\n",
        "import matplotlib.pyplot as plt\n",
        "import numpy as np\n",
        "import os\n",
        "import pickle\n",
        "import pandas as pd\n",
        "import re\n",
        "import seaborn as sns\n",
        "\n",
        "from io import StringIO\n",
        "from pathlib import Path\n",
        "\n",
        "# De tensorflow y keras\n",
        "import tensorflow as tf\n",
        "from keras.preprocessing.text import Tokenizer, one_hot\n",
        "from keras.utils import to_categorical, plot_model\n",
        "from tensorflow.keras.utils import pad_sequences\n",
        "from keras.models import Sequential, Model\n",
        "from keras.layers import Input, Activation, Dropout, Dense, Flatten, LSTM, SimpleRNN\n",
        "from tensorflow.keras.layers import Embedding\n",
        "\n",
        "# De scikit-learn\n",
        "from sklearn.model_selection import train_test_split"
      ]
    },
    {
      "cell_type": "markdown",
      "metadata": {
        "id": "ZqO0PRcFsPTe"
      },
      "source": [
        "## Datos\n",
        "El objecto es utilizar datos disponibles del challenge ConvAI2 (Conversational Intelligence Challenge 2) de conversaciones en inglés. Se construirá un BOT para responder a preguntas del usuario (QA).\\\n",
        "[LINK](http://convai.io/data/)"
      ]
    },
    {
      "cell_type": "code",
      "execution_count": 2,
      "metadata": {
        "id": "bDFC0I3j9oFD"
      },
      "outputs": [],
      "source": [
        "!pip install --upgrade --no-cache-dir gdown --quiet"
      ]
    },
    {
      "cell_type": "code",
      "execution_count": 3,
      "metadata": {
        "id": "RHNkUaPp6aYq",
        "colab": {
          "base_uri": "https://localhost:8080/"
        },
        "outputId": "a14642b2-f531-49a4-de10-007fbd8375df"
      },
      "outputs": [
        {
          "output_type": "stream",
          "name": "stderr",
          "text": [
            "Downloading...\n",
            "From: https://drive.google.com/uc?id=1awUxYwImF84MIT5-jCaYAPe2QwSgS1hN&export=download\n",
            "To: /content/data_volunteers.json\n",
            "100%|██████████| 2.58M/2.58M [00:00<00:00, 140MB/s]\n"
          ]
        }
      ],
      "source": [
        "# Descargar la carpeta de dataset\n",
        "import os\n",
        "import gdown\n",
        "if os.access('data_volunteers.json', os.F_OK) is False:\n",
        "    url = 'https://drive.google.com/uc?id=1awUxYwImF84MIT5-jCaYAPe2QwSgS1hN&export=download'\n",
        "    output = 'data_volunteers.json'\n",
        "    gdown.download(url, output, quiet=False)\n",
        "else:\n",
        "    print(\"El dataset ya se encuentra descargado\")"
      ]
    },
    {
      "cell_type": "code",
      "execution_count": 4,
      "metadata": {
        "id": "WZy1-wgG-Rp7"
      },
      "outputs": [],
      "source": [
        "# dataset_file\n",
        "import json\n",
        "\n",
        "text_file = \"data_volunteers.json\"\n",
        "with open(text_file) as f:\n",
        "    data = json.load(f) # la variable data será un diccionario\n",
        "\n"
      ]
    },
    {
      "cell_type": "code",
      "execution_count": 5,
      "metadata": {
        "id": "ue5qd54S-eew",
        "colab": {
          "base_uri": "https://localhost:8080/"
        },
        "outputId": "c057ce2a-0737-4e64-f000-0485d54e3ef0"
      },
      "outputs": [
        {
          "output_type": "execute_result",
          "data": {
            "text/plain": [
              "dict_keys(['dialog', 'start_time', 'end_time', 'bot_profile', 'user_profile', 'eval_score', 'profile_match', 'participant1_id', 'participant2_id'])"
            ]
          },
          "metadata": {},
          "execution_count": 5
        }
      ],
      "source": [
        "# Observar los campos disponibles en cada linea del dataset\n",
        "data[0].keys()"
      ]
    },
    {
      "cell_type": "code",
      "execution_count": 6,
      "metadata": {
        "id": "jHBRAXPl-3dz",
        "colab": {
          "base_uri": "https://localhost:8080/"
        },
        "outputId": "4a4db23d-606c-4f8d-c372-9882b5048768"
      },
      "outputs": [
        {
          "output_type": "stream",
          "name": "stdout",
          "text": [
            "Cantidad de rows utilizadas: 6033\n"
          ]
        }
      ],
      "source": [
        "chat_in = []\n",
        "chat_out = []\n",
        "\n",
        "input_sentences = []\n",
        "output_sentences = []\n",
        "output_sentences_inputs = []\n",
        "max_len = 30\n",
        "\n",
        "def clean_text(txt):\n",
        "    txt = txt.lower()\n",
        "    txt.replace(\"\\'d\", \" had\")\n",
        "    txt.replace(\"\\'s\", \" is\")\n",
        "    txt.replace(\"\\'m\", \" am\")\n",
        "    txt.replace(\"don't\", \"do not\")\n",
        "    txt = re.sub(r'\\W+', ' ', txt)\n",
        "\n",
        "    return txt\n",
        "\n",
        "for line in data:\n",
        "    for i in range(len(line['dialog'])-1):\n",
        "        # vamos separando el texto en \"preguntas\" (chat_in)\n",
        "        # y \"respuestas\" (chat_out)\n",
        "        chat_in = clean_text(line['dialog'][i]['text'])\n",
        "        chat_out = clean_text(line['dialog'][i+1]['text'])\n",
        "\n",
        "        if len(chat_in) >= max_len or len(chat_out) >= max_len:\n",
        "            continue\n",
        "\n",
        "        input_sentence, output = chat_in, chat_out\n",
        "\n",
        "        # output sentence (decoder_output) tiene <eos>\n",
        "        output_sentence = output + ' <eos>'\n",
        "        # output sentence input (decoder_input) tiene <sos>\n",
        "        output_sentence_input = '<sos> ' + output\n",
        "\n",
        "        input_sentences.append(input_sentence)\n",
        "        output_sentences.append(output_sentence)\n",
        "        output_sentences_inputs.append(output_sentence_input)\n",
        "\n",
        "print(\"Cantidad de rows utilizadas:\", len(input_sentences))"
      ]
    },
    {
      "cell_type": "code",
      "execution_count": 7,
      "metadata": {
        "id": "07L1qj8pC_l6",
        "colab": {
          "base_uri": "https://localhost:8080/"
        },
        "outputId": "9fd8736c-6a53-482d-d807-4d432d0b580d"
      },
      "outputs": [
        {
          "output_type": "stream",
          "name": "stdout",
          "text": [
            "Vemos como sería un input: hi how are you \n",
            "Vemos un output: not bad and you  <eos>\n",
            "Vemos como tenemos el <sos> en el output: <sos> not bad and you \n"
          ]
        }
      ],
      "source": [
        "# Vemos un ejemplo de inputs y otro de outputs\n",
        "print(f'Vemos como sería un input: {input_sentences[1]}')\n",
        "print(f'Vemos un output: {output_sentences[1]}')\n",
        "print(f'Vemos como tenemos el <sos> en el output: {output_sentences_inputs[1]}')"
      ]
    },
    {
      "cell_type": "markdown",
      "metadata": {
        "id": "8P-ynUNP5xp6"
      },
      "source": [
        "## Preprocesamiento\n",
        "Realizar el preprocesamiento necesario para obtener:\n",
        "- word2idx_inputs, max_input_len\n",
        "- word2idx_outputs, max_out_len, num_words_output\n",
        "- encoder_input_sequences, decoder_output_sequences, decoder_targets"
      ]
    },
    {
      "cell_type": "code",
      "source": [
        "# Definimos las configuraciones recomendadas\n",
        "MAX_VOCAB_SIZE = 8000\n",
        "max_length = 10"
      ],
      "metadata": {
        "id": "3h__yxqxuPce"
      },
      "execution_count": 8,
      "outputs": []
    },
    {
      "cell_type": "code",
      "source": [
        "# Generamos una instancia del tokenizador\n",
        "input_tokenizer = Tokenizer(num_words=MAX_VOCAB_SIZE)\n",
        "# Fiteamos con los imputs\n",
        "input_tokenizer.fit_on_texts(input_sentences)"
      ],
      "metadata": {
        "id": "nbL1bGtLuPUJ"
      },
      "execution_count": 9,
      "outputs": []
    },
    {
      "cell_type": "markdown",
      "source": [
        "### Entradas: preguntas"
      ],
      "metadata": {
        "id": "8tS2dhV9wDjN"
      }
    },
    {
      "cell_type": "code",
      "source": [
        "# Vemos el resultado de algunos pasarlos a secuencias\n",
        "input_sequences = input_tokenizer.texts_to_sequences(input_sentences)\n",
        "input_sequences[:10]"
      ],
      "metadata": {
        "colab": {
          "base_uri": "https://localhost:8080/"
        },
        "id": "C7-iysJeuPKz",
        "outputId": "400b302b-58d8-4bc3-a37b-85ecfbd1a612"
      },
      "execution_count": 10,
      "outputs": [
        {
          "output_type": "execute_result",
          "data": {
            "text/plain": [
              "[[19],\n",
              " [11, 10, 7, 2],\n",
              " [11],\n",
              " [11],\n",
              " [11],\n",
              " [52, 7, 2, 359],\n",
              " [193],\n",
              " [52, 7, 2, 39],\n",
              " [1, 9, 39, 360, 38, 2],\n",
              " [1, 109, 134, 552, 41, 26, 170]]"
            ]
          },
          "metadata": {},
          "execution_count": 10
        }
      ]
    },
    {
      "cell_type": "code",
      "source": [
        "# Generamos los indices de las preguntas\n",
        "word2idx_input = input_tokenizer.word_index\n",
        "# Imprimimos la longitud\n",
        "print(\"Palabras en el vocabulario de las preguntas:\", len(word2idx_input))"
      ],
      "metadata": {
        "colab": {
          "base_uri": "https://localhost:8080/"
        },
        "id": "zlk2XpkJuPCf",
        "outputId": "b483ef60-bfa3-4bbe-c4ee-71008f864c9c"
      },
      "execution_count": 11,
      "outputs": [
        {
          "output_type": "stream",
          "name": "stdout",
          "text": [
            "Palabras en el vocabulario de las preguntas: 1799\n"
          ]
        }
      ]
    },
    {
      "cell_type": "code",
      "source": [
        "# Vemos cual es la longitud máxima de la entrada\n",
        "max_input_len = max(len(sen) for sen in input_sequences)\n",
        "print(\"Sentencia más larga de las preguntas:\", max_input_len)"
      ],
      "metadata": {
        "colab": {
          "base_uri": "https://localhost:8080/"
        },
        "id": "54G4XpHwuO5n",
        "outputId": "df01196f-7d74-4348-8a61-50c1459db315"
      },
      "execution_count": 12,
      "outputs": [
        {
          "output_type": "stream",
          "name": "stdout",
          "text": [
            "Sentencia más larga de las preguntas: 9\n"
          ]
        }
      ]
    },
    {
      "cell_type": "code",
      "source": [
        "# Vemos la longitud de la sentencia de entrada\n",
        "input_len = min(max_length, max_input_len)\n",
        "print(\"Tamaño de sentencia de entrada:\", input_len)"
      ],
      "metadata": {
        "colab": {
          "base_uri": "https://localhost:8080/"
        },
        "id": "JbRsvwv3wTKh",
        "outputId": "27f05814-ece5-4748-f368-9ab05d62242f"
      },
      "execution_count": 13,
      "outputs": [
        {
          "output_type": "stream",
          "name": "stdout",
          "text": [
            "Tamaño de sentencia de entrada: 9\n"
          ]
        }
      ]
    },
    {
      "cell_type": "markdown",
      "source": [
        "### Salidas: respuestas"
      ],
      "metadata": {
        "id": "OXOKunyawI1i"
      }
    },
    {
      "cell_type": "code",
      "source": [
        "# Generamos las respuestas\n",
        "output_tokenizer = Tokenizer(num_words=MAX_VOCAB_SIZE, filters='\"#$%&()*+-./:;=¿@[\\\\]^_`{|}~\\t\\n')\n",
        "output_tokenizer.fit_on_texts(output_sentences + output_sentences_inputs)"
      ],
      "metadata": {
        "id": "tGK10GOQvxFt"
      },
      "execution_count": 14,
      "outputs": []
    },
    {
      "cell_type": "code",
      "source": [
        "# Vemos como son las respuetas tokenizadas\n",
        "output_sequences = output_tokenizer.texts_to_sequences(output_sentences)\n",
        "print(f'Secuencias de respuestas: {output_sequences[:5]}')\n",
        "output_sequences_input = output_tokenizer.texts_to_sequences(output_sentences_inputs)\n",
        "print(f'Las salidas del input: {output_sequences_input[:5]}')"
      ],
      "metadata": {
        "colab": {
          "base_uri": "https://localhost:8080/"
        },
        "id": "av4ShDSbvw_-",
        "outputId": "1767f8aa-81ed-4ea6-9313-618f57e10a31"
      },
      "execution_count": 15,
      "outputs": [
        {
          "output_type": "stream",
          "name": "stdout",
          "text": [
            "Secuencias de respuestas: [[25, 11, 8, 3, 1], [29, 192, 32, 3, 1], [21, 1], [21, 1], [21, 11, 8, 3, 43, 1]]\n",
            "Las salidas del input: [[2, 25, 11, 8, 3], [2, 29, 192, 32, 3], [2, 21], [2, 21], [2, 21, 11, 8, 3, 43]]\n"
          ]
        }
      ]
    },
    {
      "cell_type": "markdown",
      "source": [
        "- Se puede ver que tienen el **\\<eos>** y **\\<sos>** correspondiente."
      ],
      "metadata": {
        "id": "sPv_9jhexRc6"
      }
    },
    {
      "cell_type": "code",
      "source": [
        "# Generamos los índices de las respuetas\n",
        "word2idx_output = output_tokenizer.word_index\n",
        "# Contamos la cantidad\n",
        "print(\"Palabras en el vocabulario en la salida:\", len(word2idx_output))"
      ],
      "metadata": {
        "colab": {
          "base_uri": "https://localhost:8080/"
        },
        "id": "cTYXct7ovw3X",
        "outputId": "2a7a9113-6f20-44e8-d3ff-5a4493a934ec"
      },
      "execution_count": 16,
      "outputs": [
        {
          "output_type": "stream",
          "name": "stdout",
          "text": [
            "Palabras en el vocabulario en la salida: 1806\n"
          ]
        }
      ]
    },
    {
      "cell_type": "code",
      "source": [
        "# Vemos cual es la longitud máxima de las respuestas\n",
        "max_output_len = max(len(sen) for sen in output_sequences)\n",
        "print(\"Sentencia de salida más larga:\", max_output_len)\n",
        "\n",
        "# Tamaño de sentencia de salida\n",
        "output_len = min(max_length, max_output_len)\n",
        "print(\"Tamaño de sentencia de salida:\", output_len)"
      ],
      "metadata": {
        "colab": {
          "base_uri": "https://localhost:8080/"
        },
        "id": "xwzwR-yGvwv2",
        "outputId": "65dd1f9f-3b2f-4b66-f2b0-b53880d6478c"
      },
      "execution_count": 17,
      "outputs": [
        {
          "output_type": "stream",
          "name": "stdout",
          "text": [
            "Sentencia de salida más larga: 10\n",
            "Tamaño de sentencia de salida: 10\n"
          ]
        }
      ]
    },
    {
      "cell_type": "code",
      "source": [
        "# Conocemos la cantidad de filas del dataset\n",
        "print(\"Cantidad de filas del dataset:\", len(input_sequences))"
      ],
      "metadata": {
        "colab": {
          "base_uri": "https://localhost:8080/"
        },
        "id": "lFFp4YtxwvdH",
        "outputId": "1c074727-2cd7-4839-9d7c-ed5664ee9dde"
      },
      "execution_count": 18,
      "outputs": [
        {
          "output_type": "stream",
          "name": "stdout",
          "text": [
            "Cantidad de filas del dataset: 6033\n"
          ]
        }
      ]
    },
    {
      "cell_type": "code",
      "source": [
        "# Vemos el shape del encoder de secuencias de la entrada\n",
        "encoder_input_sequences = pad_sequences(input_sequences, maxlen=input_len)\n",
        "print(\"encoder_input_sequences shape:\", encoder_input_sequences.shape)"
      ],
      "metadata": {
        "colab": {
          "base_uri": "https://localhost:8080/"
        },
        "id": "jFAklbNOwvUh",
        "outputId": "c9296ada-4a2b-4425-a2e9-91b981e60a0a"
      },
      "execution_count": 19,
      "outputs": [
        {
          "output_type": "stream",
          "name": "stdout",
          "text": [
            "encoder_input_sequences shape: (6033, 9)\n"
          ]
        }
      ]
    },
    {
      "cell_type": "code",
      "source": [
        "# Ahora vemos el decoder de las preguntas\n",
        "decoder_input_sequences = pad_sequences(output_sequences_input, maxlen=output_len, padding='post')\n",
        "print(\"decoder_input_sequences shape:\", decoder_input_sequences.shape)"
      ],
      "metadata": {
        "colab": {
          "base_uri": "https://localhost:8080/"
        },
        "id": "aS6z4gqgwvOR",
        "outputId": "7aa1dcfa-33ce-44a4-8d5a-69aec1c6aeb7"
      },
      "execution_count": 20,
      "outputs": [
        {
          "output_type": "stream",
          "name": "stdout",
          "text": [
            "decoder_input_sequences shape: (6033, 10)\n"
          ]
        }
      ]
    },
    {
      "cell_type": "code",
      "source": [
        "# Calculamos el número de palabras en la salida\n",
        "num_words_output = min(len(word2idx_output) + 1, MAX_VOCAB_SIZE)\n",
        "print(f'Vemos la cantidad de palabras en las respuetas: {num_words_output}')"
      ],
      "metadata": {
        "colab": {
          "base_uri": "https://localhost:8080/"
        },
        "id": "XsRuY4MuzK02",
        "outputId": "aacea55d-ebaa-4a48-fba8-aae9ee9ada80"
      },
      "execution_count": 21,
      "outputs": [
        {
          "output_type": "stream",
          "name": "stdout",
          "text": [
            "Vemos la cantidad de palabras en las respuetas: 1807\n"
          ]
        }
      ]
    },
    {
      "cell_type": "code",
      "source": [
        "# Calculamos lo mismo pero para las respuetas\n",
        "decoder_output_sequences = pad_sequences(output_sequences, maxlen=output_len, padding='post')\n",
        "decoder_targets = to_categorical(decoder_output_sequences, num_classes=num_words_output)\n",
        "print(f'Vemos el shape del target: {decoder_targets.shape}')"
      ],
      "metadata": {
        "colab": {
          "base_uri": "https://localhost:8080/"
        },
        "id": "l_rphr2_zKxf",
        "outputId": "f0fba032-a659-432f-c0b0-b362c10a8beb"
      },
      "execution_count": 22,
      "outputs": [
        {
          "output_type": "stream",
          "name": "stdout",
          "text": [
            "Vemos el shape del target: (6033, 10, 1807)\n"
          ]
        }
      ]
    },
    {
      "cell_type": "markdown",
      "metadata": {
        "id": "_CJIsLBbj6rg"
      },
      "source": [
        "## Preparar los embeddings\n",
        "Utilizar los embeddings de Glove para transformar los tokens de entrada en vectores"
      ]
    },
    {
      "cell_type": "code",
      "source": [
        "# Vamos a descargar los embeddings de Glove\n",
        "if os.access('gloveembedding.pkl', os.F_OK) is False:\n",
        "    url = 'https://drive.google.com/uc?id=1KY6avD5I1eI2dxQzMkR3WExwKwRq2g94&export=download'\n",
        "    output = 'gloveembedding.pkl'\n",
        "    gdown.download(url, output, quiet=False)\n",
        "else:\n",
        "    print(\"Los embeddings gloveembedding.pkl ya están descargados\")"
      ],
      "metadata": {
        "colab": {
          "base_uri": "https://localhost:8080/"
        },
        "id": "JB_V-p-p0oGI",
        "outputId": "31c377cf-92d8-4d7b-d254-028afe9a7bf3"
      },
      "execution_count": 23,
      "outputs": [
        {
          "output_type": "stream",
          "name": "stderr",
          "text": [
            "Downloading...\n",
            "From (original): https://drive.google.com/uc?id=1KY6avD5I1eI2dxQzMkR3WExwKwRq2g94&export=download\n",
            "From (redirected): https://drive.google.com/uc?id=1KY6avD5I1eI2dxQzMkR3WExwKwRq2g94&export=download&confirm=t&uuid=b257ba88-c9b5-4ca2-9e12-3d3a8a5cfe98\n",
            "To: /content/gloveembedding.pkl\n",
            "100%|██████████| 525M/525M [00:04<00:00, 111MB/s]\n"
          ]
        }
      ]
    },
    {
      "cell_type": "code",
      "source": [
        "# Generamos una clase que me permita manipularlos\n",
        "class WordsEmbeddings(object):\n",
        "    logger = logging.getLogger(__name__)\n",
        "\n",
        "    def __init__(self):\n",
        "        # load the embeddings\n",
        "        words_embedding_pkl = Path(self.PKL_PATH)\n",
        "        if not words_embedding_pkl.is_file():\n",
        "            words_embedding_txt = Path(self.WORD_TO_VEC_MODEL_TXT_PATH)\n",
        "            assert words_embedding_txt.is_file(), 'Words embedding not available'\n",
        "            embeddings = self.convert_model_to_pickle()\n",
        "        else:\n",
        "            embeddings = self.load_model_from_pickle()\n",
        "        self.embeddings = embeddings\n",
        "        # build the vocabulary hashmap\n",
        "        index = np.arange(self.embeddings.shape[0])\n",
        "        # Dicctionarios para traducir de embedding a IDX de la palabra\n",
        "        self.word2idx = dict(zip(self.embeddings['word'], index))\n",
        "        self.idx2word = dict(zip(index, self.embeddings['word']))\n",
        "\n",
        "    def get_words_embeddings(self, words):\n",
        "        words_idxs = self.words2idxs(words)\n",
        "        return self.embeddings[words_idxs]['embedding']\n",
        "\n",
        "    def words2idxs(self, words):\n",
        "        return np.array([self.word2idx.get(word, -1) for word in words])\n",
        "\n",
        "    def idxs2words(self, idxs):\n",
        "        return np.array([self.idx2word.get(idx, '-1') for idx in idxs])\n",
        "\n",
        "    def load_model_from_pickle(self):\n",
        "        self.logger.debug(\n",
        "            'loading words embeddings from pickle {}'.format(\n",
        "                self.PKL_PATH\n",
        "            )\n",
        "        )\n",
        "        max_bytes = 2**28 - 1 # 256MB\n",
        "        bytes_in = bytearray(0)\n",
        "        input_size = os.path.getsize(self.PKL_PATH)\n",
        "        with open(self.PKL_PATH, 'rb') as f_in:\n",
        "            for _ in range(0, input_size, max_bytes):\n",
        "                bytes_in += f_in.read(max_bytes)\n",
        "        embeddings = pickle.loads(bytes_in)\n",
        "        self.logger.debug('words embeddings loaded')\n",
        "        return embeddings\n",
        "\n",
        "    def convert_model_to_pickle(self):\n",
        "        # create a numpy strctured array:\n",
        "        # word     embedding\n",
        "        # U50      np.float32[]\n",
        "        # word_1   a, b, c\n",
        "        # word_2   d, e, f\n",
        "        # ...\n",
        "        # word_n   g, h, i\n",
        "        self.logger.debug(\n",
        "            'converting and loading words embeddings from text file {}'.format(\n",
        "                self.WORD_TO_VEC_MODEL_TXT_PATH\n",
        "            )\n",
        "        )\n",
        "        structure = [('word', np.dtype('U' + str(self.WORD_MAX_SIZE))),\n",
        "                     ('embedding', np.float32, (self.N_FEATURES,))]\n",
        "        structure = np.dtype(structure)\n",
        "        # load numpy array from disk using a generator\n",
        "        with open(self.WORD_TO_VEC_MODEL_TXT_PATH, encoding=\"utf8\") as words_embeddings_txt:\n",
        "            embeddings_gen = (\n",
        "                (line.split()[0], line.split()[1:]) for line in words_embeddings_txt\n",
        "                if len(line.split()[1:]) == self.N_FEATURES\n",
        "            )\n",
        "            embeddings = np.fromiter(embeddings_gen, structure)\n",
        "        # add a null embedding\n",
        "        null_embedding = np.array(\n",
        "            [('null_embedding', np.zeros((self.N_FEATURES,), dtype=np.float32))],\n",
        "            dtype=structure\n",
        "        )\n",
        "        embeddings = np.concatenate([embeddings, null_embedding])\n",
        "        # dump numpy array to disk using pickle\n",
        "        max_bytes = 2**28 - 1 # # 256MB\n",
        "        bytes_out = pickle.dumps(embeddings, protocol=pickle.HIGHEST_PROTOCOL)\n",
        "        with open(self.PKL_PATH, 'wb') as f_out:\n",
        "            for idx in range(0, len(bytes_out), max_bytes):\n",
        "                f_out.write(bytes_out[idx:idx+max_bytes])\n",
        "        self.logger.debug('words embeddings loaded')\n",
        "        return embeddings"
      ],
      "metadata": {
        "id": "-LsAaJLd0oCO"
      },
      "execution_count": 24,
      "outputs": []
    },
    {
      "cell_type": "code",
      "source": [
        "# Generamos la clase para manipular un embedding de GloVe\n",
        "class GloveEmbeddings(WordsEmbeddings):\n",
        "    WORD_TO_VEC_MODEL_TXT_PATH = 'glove.twitter.27B.50d.txt'\n",
        "    PKL_PATH = 'gloveembedding.pkl'\n",
        "    N_FEATURES = 50\n",
        "    WORD_MAX_SIZE = 60"
      ],
      "metadata": {
        "id": "l8G9_RJz0n-V"
      },
      "execution_count": 25,
      "outputs": []
    },
    {
      "cell_type": "code",
      "source": [
        "# Generamos una instancia de la clase\n",
        "model_embeddings = GloveEmbeddings()"
      ],
      "metadata": {
        "id": "uyrQD-WK2SW6"
      },
      "execution_count": 26,
      "outputs": []
    },
    {
      "cell_type": "code",
      "source": [
        "# Definimos una función que genere la matriz de embeddings\n",
        "def EmbeddingsMatrix(model, word2idx):\n",
        "  embed_dim = model.N_FEATURES\n",
        "  words_not_found = []\n",
        "\n",
        "  nb_words = min(MAX_VOCAB_SIZE, len(word2idx) + 1)\n",
        "  embedding_matrix = np.zeros((nb_words, embed_dim))\n",
        "\n",
        "  for word, i in word2idx.items():\n",
        "      if i > nb_words:\n",
        "          print('Se alcanzó la cantidad máxima de palabras')\n",
        "          break\n",
        "\n",
        "      embedding_vector = model_embeddings.get_words_embeddings(word)[0]\n",
        "      if (embedding_vector is not None) and len(embedding_vector) > 0:\n",
        "          embedding_matrix[i] = embedding_vector\n",
        "      else:\n",
        "          # words not found in embedding index will be all-zeros.\n",
        "          words_not_found.append(word)\n",
        "\n",
        "  print('Palabras no encontradas', words_not_found)\n",
        "  print('Cantidad de embeddings nulos:', np.sum(np.sum(embedding_matrix**2, axis=1) == 0))\n",
        "  print('Shape de la matriz de embeddings:', embedding_matrix.shape)\n",
        "\n",
        "  return embedding_matrix"
      ],
      "metadata": {
        "id": "QIkhKnFm2SRs"
      },
      "execution_count": 27,
      "outputs": []
    },
    {
      "cell_type": "code",
      "source": [
        "# Generamos con esta función las matrices de embeddings de input y output\n",
        "encoder_embedding_matrix = EmbeddingsMatrix(model_embeddings, word2idx_input)"
      ],
      "metadata": {
        "colab": {
          "base_uri": "https://localhost:8080/"
        },
        "id": "9ELY2c2c2SKK",
        "outputId": "1fa48e01-718d-4c6c-d815-e4c42fc6c9da"
      },
      "execution_count": 28,
      "outputs": [
        {
          "output_type": "stream",
          "name": "stdout",
          "text": [
            "Palabras no encontradas []\n",
            "Cantidad de embeddings nulos: 38\n",
            "Shape de la matriz de embeddings: (1800, 50)\n"
          ]
        }
      ]
    },
    {
      "cell_type": "code",
      "source": [
        "# Generamos la matriz del output\n",
        "decoder_embedding_matrix = EmbeddingsMatrix(model_embeddings, word2idx_output)"
      ],
      "metadata": {
        "colab": {
          "base_uri": "https://localhost:8080/"
        },
        "id": "uCFlJnIB2SC4",
        "outputId": "fa6d0780-baea-4cbf-d3b2-470eb26e204f"
      },
      "execution_count": 29,
      "outputs": [
        {
          "output_type": "stream",
          "name": "stdout",
          "text": [
            "Palabras no encontradas []\n",
            "Cantidad de embeddings nulos: 42\n",
            "Shape de la matriz de embeddings: (1807, 50)\n"
          ]
        }
      ]
    },
    {
      "cell_type": "markdown",
      "metadata": {
        "id": "3vKbhjtIwPgM"
      },
      "source": [
        "## Entrenar el modelo\n",
        "Entrenar un modelo basado en el esquema encoder-decoder utilizando los datos generados en los puntos anteriores. Utilce como referencias los ejemplos vistos en clase."
      ]
    },
    {
      "cell_type": "code",
      "source": [
        "# Definimos los parámetros de configuración\n",
        "nb_words_input = min(MAX_VOCAB_SIZE, len(word2idx_input) + 1)\n",
        "nb_words_output = min(MAX_VOCAB_SIZE, len(word2idx_output) + 1)\n",
        "n_units = 128\n",
        "dropout_p = 0.3\n",
        "layer2_n_units = 32"
      ],
      "metadata": {
        "id": "4a9eMQpp31iT"
      },
      "execution_count": 30,
      "outputs": []
    },
    {
      "cell_type": "markdown",
      "source": [
        "### Encoder"
      ],
      "metadata": {
        "id": "iTgNV_l26iVd"
      }
    },
    {
      "cell_type": "code",
      "source": [
        "# Definición de las capas\n",
        "# Input\n",
        "encoder_inputs = Input(shape=(input_len))\n",
        "\n",
        "# Embedding\n",
        "encoder_embedding_layer = Embedding(\n",
        "          input_dim=nb_words_input,\n",
        "          output_dim=model_embeddings.N_FEATURES,\n",
        "          input_length=input_len,\n",
        "          weights=[encoder_embedding_matrix],\n",
        "          trainable=False)\n",
        "\n",
        "# Bloque LSTM\n",
        "encoder_lstm_1 = LSTM(n_units, return_sequences=True, return_state=True)\n",
        "encoder_dropout_1 = Dropout(dropout_p)\n",
        "encoder_lstm_2 = LSTM(layer2_n_units, return_state=True)\n",
        "\n",
        "# Conexión entre las de capas\n",
        "encoder_inputs_x = encoder_embedding_layer(encoder_inputs)\n",
        "encoder_output_lstm1, state_h_1, state_c_1 = encoder_lstm_1(encoder_inputs_x)\n",
        "_, state_h_2, state_c_2 = encoder_lstm_2(encoder_dropout_1(encoder_output_lstm1))\n",
        "\n",
        "# Generación de states\n",
        "encoder_states_l1 = [state_h_1, state_c_1]\n",
        "encoder_states_l2 = [state_h_2, state_c_2]\n",
        "encoder_states = encoder_states_l1 + encoder_states_l2"
      ],
      "metadata": {
        "id": "_FsTqejp31dF"
      },
      "execution_count": 31,
      "outputs": []
    },
    {
      "cell_type": "markdown",
      "source": [
        "### Decoder"
      ],
      "metadata": {
        "id": "GyZh6pKm6gDE"
      }
    },
    {
      "cell_type": "code",
      "source": [
        "# Definición de las capas\n",
        "# Input\n",
        "decoder_inputs = Input(shape=(output_len))\n",
        "\n",
        "# Embedding\n",
        "decoder_embedding_layer = Embedding(\n",
        "          input_dim=nb_words_output,\n",
        "          output_dim=model_embeddings.N_FEATURES,\n",
        "          input_length=output_len,\n",
        "          weights=[decoder_embedding_matrix],\n",
        "          trainable=False)\n",
        "\n",
        "# Bloque LSTM\n",
        "decoder_lstm_1 = LSTM(n_units, return_sequences=True, return_state=True)\n",
        "decoder_dopout_1 = Dropout(dropout_p)\n",
        "decoder_lstm_2 = LSTM(layer2_n_units, return_sequences=True, return_state=True)\n",
        "\n",
        "# Capa densa o fully connected\n",
        "decoder_dense = Dense(num_words_output, activation='softmax')\n",
        "\n",
        "# Conexión entre las de capas\n",
        "decoder_inputs_x = decoder_embedding_layer(decoder_inputs)\n",
        "decoder_lstm_1_output, _, _ = decoder_lstm_1(decoder_inputs_x, initial_state=encoder_states_l1)\n",
        "decoder_lstm_2_output, _, _ = decoder_lstm_2(decoder_dopout_1(decoder_lstm_1_output), initial_state=encoder_states_l2)\n",
        "decoder_outputs = decoder_dense(decoder_lstm_2_output)"
      ],
      "metadata": {
        "id": "xw2pgGfz31X6"
      },
      "execution_count": 32,
      "outputs": []
    },
    {
      "cell_type": "markdown",
      "source": [
        "### Modelo completo"
      ],
      "metadata": {
        "id": "z4pNUmOd74P2"
      }
    },
    {
      "cell_type": "code",
      "source": [
        "# Generamos\n",
        "model = Model([encoder_inputs, decoder_inputs], decoder_outputs)\n",
        "model.compile(loss='categorical_crossentropy', optimizer=\"Adam\", metrics=['accuracy'])\n",
        "\n",
        "# Obtenemos el summary\n",
        "model.summary()"
      ],
      "metadata": {
        "colab": {
          "base_uri": "https://localhost:8080/"
        },
        "id": "89udy26k31RW",
        "outputId": "22073f6d-2fd6-4b63-d9e6-8834792a0894"
      },
      "execution_count": 33,
      "outputs": [
        {
          "output_type": "stream",
          "name": "stdout",
          "text": [
            "Model: \"model\"\n",
            "__________________________________________________________________________________________________\n",
            " Layer (type)                Output Shape                 Param #   Connected to                  \n",
            "==================================================================================================\n",
            " input_1 (InputLayer)        [(None, 9)]                  0         []                            \n",
            "                                                                                                  \n",
            " input_2 (InputLayer)        [(None, 10)]                 0         []                            \n",
            "                                                                                                  \n",
            " embedding (Embedding)       (None, 9, 50)                90000     ['input_1[0][0]']             \n",
            "                                                                                                  \n",
            " embedding_1 (Embedding)     (None, 10, 50)               90350     ['input_2[0][0]']             \n",
            "                                                                                                  \n",
            " lstm (LSTM)                 [(None, 9, 128),             91648     ['embedding[0][0]']           \n",
            "                              (None, 128),                                                        \n",
            "                              (None, 128)]                                                        \n",
            "                                                                                                  \n",
            " lstm_2 (LSTM)               [(None, 10, 128),            91648     ['embedding_1[0][0]',         \n",
            "                              (None, 128),                           'lstm[0][1]',                \n",
            "                              (None, 128)]                           'lstm[0][2]']                \n",
            "                                                                                                  \n",
            " dropout (Dropout)           (None, 9, 128)               0         ['lstm[0][0]']                \n",
            "                                                                                                  \n",
            " dropout_1 (Dropout)         (None, 10, 128)              0         ['lstm_2[0][0]']              \n",
            "                                                                                                  \n",
            " lstm_1 (LSTM)               [(None, 32),                 20608     ['dropout[0][0]']             \n",
            "                              (None, 32),                                                         \n",
            "                              (None, 32)]                                                         \n",
            "                                                                                                  \n",
            " lstm_3 (LSTM)               [(None, 10, 32),             20608     ['dropout_1[0][0]',           \n",
            "                              (None, 32),                            'lstm_1[0][1]',              \n",
            "                              (None, 32)]                            'lstm_1[0][2]']              \n",
            "                                                                                                  \n",
            " dense (Dense)               (None, 10, 1807)             59631     ['lstm_3[0][0]']              \n",
            "                                                                                                  \n",
            "==================================================================================================\n",
            "Total params: 464493 (1.77 MB)\n",
            "Trainable params: 284143 (1.08 MB)\n",
            "Non-trainable params: 180350 (704.49 KB)\n",
            "__________________________________________________________________________________________________\n"
          ]
        }
      ]
    },
    {
      "cell_type": "code",
      "source": [
        "# Ploteamos el modelo\n",
        "plot_model(model, to_file='model_plot.png', show_shapes=True, show_layer_names=True)"
      ],
      "metadata": {
        "colab": {
          "base_uri": "https://localhost:8080/",
          "height": 754
        },
        "id": "sEBtJXXB8eVH",
        "outputId": "6baf8aa0-9843-4df4-f22c-76469dc9c8ec"
      },
      "execution_count": 34,
      "outputs": [
        {
          "output_type": "execute_result",
          "data": {
            "image/png": "[encoded data removed]",
            "text/plain": [
              "<IPython.core.display.Image object>"
            ]
          },
          "metadata": {},
          "execution_count": 34
        }
      ]
    },
    {
      "cell_type": "code",
      "source": [
        "# Vemos el encoder\n",
        "encoder_model = Model(encoder_inputs, encoder_states)\n",
        "plot_model(encoder_model, to_file='encoder_plot.png', show_shapes=True, show_layer_names=True)"
      ],
      "metadata": {
        "colab": {
          "base_uri": "https://localhost:8080/",
          "height": 533
        },
        "id": "w-UxF5YX8eMP",
        "outputId": "7c00d3b1-e3b0-475a-b3a9-bc64dcc4179c"
      },
      "execution_count": 35,
      "outputs": [
        {
          "output_type": "execute_result",
          "data": {
            "image/png": "[encoded data removed]",
            "text/plain": [
              "<IPython.core.display.Image object>"
            ]
          },
          "metadata": {},
          "execution_count": 35
        }
      ]
    },
    {
      "cell_type": "code",
      "source": [
        "# Vemos ahora el decoder\n",
        "decoder_state_input_h_1 = Input(shape=(n_units,))\n",
        "decoder_state_input_c_1 = Input(shape=(n_units,))\n",
        "decoder_state_input_h_2 = Input(shape=(layer2_n_units,))\n",
        "decoder_state_input_c_2 = Input(shape=(layer2_n_units,))\n",
        "decoder_states_inputs_1 = [decoder_state_input_h_1, decoder_state_input_c_1]\n",
        "decoder_states_inputs_2 = [decoder_state_input_h_2, decoder_state_input_c_2]\n",
        "decoder_inputs_single = Input(shape=(1,))\n",
        "decoder_inputs_single_x = decoder_embedding_layer(decoder_inputs_single)\n",
        "decoder_lstm_1_output, state_h_1, state_c_1 = decoder_lstm_1(decoder_inputs_single_x, initial_state=decoder_states_inputs_1)\n",
        "decoder_lstm_2_output, state_h_2, state_c_2 = decoder_lstm_2(decoder_lstm_1_output, initial_state=decoder_states_inputs_2)\n",
        "decoder_states_1 = [state_h_1, state_c_1]\n",
        "decoder_states_2 = [state_h_2, state_c_2]\n",
        "decoder_outputs = decoder_dense(decoder_lstm_2_output)\n",
        "decoder_model = Model([decoder_inputs_single] + decoder_states_inputs_1 + decoder_states_inputs_2,\n",
        " [decoder_outputs] + decoder_states_1 + decoder_states_2)\n",
        "\n",
        "plot_model(decoder_model, to_file='decoder_plot.png', show_shapes=True, show_layer_names=True)"
      ],
      "metadata": {
        "colab": {
          "base_uri": "https://localhost:8080/",
          "height": 472
        },
        "id": "oNzf0ImS31Kn",
        "outputId": "16b7f5f5-8321-4b33-d1ad-d44bc1e3b39d"
      },
      "execution_count": 36,
      "outputs": [
        {
          "output_type": "execute_result",
          "data": {
            "image/png": "[encoded data removed]",
            "text/plain": [
              "<IPython.core.display.Image object>"
            ]
          },
          "metadata": {},
          "execution_count": 36
        }
      ]
    },
    {
      "cell_type": "markdown",
      "source": [
        "### Generamos el entrenamiento del modelo"
      ],
      "metadata": {
        "id": "idnoEyxi9NSC"
      }
    },
    {
      "cell_type": "code",
      "source": [
        "hist = model.fit([encoder_input_sequences, decoder_input_sequences],\n",
        "                 decoder_targets, epochs=50, validation_split=0.25)"
      ],
      "metadata": {
        "colab": {
          "base_uri": "https://localhost:8080/"
        },
        "id": "g6CSZxlr9NGm",
        "outputId": "43a58715-6fed-4e82-ec11-de0ea2114559"
      },
      "execution_count": 37,
      "outputs": [
        {
          "output_type": "stream",
          "name": "stdout",
          "text": [
            "Epoch 1/50\n",
            "142/142 [==============================] - 14s 27ms/step - loss: 4.4733 - accuracy: 0.4830 - val_loss: 2.9556 - val_accuracy: 0.5075\n",
            "Epoch 2/50\n",
            "142/142 [==============================] - 3s 19ms/step - loss: 2.7858 - accuracy: 0.4908 - val_loss: 2.6369 - val_accuracy: 0.5075\n",
            "Epoch 3/50\n",
            "142/142 [==============================] - 2s 14ms/step - loss: 2.4600 - accuracy: 0.5142 - val_loss: 2.3773 - val_accuracy: 0.5817\n",
            "Epoch 4/50\n",
            "142/142 [==============================] - 2s 12ms/step - loss: 2.2665 - accuracy: 0.6066 - val_loss: 2.2600 - val_accuracy: 0.6296\n",
            "Epoch 5/50\n",
            "142/142 [==============================] - 2s 13ms/step - loss: 2.1595 - accuracy: 0.6139 - val_loss: 2.1915 - val_accuracy: 0.6297\n",
            "Epoch 6/50\n",
            "142/142 [==============================] - 2s 13ms/step - loss: 2.0837 - accuracy: 0.6170 - val_loss: 2.1367 - val_accuracy: 0.6380\n",
            "Epoch 7/50\n",
            "142/142 [==============================] - 2s 17ms/step - loss: 2.0135 - accuracy: 0.6344 - val_loss: 2.0858 - val_accuracy: 0.6498\n",
            "Epoch 8/50\n",
            "142/142 [==============================] - 3s 19ms/step - loss: 1.9441 - accuracy: 0.6423 - val_loss: 2.0332 - val_accuracy: 0.6581\n",
            "Epoch 9/50\n",
            "142/142 [==============================] - 3s 19ms/step - loss: 1.8779 - accuracy: 0.6692 - val_loss: 1.9887 - val_accuracy: 0.6809\n",
            "Epoch 10/50\n",
            "142/142 [==============================] - 2s 16ms/step - loss: 1.8157 - accuracy: 0.6883 - val_loss: 1.9442 - val_accuracy: 0.6874\n",
            "Epoch 11/50\n",
            "142/142 [==============================] - 2s 13ms/step - loss: 1.7650 - accuracy: 0.6936 - val_loss: 1.9135 - val_accuracy: 0.6913\n",
            "Epoch 12/50\n",
            "142/142 [==============================] - 2s 14ms/step - loss: 1.7247 - accuracy: 0.6972 - val_loss: 1.8921 - val_accuracy: 0.6913\n",
            "Epoch 13/50\n",
            "142/142 [==============================] - 3s 20ms/step - loss: 1.6929 - accuracy: 0.7002 - val_loss: 1.8712 - val_accuracy: 0.6930\n",
            "Epoch 14/50\n",
            "142/142 [==============================] - 2s 17ms/step - loss: 1.6642 - accuracy: 0.7019 - val_loss: 1.8552 - val_accuracy: 0.6947\n",
            "Epoch 15/50\n",
            "142/142 [==============================] - 2s 13ms/step - loss: 1.6383 - accuracy: 0.7041 - val_loss: 1.8459 - val_accuracy: 0.6958\n",
            "Epoch 16/50\n",
            "142/142 [==============================] - 2s 13ms/step - loss: 1.6140 - accuracy: 0.7064 - val_loss: 1.8309 - val_accuracy: 0.6962\n",
            "Epoch 17/50\n",
            "142/142 [==============================] - 2s 13ms/step - loss: 1.5913 - accuracy: 0.7095 - val_loss: 1.8185 - val_accuracy: 0.6979\n",
            "Epoch 18/50\n",
            "142/142 [==============================] - 2s 13ms/step - loss: 1.5710 - accuracy: 0.7132 - val_loss: 1.8102 - val_accuracy: 0.7032\n",
            "Epoch 19/50\n",
            "142/142 [==============================] - 3s 20ms/step - loss: 1.5516 - accuracy: 0.7180 - val_loss: 1.7991 - val_accuracy: 0.7046\n",
            "Epoch 20/50\n",
            "142/142 [==============================] - 2s 14ms/step - loss: 1.5328 - accuracy: 0.7205 - val_loss: 1.7884 - val_accuracy: 0.7054\n",
            "Epoch 21/50\n",
            "142/142 [==============================] - 2s 12ms/step - loss: 1.5172 - accuracy: 0.7214 - val_loss: 1.7833 - val_accuracy: 0.7062\n",
            "Epoch 22/50\n",
            "142/142 [==============================] - 2s 13ms/step - loss: 1.4998 - accuracy: 0.7233 - val_loss: 1.7772 - val_accuracy: 0.7064\n",
            "Epoch 23/50\n",
            "142/142 [==============================] - 2s 14ms/step - loss: 1.4838 - accuracy: 0.7257 - val_loss: 1.7692 - val_accuracy: 0.7080\n",
            "Epoch 24/50\n",
            "142/142 [==============================] - 2s 16ms/step - loss: 1.4691 - accuracy: 0.7281 - val_loss: 1.7598 - val_accuracy: 0.7099\n",
            "Epoch 25/50\n",
            "142/142 [==============================] - 3s 24ms/step - loss: 1.4541 - accuracy: 0.7288 - val_loss: 1.7599 - val_accuracy: 0.7097\n",
            "Epoch 26/50\n",
            "142/142 [==============================] - 4s 25ms/step - loss: 1.4410 - accuracy: 0.7328 - val_loss: 1.7550 - val_accuracy: 0.7117\n",
            "Epoch 27/50\n",
            "142/142 [==============================] - 4s 28ms/step - loss: 1.4274 - accuracy: 0.7339 - val_loss: 1.7501 - val_accuracy: 0.7125\n",
            "Epoch 28/50\n",
            "142/142 [==============================] - 4s 30ms/step - loss: 1.4162 - accuracy: 0.7350 - val_loss: 1.7462 - val_accuracy: 0.7123\n",
            "Epoch 29/50\n",
            "142/142 [==============================] - 2s 13ms/step - loss: 1.4035 - accuracy: 0.7360 - val_loss: 1.7416 - val_accuracy: 0.7139\n",
            "Epoch 30/50\n",
            "142/142 [==============================] - 3s 21ms/step - loss: 1.3917 - accuracy: 0.7387 - val_loss: 1.7416 - val_accuracy: 0.7132\n",
            "Epoch 31/50\n",
            "142/142 [==============================] - 3s 23ms/step - loss: 1.3803 - accuracy: 0.7398 - val_loss: 1.7389 - val_accuracy: 0.7132\n",
            "Epoch 32/50\n",
            "142/142 [==============================] - 4s 26ms/step - loss: 1.3694 - accuracy: 0.7395 - val_loss: 1.7417 - val_accuracy: 0.7150\n",
            "Epoch 33/50\n",
            "142/142 [==============================] - 4s 31ms/step - loss: 1.3591 - accuracy: 0.7420 - val_loss: 1.7340 - val_accuracy: 0.7136\n",
            "Epoch 34/50\n",
            "142/142 [==============================] - 4s 26ms/step - loss: 1.3473 - accuracy: 0.7425 - val_loss: 1.7406 - val_accuracy: 0.7153\n",
            "Epoch 35/50\n",
            "142/142 [==============================] - 4s 28ms/step - loss: 1.3368 - accuracy: 0.7445 - val_loss: 1.7344 - val_accuracy: 0.7163\n",
            "Epoch 36/50\n",
            "142/142 [==============================] - 4s 30ms/step - loss: 1.3266 - accuracy: 0.7452 - val_loss: 1.7339 - val_accuracy: 0.7156\n",
            "Epoch 37/50\n",
            "142/142 [==============================] - 4s 25ms/step - loss: 1.3170 - accuracy: 0.7464 - val_loss: 1.7337 - val_accuracy: 0.7160\n",
            "Epoch 38/50\n",
            "142/142 [==============================] - 3s 25ms/step - loss: 1.3063 - accuracy: 0.7474 - val_loss: 1.7336 - val_accuracy: 0.7141\n",
            "Epoch 39/50\n",
            "142/142 [==============================] - 3s 20ms/step - loss: 1.2979 - accuracy: 0.7487 - val_loss: 1.7359 - val_accuracy: 0.7152\n",
            "Epoch 40/50\n",
            "142/142 [==============================] - 2s 14ms/step - loss: 1.2870 - accuracy: 0.7506 - val_loss: 1.7412 - val_accuracy: 0.7143\n",
            "Epoch 41/50\n",
            "142/142 [==============================] - 2s 13ms/step - loss: 1.2772 - accuracy: 0.7510 - val_loss: 1.7402 - val_accuracy: 0.7149\n",
            "Epoch 42/50\n",
            "142/142 [==============================] - 2s 12ms/step - loss: 1.2676 - accuracy: 0.7514 - val_loss: 1.7371 - val_accuracy: 0.7163\n",
            "Epoch 43/50\n",
            "142/142 [==============================] - 2s 13ms/step - loss: 1.2586 - accuracy: 0.7532 - val_loss: 1.7413 - val_accuracy: 0.7159\n",
            "Epoch 44/50\n",
            "142/142 [==============================] - 2s 14ms/step - loss: 1.2485 - accuracy: 0.7541 - val_loss: 1.7426 - val_accuracy: 0.7150\n",
            "Epoch 45/50\n",
            "142/142 [==============================] - 3s 21ms/step - loss: 1.2400 - accuracy: 0.7551 - val_loss: 1.7463 - val_accuracy: 0.7180\n",
            "Epoch 46/50\n",
            "142/142 [==============================] - 2s 14ms/step - loss: 1.2329 - accuracy: 0.7559 - val_loss: 1.7451 - val_accuracy: 0.7167\n",
            "Epoch 47/50\n",
            "142/142 [==============================] - 2s 13ms/step - loss: 1.2228 - accuracy: 0.7575 - val_loss: 1.7527 - val_accuracy: 0.7176\n",
            "Epoch 48/50\n",
            "142/142 [==============================] - 2s 12ms/step - loss: 1.2155 - accuracy: 0.7567 - val_loss: 1.7510 - val_accuracy: 0.7161\n",
            "Epoch 49/50\n",
            "142/142 [==============================] - 2s 13ms/step - loss: 1.2052 - accuracy: 0.7566 - val_loss: 1.7566 - val_accuracy: 0.7170\n",
            "Epoch 50/50\n",
            "142/142 [==============================] - 2s 14ms/step - loss: 1.1962 - accuracy: 0.7597 - val_loss: 1.7589 - val_accuracy: 0.7152\n"
          ]
        }
      ]
    },
    {
      "cell_type": "code",
      "source": [
        "# Graficamos el historial del entrenamiento\n",
        "epoch_count = range(1, len(hist.history['accuracy']) + 1)\n",
        "sns.lineplot(x=epoch_count,  y=hist.history['loss'], label='train')\n",
        "sns.lineplot(x=epoch_count,  y=hist.history['val_loss'], label='valid')\n",
        "plt.show()"
      ],
      "metadata": {
        "colab": {
          "base_uri": "https://localhost:8080/",
          "height": 430
        },
        "id": "sXRkT8d-_yZt",
        "outputId": "0d35cffc-17ff-4b41-ed96-9b8760a80e1d"
      },
      "execution_count": 38,
      "outputs": [
        {
          "output_type": "display_data",
          "data": {
            "text/plain": [
              "<Figure size 640x480 with 1 Axes>"
            ],
            "image/png": "[encoded data removed]"
          },
          "metadata": {}
        }
      ]
    },
    {
      "cell_type": "markdown",
      "metadata": {
        "id": "Zbwn0ekDy_s2"
      },
      "source": [
        "## Inferencia\n",
        "Experimentar el funcionamiento de su modelo. Recuerde que debe realizar la inferencia de los modelos por separado de encoder y decoder."
      ]
    },
    {
      "cell_type": "code",
      "source": [
        "# Generamos los conversores de índice a palabra:\n",
        "idx2word_input = {v:k for k, v in word2idx_input.items()}\n",
        "idx2word_target = {v:k for k, v in word2idx_output.items()}"
      ],
      "metadata": {
        "id": "KEbuaiQSBH4S"
      },
      "execution_count": 39,
      "outputs": []
    },
    {
      "cell_type": "code",
      "source": [
        "# Definimos una función que nos permita tener la respuesta:\n",
        "def answer_sentence(input_seq):\n",
        "    # Se transforma la sequencia de entrada a los estados \"h\" y \"c\" de la LSTM\n",
        "    # para enviar la primera vez al decoder\n",
        "    states_value = encoder_model.predict(input_seq, verbose=0)\n",
        "\n",
        "    # Se inicializa la secuencia de entrada al decoder como \"<sos>\"\n",
        "    target_seq = np.zeros((1, 1))\n",
        "    target_seq[0, 0] = word2idx_output['<sos>']\n",
        "\n",
        "    # Se obtiene el índice que finaliza la inferencia\n",
        "    eos = word2idx_output['<eos>']\n",
        "\n",
        "    output_sentence = []\n",
        "    for _ in range(output_len):\n",
        "        # Predicción del próximo elemento\n",
        "        output_tokens, h1, c1, h2, c2 = decoder_model.predict([target_seq] + states_value, verbose=0)\n",
        "        idx = np.argmax(output_tokens[0, 0, :])\n",
        "\n",
        "        # Si es \"end of sentece <eos>\" se acaba\n",
        "        if eos == idx:\n",
        "            break\n",
        "\n",
        "        # Transformar idx a palabra\n",
        "        word = ''\n",
        "        if idx > 0:\n",
        "            word = idx2word_target[idx]\n",
        "            output_sentence.append(word)\n",
        "\n",
        "        # Actualizar los estados dada la última predicción\n",
        "        states_value = [h1, c1, h2, c2]\n",
        "\n",
        "        # Actualizar secuencia de entrada con la salida (re-alimentación)\n",
        "        target_seq[0, 0] = idx\n",
        "\n",
        "    return ' '.join(output_sentence)"
      ],
      "metadata": {
        "id": "ku2Jv-2rBHyD"
      },
      "execution_count": 40,
      "outputs": []
    },
    {
      "cell_type": "code",
      "source": [
        "# Generamos una primera revisión\n",
        "i = np.random.choice(len(input_sentences))\n",
        "input_seq = encoder_input_sequences[i:i+1]\n",
        "answering = answer_sentence(input_seq)\n",
        "print('-')\n",
        "print('Input:', input_sentences[i])\n",
        "print('Response:', answering)"
      ],
      "metadata": {
        "colab": {
          "base_uri": "https://localhost:8080/"
        },
        "id": "-kS7ajvHBHtn",
        "outputId": "29797491-ed34-4438-8d50-b8b8733d6079"
      },
      "execution_count": 41,
      "outputs": [
        {
          "output_type": "stream",
          "name": "stdout",
          "text": [
            "-\n",
            "Input: that would be awesome \n",
            "Response: i am a vegan\n"
          ]
        }
      ]
    },
    {
      "cell_type": "code",
      "source": [
        "# Generamos una función que imprima la respuesta a nuestra pregunta:\n",
        "def answer_bot(input):\n",
        "  integer_seq_test = input_tokenizer.texts_to_sequences([input])[0]\n",
        "  encoder_sequence_test = pad_sequences([integer_seq_test], maxlen=max_input_len)\n",
        "  print(f'Question: {input}')\n",
        "  print('A: ',answer_sentence(encoder_sequence_test))"
      ],
      "metadata": {
        "id": "vjbAgRAjBHoI"
      },
      "execution_count": 42,
      "outputs": []
    },
    {
      "cell_type": "code",
      "source": [
        "# Listamos las frases que queremos que nos responda:\n",
        "questions = [\n",
        "    'How is the weather?',\n",
        "    'Where is Argentina located?',\n",
        "    'Where is the cat going?',\n",
        "    'Is Music the answer?',\n",
        "    'Is peanut butter good to health?'\n",
        "]"
      ],
      "metadata": {
        "id": "bPkcm9XqDBeV"
      },
      "execution_count": 43,
      "outputs": []
    },
    {
      "cell_type": "code",
      "source": [
        "# Generamos un loop de respuestas\n",
        "for question in questions:\n",
        "  answer_bot(question)"
      ],
      "metadata": {
        "colab": {
          "base_uri": "https://localhost:8080/"
        },
        "id": "SV1TqKUwDZ5V",
        "outputId": "404e4b9d-ed24-4607-cc94-e3ef7aed15d8"
      },
      "execution_count": 44,
      "outputs": [
        {
          "output_type": "stream",
          "name": "stdout",
          "text": [
            "Question: How is the weather?\n",
            "A:  what do you do for a living\n",
            "Question: Where is Argentina located?\n",
            "A:  i love to go to the beach\n",
            "Question: Where is the cat going?\n",
            "A:  i am a vegan\n",
            "Question: Is Music the answer?\n",
            "A:  what do you do for a living\n",
            "Question: Is peanut butter good to health?\n",
            "A:  what do you do for a living\n"
          ]
        }
      ]
    },
    {
      "cell_type": "markdown",
      "source": [
        "## Conclusión\n",
        "- Se tiene un buen nivel de coherencia en las respuestas pero no puede generar una respuesta directa.\n",
        "- Hay varias respuestas similares.\n",
        "- Para poder mejorar el modelo haría falta poder consumir todo el dataset y todo el vocabulario, pero la cantidad de RAM no es suficiente."
      ],
      "metadata": {
        "id": "tK47cG6HJhTY"
      }
    },
    {
      "cell_type": "code",
      "source": [],
      "metadata": {
        "id": "ZcluOD6JDiwU"
      },
      "execution_count": null,
      "outputs": []
    }
  ],
  "metadata": {
    "accelerator": "GPU",
    "colab": {
      "provenance": [],
      "toc_visible": true,
      "gpuType": "T4"
    },
    "kernelspec": {
      "display_name": "Python 3",
      "name": "python3"
    },
    "language_info": {
      "name": "python",
      "version": "3.10.6"
    },
    "vscode": {
      "interpreter": {
        "hash": "916dbcbb3f70747c44a77c7bcd40155683ae19c65e1c03b4aa3499c5328201f1"
      }
    }
  },
  "nbformat": 4,
  "nbformat_minor": 0
}