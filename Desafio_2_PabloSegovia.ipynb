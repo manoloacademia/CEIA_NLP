{
  "cells": [
    {
      "cell_type": "markdown",
      "metadata": {
        "id": "sZd5yLnnHOK0"
      },
      "source": [
        "<img src=\"https://github.com/hernancontigiani/ceia_memorias_especializacion/raw/master/Figures/logoFIUBA.jpg\" width=\"500\" align=\"center\">\n",
        "\n",
        "\n",
        "# Procesamiento de lenguaje natural\n",
        "## Custom embedddings con Gensim\n",
        "\n"
      ]
    },
    {
      "cell_type": "markdown",
      "metadata": {
        "id": "vA7nqkumo9z9"
      },
      "source": [
        "### Objetivo\n",
        "El objetivo es utilizar documentos / corpus para crear embeddings de palabras basado en ese contexto.\n",
        "\n",
        "Se utilizará el **libro Crimen y Castigo de Fiódor Dostoievski** para generar los embeddings, es decir, que los vectores tendrán la forma en función de como ese libro haya sido escrito."
      ]
    },
    {
      "cell_type": "markdown",
      "source": [
        "## Tarea: Desafío 2\n",
        "\n",
        "- Crear sus propios vectores con Gensim basado en lo visto en clase con otro dataset.\n",
        "- Probar términos de interés y explicar similitudes en el espacio de embeddings (sacar conclusiones entre palabras similitudes y diferencias).\n",
        "- Graficarlos.\n",
        "- Obtener conclusiones."
      ],
      "metadata": {
        "id": "cHWTFtHj8TWP"
      }
    },
    {
      "cell_type": "code",
      "execution_count": 1,
      "metadata": {
        "id": "lFToQs5FK5uZ"
      },
      "outputs": [],
      "source": [
        "import pandas as pd\n",
        "import matplotlib.pyplot as plt\n",
        "import seaborn as sns\n",
        "\n",
        "import multiprocessing\n",
        "from gensim.models import Word2Vec"
      ]
    },
    {
      "cell_type": "markdown",
      "metadata": {
        "id": "g07zJxG7H9vG"
      },
      "source": [
        "### Datos\n",
        "Utilizaremos como dataset canciones de bandas de habla inglesa."
      ]
    },
    {
      "cell_type": "code",
      "source": [
        "from google.colab import drive\n",
        "drive.mount('/content/drive')"
      ],
      "metadata": {
        "colab": {
          "base_uri": "https://localhost:8080/"
        },
        "id": "xHzLmETWBEwP",
        "outputId": "93f2cc98-3f54-4e21-9ae0-19084b070e06"
      },
      "execution_count": 2,
      "outputs": [
        {
          "output_type": "stream",
          "name": "stdout",
          "text": [
            "Mounted at /content/drive\n"
          ]
        }
      ]
    },
    {
      "cell_type": "code",
      "execution_count": 3,
      "metadata": {
        "id": "ticoqYD1Z3I7",
        "colab": {
          "base_uri": "https://localhost:8080/",
          "height": 206
        },
        "outputId": "e476f78c-6798-4cb4-ba88-f3a43792e82a"
      },
      "outputs": [
        {
          "output_type": "execute_result",
          "data": {
            "text/plain": [
              "  The Project Gutenberg eBook of El crimen y el castigo\n",
              "0  This ebook is for the use of anyone anywhere i...   \n",
              "1  most other parts of the world at no cost and w...   \n",
              "2  whatsoever. You may copy it, give it away or r...   \n",
              "3  of the Project Gutenberg License included with...   \n",
              "4  at www.gutenberg.org. If you are not located i...   "
            ],
            "text/html": [
              "\n",
              "  <div id=\"df-99efa051-107f-42f2-8794-745e4ef8accf\" class=\"colab-df-container\">\n",
              "    <div>\n",
              "<style scoped>\n",
              "    .dataframe tbody tr th:only-of-type {\n",
              "        vertical-align: middle;\n",
              "    }\n",
              "\n",
              "    .dataframe tbody tr th {\n",
              "        vertical-align: top;\n",
              "    }\n",
              "\n",
              "    .dataframe thead th {\n",
              "        text-align: right;\n",
              "    }\n",
              "</style>\n",
              "<table border=\"1\" class=\"dataframe\">\n",
              "  <thead>\n",
              "    <tr style=\"text-align: right;\">\n",
              "      <th></th>\n",
              "      <th>The Project Gutenberg eBook of El crimen y el castigo</th>\n",
              "    </tr>\n",
              "  </thead>\n",
              "  <tbody>\n",
              "    <tr>\n",
              "      <th>0</th>\n",
              "      <td>This ebook is for the use of anyone anywhere i...</td>\n",
              "    </tr>\n",
              "    <tr>\n",
              "      <th>1</th>\n",
              "      <td>most other parts of the world at no cost and w...</td>\n",
              "    </tr>\n",
              "    <tr>\n",
              "      <th>2</th>\n",
              "      <td>whatsoever. You may copy it, give it away or r...</td>\n",
              "    </tr>\n",
              "    <tr>\n",
              "      <th>3</th>\n",
              "      <td>of the Project Gutenberg License included with...</td>\n",
              "    </tr>\n",
              "    <tr>\n",
              "      <th>4</th>\n",
              "      <td>at www.gutenberg.org. If you are not located i...</td>\n",
              "    </tr>\n",
              "  </tbody>\n",
              "</table>\n",
              "</div>\n",
              "    <div class=\"colab-df-buttons\">\n",
              "\n",
              "  <div class=\"colab-df-container\">\n",
              "    <button class=\"colab-df-convert\" onclick=\"convertToInteractive('df-99efa051-107f-42f2-8794-745e4ef8accf')\"\n",
              "            title=\"Convert this dataframe to an interactive table.\"\n",
              "            style=\"display:none;\">\n",
              "\n",
              "  <svg xmlns=\"http://www.w3.org/2000/svg\" height=\"24px\" viewBox=\"0 -960 960 960\">\n",
              "    <path d=\"M120-120v-720h720v720H120Zm60-500h600v-160H180v160Zm220 220h160v-160H400v160Zm0 220h160v-160H400v160ZM180-400h160v-160H180v160Zm440 0h160v-160H620v160ZM180-180h160v-160H180v160Zm440 0h160v-160H620v160Z\"/>\n",
              "  </svg>\n",
              "    </button>\n",
              "\n",
              "  <style>\n",
              "    .colab-df-container {\n",
              "      display:flex;\n",
              "      gap: 12px;\n",
              "    }\n",
              "\n",
              "    .colab-df-convert {\n",
              "      background-color: #E8F0FE;\n",
              "      border: none;\n",
              "      border-radius: 50%;\n",
              "      cursor: pointer;\n",
              "      display: none;\n",
              "      fill: #1967D2;\n",
              "      height: 32px;\n",
              "      padding: 0 0 0 0;\n",
              "      width: 32px;\n",
              "    }\n",
              "\n",
              "    .colab-df-convert:hover {\n",
              "      background-color: #E2EBFA;\n",
              "      box-shadow: 0px 1px 2px rgba(60, 64, 67, 0.3), 0px 1px 3px 1px rgba(60, 64, 67, 0.15);\n",
              "      fill: #174EA6;\n",
              "    }\n",
              "\n",
              "    .colab-df-buttons div {\n",
              "      margin-bottom: 4px;\n",
              "    }\n",
              "\n",
              "    [theme=dark] .colab-df-convert {\n",
              "      background-color: #3B4455;\n",
              "      fill: #D2E3FC;\n",
              "    }\n",
              "\n",
              "    [theme=dark] .colab-df-convert:hover {\n",
              "      background-color: #434B5C;\n",
              "      box-shadow: 0px 1px 3px 1px rgba(0, 0, 0, 0.15);\n",
              "      filter: drop-shadow(0px 1px 2px rgba(0, 0, 0, 0.3));\n",
              "      fill: #FFFFFF;\n",
              "    }\n",
              "  </style>\n",
              "\n",
              "    <script>\n",
              "      const buttonEl =\n",
              "        document.querySelector('#df-99efa051-107f-42f2-8794-745e4ef8accf button.colab-df-convert');\n",
              "      buttonEl.style.display =\n",
              "        google.colab.kernel.accessAllowed ? 'block' : 'none';\n",
              "\n",
              "      async function convertToInteractive(key) {\n",
              "        const element = document.querySelector('#df-99efa051-107f-42f2-8794-745e4ef8accf');\n",
              "        const dataTable =\n",
              "          await google.colab.kernel.invokeFunction('convertToInteractive',\n",
              "                                                    [key], {});\n",
              "        if (!dataTable) return;\n",
              "\n",
              "        const docLinkHtml = 'Like what you see? Visit the ' +\n",
              "          '<a target=\"_blank\" href=https://colab.research.google.com/notebooks/data_table.ipynb>data table notebook</a>'\n",
              "          + ' to learn more about interactive tables.';\n",
              "        element.innerHTML = '';\n",
              "        dataTable['output_type'] = 'display_data';\n",
              "        await google.colab.output.renderOutput(dataTable, element);\n",
              "        const docLink = document.createElement('div');\n",
              "        docLink.innerHTML = docLinkHtml;\n",
              "        element.appendChild(docLink);\n",
              "      }\n",
              "    </script>\n",
              "  </div>\n",
              "\n",
              "\n",
              "<div id=\"df-d9894b52-e52b-4474-9ee0-eb739ef5d98a\">\n",
              "  <button class=\"colab-df-quickchart\" onclick=\"quickchart('df-d9894b52-e52b-4474-9ee0-eb739ef5d98a')\"\n",
              "            title=\"Suggest charts\"\n",
              "            style=\"display:none;\">\n",
              "\n",
              "<svg xmlns=\"http://www.w3.org/2000/svg\" height=\"24px\"viewBox=\"0 0 24 24\"\n",
              "     width=\"24px\">\n",
              "    <g>\n",
              "        <path d=\"M19 3H5c-1.1 0-2 .9-2 2v14c0 1.1.9 2 2 2h14c1.1 0 2-.9 2-2V5c0-1.1-.9-2-2-2zM9 17H7v-7h2v7zm4 0h-2V7h2v10zm4 0h-2v-4h2v4z\"/>\n",
              "    </g>\n",
              "</svg>\n",
              "  </button>\n",
              "\n",
              "<style>\n",
              "  .colab-df-quickchart {\n",
              "      --bg-color: #E8F0FE;\n",
              "      --fill-color: #1967D2;\n",
              "      --hover-bg-color: #E2EBFA;\n",
              "      --hover-fill-color: #174EA6;\n",
              "      --disabled-fill-color: #AAA;\n",
              "      --disabled-bg-color: #DDD;\n",
              "  }\n",
              "\n",
              "  [theme=dark] .colab-df-quickchart {\n",
              "      --bg-color: #3B4455;\n",
              "      --fill-color: #D2E3FC;\n",
              "      --hover-bg-color: #434B5C;\n",
              "      --hover-fill-color: #FFFFFF;\n",
              "      --disabled-bg-color: #3B4455;\n",
              "      --disabled-fill-color: #666;\n",
              "  }\n",
              "\n",
              "  .colab-df-quickchart {\n",
              "    background-color: var(--bg-color);\n",
              "    border: none;\n",
              "    border-radius: 50%;\n",
              "    cursor: pointer;\n",
              "    display: none;\n",
              "    fill: var(--fill-color);\n",
              "    height: 32px;\n",
              "    padding: 0;\n",
              "    width: 32px;\n",
              "  }\n",
              "\n",
              "  .colab-df-quickchart:hover {\n",
              "    background-color: var(--hover-bg-color);\n",
              "    box-shadow: 0 1px 2px rgba(60, 64, 67, 0.3), 0 1px 3px 1px rgba(60, 64, 67, 0.15);\n",
              "    fill: var(--button-hover-fill-color);\n",
              "  }\n",
              "\n",
              "  .colab-df-quickchart-complete:disabled,\n",
              "  .colab-df-quickchart-complete:disabled:hover {\n",
              "    background-color: var(--disabled-bg-color);\n",
              "    fill: var(--disabled-fill-color);\n",
              "    box-shadow: none;\n",
              "  }\n",
              "\n",
              "  .colab-df-spinner {\n",
              "    border: 2px solid var(--fill-color);\n",
              "    border-color: transparent;\n",
              "    border-bottom-color: var(--fill-color);\n",
              "    animation:\n",
              "      spin 1s steps(1) infinite;\n",
              "  }\n",
              "\n",
              "  @keyframes spin {\n",
              "    0% {\n",
              "      border-color: transparent;\n",
              "      border-bottom-color: var(--fill-color);\n",
              "      border-left-color: var(--fill-color);\n",
              "    }\n",
              "    20% {\n",
              "      border-color: transparent;\n",
              "      border-left-color: var(--fill-color);\n",
              "      border-top-color: var(--fill-color);\n",
              "    }\n",
              "    30% {\n",
              "      border-color: transparent;\n",
              "      border-left-color: var(--fill-color);\n",
              "      border-top-color: var(--fill-color);\n",
              "      border-right-color: var(--fill-color);\n",
              "    }\n",
              "    40% {\n",
              "      border-color: transparent;\n",
              "      border-right-color: var(--fill-color);\n",
              "      border-top-color: var(--fill-color);\n",
              "    }\n",
              "    60% {\n",
              "      border-color: transparent;\n",
              "      border-right-color: var(--fill-color);\n",
              "    }\n",
              "    80% {\n",
              "      border-color: transparent;\n",
              "      border-right-color: var(--fill-color);\n",
              "      border-bottom-color: var(--fill-color);\n",
              "    }\n",
              "    90% {\n",
              "      border-color: transparent;\n",
              "      border-bottom-color: var(--fill-color);\n",
              "    }\n",
              "  }\n",
              "</style>\n",
              "\n",
              "  <script>\n",
              "    async function quickchart(key) {\n",
              "      const quickchartButtonEl =\n",
              "        document.querySelector('#' + key + ' button');\n",
              "      quickchartButtonEl.disabled = true;  // To prevent multiple clicks.\n",
              "      quickchartButtonEl.classList.add('colab-df-spinner');\n",
              "      try {\n",
              "        const charts = await google.colab.kernel.invokeFunction(\n",
              "            'suggestCharts', [key], {});\n",
              "      } catch (error) {\n",
              "        console.error('Error during call to suggestCharts:', error);\n",
              "      }\n",
              "      quickchartButtonEl.classList.remove('colab-df-spinner');\n",
              "      quickchartButtonEl.classList.add('colab-df-quickchart-complete');\n",
              "    }\n",
              "    (() => {\n",
              "      let quickchartButtonEl =\n",
              "        document.querySelector('#df-d9894b52-e52b-4474-9ee0-eb739ef5d98a button');\n",
              "      quickchartButtonEl.style.display =\n",
              "        google.colab.kernel.accessAllowed ? 'block' : 'none';\n",
              "    })();\n",
              "  </script>\n",
              "</div>\n",
              "\n",
              "    </div>\n",
              "  </div>\n"
            ],
            "application/vnd.google.colaboratory.intrinsic+json": {
              "type": "dataframe",
              "variable_name": "df",
              "summary": "{\n  \"name\": \"df\",\n  \"rows\": 17441,\n  \"fields\": [\n    {\n      \"column\": \"The Project Gutenberg eBook of El crimen y el castigo\",\n      \"properties\": {\n        \"dtype\": \"string\",\n        \"num_unique_values\": 17313,\n        \"samples\": [\n          \"se estremeci\\u00f3 y se alteraron sus nervios. Al cabo de un instante se\",\n          \"--\\u00bfEstoy bien despierto?--pens\\u00f3 de nuevo Raskolnikoff, mirando\",\n          \"other parts of the world at no cost and with almost no restrictions\"\n        ],\n        \"semantic_type\": \"\",\n        \"description\": \"\"\n      }\n    }\n  ]\n}"
            }
          },
          "metadata": {},
          "execution_count": 3
        }
      ],
      "source": [
        "# Armar el dataset utilizando salto de línea para separar las oraciones/docs\n",
        "df = pd.read_fwf('/content/drive/MyDrive/Colab Notebooks/CEIA/04 - NLP/crimen_castigo.txt')\n",
        "df.head()"
      ]
    },
    {
      "cell_type": "code",
      "execution_count": 4,
      "metadata": {
        "id": "LEpKubK9XzXN",
        "colab": {
          "base_uri": "https://localhost:8080/"
        },
        "outputId": "ef258049-1491-4241-81eb-deaed3aaed60"
      },
      "outputs": [
        {
          "output_type": "stream",
          "name": "stdout",
          "text": [
            "Cantidad de documentos: 17441\n"
          ]
        }
      ],
      "source": [
        "print(\"Cantidad de documentos:\", df.shape[0])"
      ]
    },
    {
      "cell_type": "markdown",
      "metadata": {
        "id": "ab94qaFlrA1G"
      },
      "source": [
        "### 1 - Preprocesamiento"
      ]
    },
    {
      "cell_type": "code",
      "execution_count": 5,
      "metadata": {
        "id": "rIsmMWmjrDHd"
      },
      "outputs": [],
      "source": [
        "from keras.preprocessing.text import text_to_word_sequence\n",
        "\n",
        "sentence_tokens = []\n",
        "# Recorrer todas las filas y transformar las oraciones\n",
        "# en una secuencia de palabras (esto podría realizarse con NLTK o spaCy también)\n",
        "for _, row in df[:None].iterrows():\n",
        "    sentence_tokens.append(text_to_word_sequence(row[0]))"
      ]
    },
    {
      "cell_type": "code",
      "execution_count": 6,
      "metadata": {
        "id": "CHepi_DGrbhq",
        "colab": {
          "base_uri": "https://localhost:8080/"
        },
        "outputId": "66e413f4-38bc-4982-a1e4-c0c09392e0d6"
      },
      "outputs": [
        {
          "output_type": "execute_result",
          "data": {
            "text/plain": [
              "[['this',\n",
              "  'ebook',\n",
              "  'is',\n",
              "  'for',\n",
              "  'the',\n",
              "  'use',\n",
              "  'of',\n",
              "  'anyone',\n",
              "  'anywhere',\n",
              "  'in',\n",
              "  'the',\n",
              "  'united',\n",
              "  'states',\n",
              "  'and'],\n",
              " ['most',\n",
              "  'other',\n",
              "  'parts',\n",
              "  'of',\n",
              "  'the',\n",
              "  'world',\n",
              "  'at',\n",
              "  'no',\n",
              "  'cost',\n",
              "  'and',\n",
              "  'with',\n",
              "  'almost',\n",
              "  'no',\n",
              "  'restrictions']]"
            ]
          },
          "metadata": {},
          "execution_count": 6
        }
      ],
      "source": [
        "# Demos un vistazo\n",
        "sentence_tokens[:2]"
      ]
    },
    {
      "cell_type": "markdown",
      "metadata": {
        "id": "BaXV6nlHr5Aa"
      },
      "source": [
        "### 2 - Crear los vectores (word2vec)"
      ]
    },
    {
      "cell_type": "code",
      "execution_count": 7,
      "metadata": {
        "id": "OSb0v7h8r7hK"
      },
      "outputs": [],
      "source": [
        "from gensim.models.callbacks import CallbackAny2Vec\n",
        "# Durante el entrenamiento gensim por defecto no informa el \"loss\" en cada época\n",
        "# Sobrecargamos el callback para poder tener esta información\n",
        "class callback(CallbackAny2Vec):\n",
        "    \"\"\"\n",
        "    Callback to print loss after each epoch\n",
        "    \"\"\"\n",
        "    def __init__(self):\n",
        "        self.epoch = 0\n",
        "\n",
        "    def on_epoch_end(self, model):\n",
        "        loss = model.get_latest_training_loss()\n",
        "        if self.epoch == 0:\n",
        "            print('Loss after epoch {}: {}'.format(self.epoch, loss))\n",
        "        else:\n",
        "            print('Loss after epoch {}: {}'.format(self.epoch, loss- self.loss_previous_step))\n",
        "        self.epoch += 1\n",
        "        self.loss_previous_step = loss"
      ]
    },
    {
      "cell_type": "code",
      "execution_count": 8,
      "metadata": {
        "id": "i0wnDdv9sJ47"
      },
      "outputs": [],
      "source": [
        "# Crearmos el modelo generador de vectores\n",
        "# En este caso utilizaremos la estructura modelo Skipgram\n",
        "w2v_model = Word2Vec(min_count=5,    # frecuencia mínima de palabra para incluirla en el vocabulario\n",
        "                     window=2,       # cant de palabras antes y desp de la predicha\n",
        "                     vector_size=300,       # dimensionalidad de los vectores\n",
        "                     negative=20,    # cantidad de negative samples... 0 es no se usa\n",
        "                     workers=1,      # si tienen más cores pueden cambiar este valor\n",
        "                     sg=1)           # modelo 0:CBOW  1:skipgram"
      ]
    },
    {
      "cell_type": "code",
      "execution_count": 9,
      "metadata": {
        "id": "5lTt8wErsf17"
      },
      "outputs": [],
      "source": [
        "# Obtener el vocabulario con los tokens\n",
        "w2v_model.build_vocab(sentence_tokens)"
      ]
    },
    {
      "cell_type": "code",
      "execution_count": 10,
      "metadata": {
        "id": "TNc9qt4os5AT",
        "colab": {
          "base_uri": "https://localhost:8080/"
        },
        "outputId": "6f80239b-60a3-46ce-f45a-8637b8ba166c"
      },
      "outputs": [
        {
          "output_type": "stream",
          "name": "stdout",
          "text": [
            "Cantidad de docs en el corpus: 17441\n"
          ]
        }
      ],
      "source": [
        "# Cantidad de filas/docs encontradas en el corpus\n",
        "print(\"Cantidad de docs en el corpus:\", w2v_model.corpus_count)"
      ]
    },
    {
      "cell_type": "code",
      "execution_count": 11,
      "metadata": {
        "id": "idw9cHF3tSMl",
        "colab": {
          "base_uri": "https://localhost:8080/"
        },
        "outputId": "a73de774-a747-47cb-c989-2c76fe838c57"
      },
      "outputs": [
        {
          "output_type": "stream",
          "name": "stdout",
          "text": [
            "Cantidad de words distintas en el corpus: 3491\n"
          ]
        }
      ],
      "source": [
        "# Cantidad de words encontradas en el corpus\n",
        "print(\"Cantidad de words distintas en el corpus:\", len(w2v_model.wv.index_to_key))"
      ]
    },
    {
      "cell_type": "markdown",
      "metadata": {
        "id": "fC9mZ8DPk-UC"
      },
      "source": [
        "### 3 - Entrenar embeddings"
      ]
    },
    {
      "cell_type": "code",
      "execution_count": 12,
      "metadata": {
        "id": "QSp-x0PAsq56",
        "colab": {
          "base_uri": "https://localhost:8080/"
        },
        "outputId": "39120535-c681-4d3c-caa1-3dfb15b05e30"
      },
      "outputs": [
        {
          "output_type": "stream",
          "name": "stdout",
          "text": [
            "Loss after epoch 0: 1366022.625\n",
            "Loss after epoch 1: 927166.125\n",
            "Loss after epoch 2: 813926.75\n",
            "Loss after epoch 3: 800569.25\n",
            "Loss after epoch 4: 758213.75\n",
            "Loss after epoch 5: 733440.0\n",
            "Loss after epoch 6: 724095.0\n",
            "Loss after epoch 7: 713694.5\n",
            "Loss after epoch 8: 704878.5\n",
            "Loss after epoch 9: 697171.5\n",
            "Loss after epoch 10: 666027.0\n",
            "Loss after epoch 11: 653967.0\n",
            "Loss after epoch 12: 646339.0\n",
            "Loss after epoch 13: 638995.0\n",
            "Loss after epoch 14: 629980.0\n",
            "Loss after epoch 15: 624184.0\n",
            "Loss after epoch 16: 617456.0\n",
            "Loss after epoch 17: 611838.0\n",
            "Loss after epoch 18: 604402.0\n",
            "Loss after epoch 19: 601051.0\n",
            "Loss after epoch 20: 596127.0\n",
            "Loss after epoch 21: 590732.0\n",
            "Loss after epoch 22: 584452.0\n",
            "Loss after epoch 23: 574724.0\n",
            "Loss after epoch 24: 539224.0\n",
            "Loss after epoch 25: 535178.0\n",
            "Loss after epoch 26: 531408.0\n",
            "Loss after epoch 27: 528872.0\n",
            "Loss after epoch 28: 520470.0\n",
            "Loss after epoch 29: 518552.0\n",
            "Loss after epoch 30: 513606.0\n",
            "Loss after epoch 31: 512116.0\n",
            "Loss after epoch 32: 509292.0\n",
            "Loss after epoch 33: 507234.0\n",
            "Loss after epoch 34: 501500.0\n",
            "Loss after epoch 35: 495774.0\n",
            "Loss after epoch 36: 494326.0\n",
            "Loss after epoch 37: 490956.0\n",
            "Loss after epoch 38: 487024.0\n",
            "Loss after epoch 39: 486296.0\n",
            "Loss after epoch 40: 485792.0\n",
            "Loss after epoch 41: 481484.0\n",
            "Loss after epoch 42: 479962.0\n",
            "Loss after epoch 43: 481794.0\n",
            "Loss after epoch 44: 474330.0\n",
            "Loss after epoch 45: 477082.0\n",
            "Loss after epoch 46: 473036.0\n",
            "Loss after epoch 47: 472142.0\n",
            "Loss after epoch 48: 472120.0\n",
            "Loss after epoch 49: 469928.0\n"
          ]
        },
        {
          "output_type": "execute_result",
          "data": {
            "text/plain": [
              "(5664165, 9066300)"
            ]
          },
          "metadata": {},
          "execution_count": 12
        }
      ],
      "source": [
        "# Entrenamos el modelo generador de vectores\n",
        "# Utilizamos nuestro callback\n",
        "w2v_model.train(sentence_tokens,\n",
        "                 total_examples=w2v_model.corpus_count,\n",
        "                 epochs=50, # --> elegimnos 50 para mejorar el loss de solo 20\n",
        "                 compute_loss = True,\n",
        "                 callbacks=[callback()]\n",
        "                 )"
      ]
    },
    {
      "cell_type": "markdown",
      "metadata": {
        "id": "ddT9NVuNlCAe"
      },
      "source": [
        "### 4 - Ensayar"
      ]
    },
    {
      "cell_type": "markdown",
      "source": [
        "#### Personajes\n",
        "- Vamos a entender a algunos de los personajes.\n",
        "- Tomamos el detalle de cada uno desde https://es.wikipedia.org/wiki/Crimen_y_castigo#Personajes y vemos si hay algo de relación usando estos embeddings."
      ],
      "metadata": {
        "id": "4AFSBJna9taQ"
      }
    },
    {
      "cell_type": "code",
      "execution_count": 29,
      "metadata": {
        "id": "6cHN9xGLuPEm",
        "colab": {
          "base_uri": "https://localhost:8080/"
        },
        "outputId": "7078beee-a25a-417c-fb53-cf2b80076c49"
      },
      "outputs": [
        {
          "output_type": "execute_result",
          "data": {
            "text/plain": [
              "[('¡rodia', 0.4681476056575775),\n",
              " ('advierto', 0.4092000424861908),\n",
              " ('bendición', 0.3880685865879059),\n",
              " ('entiendo', 0.3645994961261749),\n",
              " ('querido', 0.36353421211242676),\n",
              " ('acercándose', 0.3627459406852722),\n",
              " ('dunetshka', 0.36102303862571716),\n",
              " ('dices', 0.35543087124824524),\n",
              " ('¡me', 0.3484506607055664),\n",
              " ('pulkeria', 0.347832590341568)]"
            ]
          },
          "metadata": {},
          "execution_count": 29
        }
      ],
      "source": [
        "# Palabras que MÁS se relacionan con...:\n",
        "w2v_model.wv.most_similar(positive=[\"rodia\"], topn=10)"
      ]
    },
    {
      "cell_type": "markdown",
      "source": [
        "- Vemos que sí se identifica con la hermana Dunia (Dunetshka)."
      ],
      "metadata": {
        "id": "YwgR2EYpDMui"
      }
    },
    {
      "cell_type": "code",
      "execution_count": 31,
      "metadata": {
        "id": "47HiU5gdkdMq",
        "colab": {
          "base_uri": "https://localhost:8080/"
        },
        "outputId": "0ae02789-4a57-4d71-8222-741aea86a06c"
      },
      "outputs": [
        {
          "output_type": "execute_result",
          "data": {
            "text/plain": [
              "[('sofía', 0.4425055980682373),\n",
              " ('semenovna', 0.4233628511428833),\n",
              " ('atrevió', 0.39242061972618103),\n",
              " ('inmóvil', 0.3625342547893524),\n",
              " ('hacerla', 0.3550349771976471),\n",
              " ('vacilante', 0.348389208316803),\n",
              " ('cochero', 0.34706634283065796),\n",
              " ('marta', 0.34684106707572937),\n",
              " ('ronca', 0.3467690348625183),\n",
              " ('frunciendo', 0.34326937794685364)]"
            ]
          },
          "metadata": {},
          "execution_count": 31
        }
      ],
      "source": [
        "# Palabras que MENOS se relacionan con...:\n",
        "w2v_model.wv.most_similar(positive=[\"sonia\"], topn=10)"
      ]
    },
    {
      "cell_type": "markdown",
      "source": [
        "- También podemos decir que tiene que ver con su nombre Sofía, siendo Sonia su apodo."
      ],
      "metadata": {
        "id": "K4O-pRwmDn7B"
      }
    },
    {
      "cell_type": "code",
      "execution_count": 40,
      "metadata": {
        "id": "DT4Rvno2mD65",
        "colab": {
          "base_uri": "https://localhost:8080/"
        },
        "outputId": "1fb7b6b7-94dd-475e-9b95-d00129c4d9c0"
      },
      "outputs": [
        {
          "output_type": "execute_result",
          "data": {
            "text/plain": [
              "[('acercándose', 0.3427722156047821),\n",
              " ('llamó', 0.34046465158462524),\n",
              " ('haría', 0.3387398421764374),\n",
              " ('levantar', 0.3341848850250244),\n",
              " ('cortés', 0.3323602080345154),\n",
              " ('temblorosa', 0.32303375005722046),\n",
              " ('suavemente', 0.3203120827674866),\n",
              " ('vendré', 0.3185602128505707),\n",
              " ('sospecha', 0.31687185168266296),\n",
              " ('vacilante', 0.3162606954574585)]"
            ]
          },
          "metadata": {},
          "execution_count": 40
        }
      ],
      "source": [
        "# Palabras que MÁS se relacionan con...:\n",
        "w2v_model.wv.most_similar(positive=[\"dunia\"], topn=10)"
      ]
    },
    {
      "cell_type": "markdown",
      "source": [
        "- Podemos decir que una de las cosas que es este personaje es ser cortés y de principios. Que haría muchas cosas por la familia."
      ],
      "metadata": {
        "id": "skW3v5QTEg1C"
      }
    },
    {
      "cell_type": "markdown",
      "source": [
        "#### Primera Parte\n",
        "- La Primera parte habla de los conflictos que tiene Rodia con la anciana, entonces podemos buscar si tiene que ver la similitud con esto."
      ],
      "metadata": {
        "id": "viXd2txXMpqg"
      }
    },
    {
      "cell_type": "code",
      "source": [
        "# Palabras que MÁS se relacionan con...:\n",
        "w2v_model.wv.most_similar(positive=[\"asesinar\"], topn=10)"
      ],
      "metadata": {
        "colab": {
          "base_uri": "https://localhost:8080/"
        },
        "id": "0pEyoKdFND5L",
        "outputId": "5f205d43-7d92-4d96-b00e-e8fe34bd5a47"
      },
      "execution_count": 59,
      "outputs": [
        {
          "output_type": "execute_result",
          "data": {
            "text/plain": [
              "[('mató', 0.641558051109314),\n",
              " ('hachazos', 0.6349546909332275),\n",
              " ('oración', 0.5482273101806641),\n",
              " ('anciana', 0.5479016304016113),\n",
              " ('matar', 0.543271005153656),\n",
              " ('denunciarse', 0.5406516790390015),\n",
              " ('huir', 0.5073142051696777),\n",
              " ('«porque', 0.5044224858283997),\n",
              " ('nuevos', 0.5042123794555664),\n",
              " ('ayudar', 0.5026456713676453)]"
            ]
          },
          "metadata": {},
          "execution_count": 59
        }
      ]
    },
    {
      "cell_type": "markdown",
      "source": [
        "- Vemos que el asesinato tiene que ver con la anciana."
      ],
      "metadata": {
        "id": "tue3ojBbOC8n"
      }
    },
    {
      "cell_type": "markdown",
      "source": [
        "#### Segunda Parte\n",
        "- Enfermedad o delirio del personaje principal."
      ],
      "metadata": {
        "id": "B2dledujOHSP"
      }
    },
    {
      "cell_type": "code",
      "source": [
        "# Palabras que MÁS se relacionan con...:\n",
        "w2v_model.wv.most_similar(positive=[\"enfermedad\"], topn=10)"
      ],
      "metadata": {
        "colab": {
          "base_uri": "https://localhost:8080/"
        },
        "id": "l20_ZEWXOPTC",
        "outputId": "58e3bbeb-1ba0-4821-88f6-2e4e51ba2523"
      },
      "execution_count": 60,
      "outputs": [
        {
          "output_type": "execute_result",
          "data": {
            "text/plain": [
              "[('hipocondría', 0.47173386812210083),\n",
              " ('deberes', 0.4527125656604767),\n",
              " ('ánimo', 0.44444015622138977),\n",
              " ('coronel', 0.4418908953666687),\n",
              " ('vater', 0.43170273303985596),\n",
              " ('casos', 0.4189532697200775),\n",
              " ('cliente', 0.4108167290687561),\n",
              " ('proceder', 0.40881964564323425),\n",
              " ('juventud', 0.40820151567459106),\n",
              " ('psicológico', 0.40748754143714905)]"
            ]
          },
          "metadata": {},
          "execution_count": 60
        }
      ]
    },
    {
      "cell_type": "markdown",
      "source": [
        "- Tiene que ver con la hipocondría que sufre el personaje."
      ],
      "metadata": {
        "id": "u9oIwTjCOdYw"
      }
    },
    {
      "cell_type": "markdown",
      "source": [
        "#### Tercera Parte\n",
        "- Tiene que ver con la entrevista del personaje principal."
      ],
      "metadata": {
        "id": "5pc3z1IbOvrA"
      }
    },
    {
      "cell_type": "code",
      "source": [
        "# Palabras que MÁS se relacionan con...:\n",
        "w2v_model.wv.most_similar(positive=[\"entrevista\"], topn=10)"
      ],
      "metadata": {
        "colab": {
          "base_uri": "https://localhost:8080/"
        },
        "id": "8m47xVi0O2iw",
        "outputId": "096cb8d8-1b0c-4178-cb54-5b5a454b179b"
      },
      "execution_count": 61,
      "outputs": [
        {
          "output_type": "execute_result",
          "data": {
            "text/plain": [
              "[('preocupación', 0.454860121011734),\n",
              " ('ternura', 0.45182764530181885),\n",
              " ('hipótesis', 0.44893598556518555),\n",
              " ('empresa', 0.44771280884742737),\n",
              " ('ilusión', 0.4386240243911743),\n",
              " ('tranquilidad', 0.43831413984298706),\n",
              " ('contaba', 0.43759408593177795),\n",
              " ('impaciencia', 0.434815913438797),\n",
              " ('pasada', 0.42722970247268677),\n",
              " ('bendición', 0.42561882734298706)]"
            ]
          },
          "metadata": {},
          "execution_count": 61
        }
      ]
    },
    {
      "cell_type": "markdown",
      "source": [
        "- Vemos que cuenta bastante bien como el personaje se siente."
      ],
      "metadata": {
        "id": "j7tlfLKUPBq_"
      }
    },
    {
      "cell_type": "markdown",
      "source": [
        "#### Título del libro\n",
        "- Podemos ver con qué se puede relacionar mejor las palabras del título del libro."
      ],
      "metadata": {
        "id": "LqTWhOCXE7Vr"
      }
    },
    {
      "cell_type": "code",
      "execution_count": 41,
      "metadata": {
        "id": "XPLDPgzBmQXt",
        "colab": {
          "base_uri": "https://localhost:8080/"
        },
        "outputId": "2664ac7b-0114-4ad7-b41e-84e6d08b5555"
      },
      "outputs": [
        {
          "output_type": "execute_result",
          "data": {
            "text/plain": [
              "[('castigo', 0.44349679350852966),\n",
              " ('bajeza', 0.4409492313861847),\n",
              " ('ebook', 0.4216935634613037),\n",
              " ('literary', 0.41405874490737915),\n",
              " ('ambiente', 0.40576669573783875),\n",
              " ('inconveniente', 0.403408944606781),\n",
              " ('autor', 0.3969263732433319),\n",
              " ('cometer', 0.39664629101753235),\n",
              " ('conseguido', 0.3941151201725006),\n",
              " ('material', 0.39339733123779297)]"
            ]
          },
          "metadata": {},
          "execution_count": 41
        }
      ],
      "source": [
        "# Palabras que MÁS se relacionan con...:\n",
        "w2v_model.wv.most_similar(positive=[\"crimen\"], topn=10)"
      ]
    },
    {
      "cell_type": "code",
      "execution_count": 42,
      "metadata": {
        "id": "L_UvHPMMklOr",
        "colab": {
          "base_uri": "https://localhost:8080/"
        },
        "outputId": "387e5b4a-272f-48ce-e58d-b483c09c449a"
      },
      "outputs": [
        {
          "output_type": "execute_result",
          "data": {
            "text/plain": [
              "[('ebook', 0.5908800959587097),\n",
              " ('móvil', 0.5164549946784973),\n",
              " ('by', 0.5094512104988098),\n",
              " ('¡las', 0.5034210085868835),\n",
              " ('suficiente', 0.4962206780910492),\n",
              " ('full', 0.4879506826400757),\n",
              " ('produced', 0.4878753423690796),\n",
              " ('license', 0.48192059993743896),\n",
              " ('using', 0.47848770022392273),\n",
              " ('an', 0.4773859977722168)]"
            ]
          },
          "metadata": {},
          "execution_count": 42
        }
      ],
      "source": [
        "# Palabras que MÁS se relacionan con...:\n",
        "w2v_model.wv.most_similar(positive=[\"castigo\"], topn=10)"
      ]
    },
    {
      "cell_type": "markdown",
      "source": [
        "- Vemos en este caso, que trasciende el texto del libro como tal.\n",
        "- Esto es así ya que al bajar el libro, tiene mucho contenido respecto a la descripción del libro, bajado del proyecto Gutenberg https://www.gutenberg.org/ebooks/61851, más que a lo que dice."
      ],
      "metadata": {
        "id": "3Z_GqOrTFNUs"
      }
    },
    {
      "cell_type": "code",
      "source": [
        "# Revisamos las primeras palabras del texto y vemos que son las que describen el libro\n",
        "df.head(50)"
      ],
      "metadata": {
        "colab": {
          "base_uri": "https://localhost:8080/",
          "height": 1000
        },
        "id": "l2CnHgngLrrb",
        "outputId": "f78c7ef7-703f-4a4a-bf1f-712f8e8680c6"
      },
      "execution_count": 51,
      "outputs": [
        {
          "output_type": "execute_result",
          "data": {
            "text/plain": [
              "   The Project Gutenberg eBook of El crimen y el castigo\n",
              "0   This ebook is for the use of anyone anywhere i...   \n",
              "1   most other parts of the world at no cost and w...   \n",
              "2   whatsoever. You may copy it, give it away or r...   \n",
              "3   of the Project Gutenberg License included with...   \n",
              "4   at www.gutenberg.org. If you are not located i...   \n",
              "5   you will have to check the laws of the country...   \n",
              "6                            before using this eBook.   \n",
              "7                       Title: El crimen y el castigo   \n",
              "8                          Author: Fyodor Dostoyevsky   \n",
              "9                    Translator: Pedro Pedraza y Páez   \n",
              "10        Release date: April 16, 2020 [eBook #61851]   \n",
              "11                                  Language: Spanish   \n",
              "12  Credits: Produced by Carlos Colón, the Univers...   \n",
              "13  Internet Archive and the Online Distributed Pr...   \n",
              "14  Team at https://www.pgdp.net (This book was pr...   \n",
              "15  images made available by the HathiTrust Digita...   \n",
              "16  *** START OF THE PROJECT GUTENBERG EBOOK EL CR...   \n",
              "17  Produced by Carlos Colón, the University of To...   \n",
              "18  Internet Archive and the Online Distributed Pr...   \n",
              "19  Team at https://www.pgdp.net (This book was pr...   \n",
              "20  images made available by the HathiTrust Digita...   \n",
              "21                             Nota del Transcriptor:   \n",
              "22  Se ha respetado la ortografía y la acentuación...   \n",
              "23    Errores obvios de imprenta han sido corregidos.   \n",
              "24             Páginas en blanco han sido eliminadas.   \n",
              "25        Letras itálicas son denotadas con _líneas_.   \n",
              "26  Las versalitas (letras mayúsculas de tamaño ig...   \n",
              "27  han sido sustituidas por letras mayúsculas de ...   \n",
              "28                 Ilustraciones han sido eliminadas.   \n",
              "29                      BIBLIOTECA DE GRANDES NOVELAS   \n",
              "30                                  FEDOR DOSTOIEVSKY   \n",
              "31                                                 EL   \n",
              "32                                CRIMEN Y EL CASTIGO   \n",
              "33                                      TRADUCCIÓN DE   \n",
              "34                               PEDRO PEDRAZA Y PAEZ   \n",
              "35                                      [Ilustración]   \n",
              "36                                          BARCELONA   \n",
              "37                               RAMÓN SOPENA, EDITOR   \n",
              "38                                  PROVENZA, 93 A 97   \n",
              "39                               Derechos reservados.   \n",
              "40  Ramón Sopena, impresor y editor, Provenza, 93 ...   \n",
              "41                             EL CRIMEN Y EL CASTIGO   \n",
              "42                                      PRIMERA PARTE   \n",
              "43                                                  I   \n",
              "44  Una tarde muy calurosa de principios de julio,...   \n",
              "45  ocupaba, junto al techo de una gran casa de ci...   \n",
              "46  lentamente y con aire irresoluto, se dirigió h...   \n",
              "47  Tuvo suerte, al bajar la escalera, de no encon...   \n",
              "48  que habitaba en el piso cuarto, y cuya cocina,...   \n",
              "49  constantemente sin cerrar, daba a la escalera....   "
            ],
            "text/html": [
              "\n",
              "  <div id=\"df-11a0a235-2df4-4fc1-aebd-a0c2ff05cbd3\" class=\"colab-df-container\">\n",
              "    <div>\n",
              "<style scoped>\n",
              "    .dataframe tbody tr th:only-of-type {\n",
              "        vertical-align: middle;\n",
              "    }\n",
              "\n",
              "    .dataframe tbody tr th {\n",
              "        vertical-align: top;\n",
              "    }\n",
              "\n",
              "    .dataframe thead th {\n",
              "        text-align: right;\n",
              "    }\n",
              "</style>\n",
              "<table border=\"1\" class=\"dataframe\">\n",
              "  <thead>\n",
              "    <tr style=\"text-align: right;\">\n",
              "      <th></th>\n",
              "      <th>The Project Gutenberg eBook of El crimen y el castigo</th>\n",
              "    </tr>\n",
              "  </thead>\n",
              "  <tbody>\n",
              "    <tr>\n",
              "      <th>0</th>\n",
              "      <td>This ebook is for the use of anyone anywhere i...</td>\n",
              "    </tr>\n",
              "    <tr>\n",
              "      <th>1</th>\n",
              "      <td>most other parts of the world at no cost and w...</td>\n",
              "    </tr>\n",
              "    <tr>\n",
              "      <th>2</th>\n",
              "      <td>whatsoever. You may copy it, give it away or r...</td>\n",
              "    </tr>\n",
              "    <tr>\n",
              "      <th>3</th>\n",
              "      <td>of the Project Gutenberg License included with...</td>\n",
              "    </tr>\n",
              "    <tr>\n",
              "      <th>4</th>\n",
              "      <td>at www.gutenberg.org. If you are not located i...</td>\n",
              "    </tr>\n",
              "    <tr>\n",
              "      <th>5</th>\n",
              "      <td>you will have to check the laws of the country...</td>\n",
              "    </tr>\n",
              "    <tr>\n",
              "      <th>6</th>\n",
              "      <td>before using this eBook.</td>\n",
              "    </tr>\n",
              "    <tr>\n",
              "      <th>7</th>\n",
              "      <td>Title: El crimen y el castigo</td>\n",
              "    </tr>\n",
              "    <tr>\n",
              "      <th>8</th>\n",
              "      <td>Author: Fyodor Dostoyevsky</td>\n",
              "    </tr>\n",
              "    <tr>\n",
              "      <th>9</th>\n",
              "      <td>Translator: Pedro Pedraza y Páez</td>\n",
              "    </tr>\n",
              "    <tr>\n",
              "      <th>10</th>\n",
              "      <td>Release date: April 16, 2020 [eBook #61851]</td>\n",
              "    </tr>\n",
              "    <tr>\n",
              "      <th>11</th>\n",
              "      <td>Language: Spanish</td>\n",
              "    </tr>\n",
              "    <tr>\n",
              "      <th>12</th>\n",
              "      <td>Credits: Produced by Carlos Colón, the Univers...</td>\n",
              "    </tr>\n",
              "    <tr>\n",
              "      <th>13</th>\n",
              "      <td>Internet Archive and the Online Distributed Pr...</td>\n",
              "    </tr>\n",
              "    <tr>\n",
              "      <th>14</th>\n",
              "      <td>Team at https://www.pgdp.net (This book was pr...</td>\n",
              "    </tr>\n",
              "    <tr>\n",
              "      <th>15</th>\n",
              "      <td>images made available by the HathiTrust Digita...</td>\n",
              "    </tr>\n",
              "    <tr>\n",
              "      <th>16</th>\n",
              "      <td>*** START OF THE PROJECT GUTENBERG EBOOK EL CR...</td>\n",
              "    </tr>\n",
              "    <tr>\n",
              "      <th>17</th>\n",
              "      <td>Produced by Carlos Colón, the University of To...</td>\n",
              "    </tr>\n",
              "    <tr>\n",
              "      <th>18</th>\n",
              "      <td>Internet Archive and the Online Distributed Pr...</td>\n",
              "    </tr>\n",
              "    <tr>\n",
              "      <th>19</th>\n",
              "      <td>Team at https://www.pgdp.net (This book was pr...</td>\n",
              "    </tr>\n",
              "    <tr>\n",
              "      <th>20</th>\n",
              "      <td>images made available by the HathiTrust Digita...</td>\n",
              "    </tr>\n",
              "    <tr>\n",
              "      <th>21</th>\n",
              "      <td>Nota del Transcriptor:</td>\n",
              "    </tr>\n",
              "    <tr>\n",
              "      <th>22</th>\n",
              "      <td>Se ha respetado la ortografía y la acentuación...</td>\n",
              "    </tr>\n",
              "    <tr>\n",
              "      <th>23</th>\n",
              "      <td>Errores obvios de imprenta han sido corregidos.</td>\n",
              "    </tr>\n",
              "    <tr>\n",
              "      <th>24</th>\n",
              "      <td>Páginas en blanco han sido eliminadas.</td>\n",
              "    </tr>\n",
              "    <tr>\n",
              "      <th>25</th>\n",
              "      <td>Letras itálicas son denotadas con _líneas_.</td>\n",
              "    </tr>\n",
              "    <tr>\n",
              "      <th>26</th>\n",
              "      <td>Las versalitas (letras mayúsculas de tamaño ig...</td>\n",
              "    </tr>\n",
              "    <tr>\n",
              "      <th>27</th>\n",
              "      <td>han sido sustituidas por letras mayúsculas de ...</td>\n",
              "    </tr>\n",
              "    <tr>\n",
              "      <th>28</th>\n",
              "      <td>Ilustraciones han sido eliminadas.</td>\n",
              "    </tr>\n",
              "    <tr>\n",
              "      <th>29</th>\n",
              "      <td>BIBLIOTECA DE GRANDES NOVELAS</td>\n",
              "    </tr>\n",
              "    <tr>\n",
              "      <th>30</th>\n",
              "      <td>FEDOR DOSTOIEVSKY</td>\n",
              "    </tr>\n",
              "    <tr>\n",
              "      <th>31</th>\n",
              "      <td>EL</td>\n",
              "    </tr>\n",
              "    <tr>\n",
              "      <th>32</th>\n",
              "      <td>CRIMEN Y EL CASTIGO</td>\n",
              "    </tr>\n",
              "    <tr>\n",
              "      <th>33</th>\n",
              "      <td>TRADUCCIÓN DE</td>\n",
              "    </tr>\n",
              "    <tr>\n",
              "      <th>34</th>\n",
              "      <td>PEDRO PEDRAZA Y PAEZ</td>\n",
              "    </tr>\n",
              "    <tr>\n",
              "      <th>35</th>\n",
              "      <td>[Ilustración]</td>\n",
              "    </tr>\n",
              "    <tr>\n",
              "      <th>36</th>\n",
              "      <td>BARCELONA</td>\n",
              "    </tr>\n",
              "    <tr>\n",
              "      <th>37</th>\n",
              "      <td>RAMÓN SOPENA, EDITOR</td>\n",
              "    </tr>\n",
              "    <tr>\n",
              "      <th>38</th>\n",
              "      <td>PROVENZA, 93 A 97</td>\n",
              "    </tr>\n",
              "    <tr>\n",
              "      <th>39</th>\n",
              "      <td>Derechos reservados.</td>\n",
              "    </tr>\n",
              "    <tr>\n",
              "      <th>40</th>\n",
              "      <td>Ramón Sopena, impresor y editor, Provenza, 93 ...</td>\n",
              "    </tr>\n",
              "    <tr>\n",
              "      <th>41</th>\n",
              "      <td>EL CRIMEN Y EL CASTIGO</td>\n",
              "    </tr>\n",
              "    <tr>\n",
              "      <th>42</th>\n",
              "      <td>PRIMERA PARTE</td>\n",
              "    </tr>\n",
              "    <tr>\n",
              "      <th>43</th>\n",
              "      <td>I</td>\n",
              "    </tr>\n",
              "    <tr>\n",
              "      <th>44</th>\n",
              "      <td>Una tarde muy calurosa de principios de julio,...</td>\n",
              "    </tr>\n",
              "    <tr>\n",
              "      <th>45</th>\n",
              "      <td>ocupaba, junto al techo de una gran casa de ci...</td>\n",
              "    </tr>\n",
              "    <tr>\n",
              "      <th>46</th>\n",
              "      <td>lentamente y con aire irresoluto, se dirigió h...</td>\n",
              "    </tr>\n",
              "    <tr>\n",
              "      <th>47</th>\n",
              "      <td>Tuvo suerte, al bajar la escalera, de no encon...</td>\n",
              "    </tr>\n",
              "    <tr>\n",
              "      <th>48</th>\n",
              "      <td>que habitaba en el piso cuarto, y cuya cocina,...</td>\n",
              "    </tr>\n",
              "    <tr>\n",
              "      <th>49</th>\n",
              "      <td>constantemente sin cerrar, daba a la escalera....</td>\n",
              "    </tr>\n",
              "  </tbody>\n",
              "</table>\n",
              "</div>\n",
              "    <div class=\"colab-df-buttons\">\n",
              "\n",
              "  <div class=\"colab-df-container\">\n",
              "    <button class=\"colab-df-convert\" onclick=\"convertToInteractive('df-11a0a235-2df4-4fc1-aebd-a0c2ff05cbd3')\"\n",
              "            title=\"Convert this dataframe to an interactive table.\"\n",
              "            style=\"display:none;\">\n",
              "\n",
              "  <svg xmlns=\"http://www.w3.org/2000/svg\" height=\"24px\" viewBox=\"0 -960 960 960\">\n",
              "    <path d=\"M120-120v-720h720v720H120Zm60-500h600v-160H180v160Zm220 220h160v-160H400v160Zm0 220h160v-160H400v160ZM180-400h160v-160H180v160Zm440 0h160v-160H620v160ZM180-180h160v-160H180v160Zm440 0h160v-160H620v160Z\"/>\n",
              "  </svg>\n",
              "    </button>\n",
              "\n",
              "  <style>\n",
              "    .colab-df-container {\n",
              "      display:flex;\n",
              "      gap: 12px;\n",
              "    }\n",
              "\n",
              "    .colab-df-convert {\n",
              "      background-color: #E8F0FE;\n",
              "      border: none;\n",
              "      border-radius: 50%;\n",
              "      cursor: pointer;\n",
              "      display: none;\n",
              "      fill: #1967D2;\n",
              "      height: 32px;\n",
              "      padding: 0 0 0 0;\n",
              "      width: 32px;\n",
              "    }\n",
              "\n",
              "    .colab-df-convert:hover {\n",
              "      background-color: #E2EBFA;\n",
              "      box-shadow: 0px 1px 2px rgba(60, 64, 67, 0.3), 0px 1px 3px 1px rgba(60, 64, 67, 0.15);\n",
              "      fill: #174EA6;\n",
              "    }\n",
              "\n",
              "    .colab-df-buttons div {\n",
              "      margin-bottom: 4px;\n",
              "    }\n",
              "\n",
              "    [theme=dark] .colab-df-convert {\n",
              "      background-color: #3B4455;\n",
              "      fill: #D2E3FC;\n",
              "    }\n",
              "\n",
              "    [theme=dark] .colab-df-convert:hover {\n",
              "      background-color: #434B5C;\n",
              "      box-shadow: 0px 1px 3px 1px rgba(0, 0, 0, 0.15);\n",
              "      filter: drop-shadow(0px 1px 2px rgba(0, 0, 0, 0.3));\n",
              "      fill: #FFFFFF;\n",
              "    }\n",
              "  </style>\n",
              "\n",
              "    <script>\n",
              "      const buttonEl =\n",
              "        document.querySelector('#df-11a0a235-2df4-4fc1-aebd-a0c2ff05cbd3 button.colab-df-convert');\n",
              "      buttonEl.style.display =\n",
              "        google.colab.kernel.accessAllowed ? 'block' : 'none';\n",
              "\n",
              "      async function convertToInteractive(key) {\n",
              "        const element = document.querySelector('#df-11a0a235-2df4-4fc1-aebd-a0c2ff05cbd3');\n",
              "        const dataTable =\n",
              "          await google.colab.kernel.invokeFunction('convertToInteractive',\n",
              "                                                    [key], {});\n",
              "        if (!dataTable) return;\n",
              "\n",
              "        const docLinkHtml = 'Like what you see? Visit the ' +\n",
              "          '<a target=\"_blank\" href=https://colab.research.google.com/notebooks/data_table.ipynb>data table notebook</a>'\n",
              "          + ' to learn more about interactive tables.';\n",
              "        element.innerHTML = '';\n",
              "        dataTable['output_type'] = 'display_data';\n",
              "        await google.colab.output.renderOutput(dataTable, element);\n",
              "        const docLink = document.createElement('div');\n",
              "        docLink.innerHTML = docLinkHtml;\n",
              "        element.appendChild(docLink);\n",
              "      }\n",
              "    </script>\n",
              "  </div>\n",
              "\n",
              "\n",
              "<div id=\"df-840e71d2-5a94-46c7-ba12-4d3b137223f1\">\n",
              "  <button class=\"colab-df-quickchart\" onclick=\"quickchart('df-840e71d2-5a94-46c7-ba12-4d3b137223f1')\"\n",
              "            title=\"Suggest charts\"\n",
              "            style=\"display:none;\">\n",
              "\n",
              "<svg xmlns=\"http://www.w3.org/2000/svg\" height=\"24px\"viewBox=\"0 0 24 24\"\n",
              "     width=\"24px\">\n",
              "    <g>\n",
              "        <path d=\"M19 3H5c-1.1 0-2 .9-2 2v14c0 1.1.9 2 2 2h14c1.1 0 2-.9 2-2V5c0-1.1-.9-2-2-2zM9 17H7v-7h2v7zm4 0h-2V7h2v10zm4 0h-2v-4h2v4z\"/>\n",
              "    </g>\n",
              "</svg>\n",
              "  </button>\n",
              "\n",
              "<style>\n",
              "  .colab-df-quickchart {\n",
              "      --bg-color: #E8F0FE;\n",
              "      --fill-color: #1967D2;\n",
              "      --hover-bg-color: #E2EBFA;\n",
              "      --hover-fill-color: #174EA6;\n",
              "      --disabled-fill-color: #AAA;\n",
              "      --disabled-bg-color: #DDD;\n",
              "  }\n",
              "\n",
              "  [theme=dark] .colab-df-quickchart {\n",
              "      --bg-color: #3B4455;\n",
              "      --fill-color: #D2E3FC;\n",
              "      --hover-bg-color: #434B5C;\n",
              "      --hover-fill-color: #FFFFFF;\n",
              "      --disabled-bg-color: #3B4455;\n",
              "      --disabled-fill-color: #666;\n",
              "  }\n",
              "\n",
              "  .colab-df-quickchart {\n",
              "    background-color: var(--bg-color);\n",
              "    border: none;\n",
              "    border-radius: 50%;\n",
              "    cursor: pointer;\n",
              "    display: none;\n",
              "    fill: var(--fill-color);\n",
              "    height: 32px;\n",
              "    padding: 0;\n",
              "    width: 32px;\n",
              "  }\n",
              "\n",
              "  .colab-df-quickchart:hover {\n",
              "    background-color: var(--hover-bg-color);\n",
              "    box-shadow: 0 1px 2px rgba(60, 64, 67, 0.3), 0 1px 3px 1px rgba(60, 64, 67, 0.15);\n",
              "    fill: var(--button-hover-fill-color);\n",
              "  }\n",
              "\n",
              "  .colab-df-quickchart-complete:disabled,\n",
              "  .colab-df-quickchart-complete:disabled:hover {\n",
              "    background-color: var(--disabled-bg-color);\n",
              "    fill: var(--disabled-fill-color);\n",
              "    box-shadow: none;\n",
              "  }\n",
              "\n",
              "  .colab-df-spinner {\n",
              "    border: 2px solid var(--fill-color);\n",
              "    border-color: transparent;\n",
              "    border-bottom-color: var(--fill-color);\n",
              "    animation:\n",
              "      spin 1s steps(1) infinite;\n",
              "  }\n",
              "\n",
              "  @keyframes spin {\n",
              "    0% {\n",
              "      border-color: transparent;\n",
              "      border-bottom-color: var(--fill-color);\n",
              "      border-left-color: var(--fill-color);\n",
              "    }\n",
              "    20% {\n",
              "      border-color: transparent;\n",
              "      border-left-color: var(--fill-color);\n",
              "      border-top-color: var(--fill-color);\n",
              "    }\n",
              "    30% {\n",
              "      border-color: transparent;\n",
              "      border-left-color: var(--fill-color);\n",
              "      border-top-color: var(--fill-color);\n",
              "      border-right-color: var(--fill-color);\n",
              "    }\n",
              "    40% {\n",
              "      border-color: transparent;\n",
              "      border-right-color: var(--fill-color);\n",
              "      border-top-color: var(--fill-color);\n",
              "    }\n",
              "    60% {\n",
              "      border-color: transparent;\n",
              "      border-right-color: var(--fill-color);\n",
              "    }\n",
              "    80% {\n",
              "      border-color: transparent;\n",
              "      border-right-color: var(--fill-color);\n",
              "      border-bottom-color: var(--fill-color);\n",
              "    }\n",
              "    90% {\n",
              "      border-color: transparent;\n",
              "      border-bottom-color: var(--fill-color);\n",
              "    }\n",
              "  }\n",
              "</style>\n",
              "\n",
              "  <script>\n",
              "    async function quickchart(key) {\n",
              "      const quickchartButtonEl =\n",
              "        document.querySelector('#' + key + ' button');\n",
              "      quickchartButtonEl.disabled = true;  // To prevent multiple clicks.\n",
              "      quickchartButtonEl.classList.add('colab-df-spinner');\n",
              "      try {\n",
              "        const charts = await google.colab.kernel.invokeFunction(\n",
              "            'suggestCharts', [key], {});\n",
              "      } catch (error) {\n",
              "        console.error('Error during call to suggestCharts:', error);\n",
              "      }\n",
              "      quickchartButtonEl.classList.remove('colab-df-spinner');\n",
              "      quickchartButtonEl.classList.add('colab-df-quickchart-complete');\n",
              "    }\n",
              "    (() => {\n",
              "      let quickchartButtonEl =\n",
              "        document.querySelector('#df-840e71d2-5a94-46c7-ba12-4d3b137223f1 button');\n",
              "      quickchartButtonEl.style.display =\n",
              "        google.colab.kernel.accessAllowed ? 'block' : 'none';\n",
              "    })();\n",
              "  </script>\n",
              "</div>\n",
              "\n",
              "    </div>\n",
              "  </div>\n"
            ],
            "application/vnd.google.colaboratory.intrinsic+json": {
              "type": "dataframe",
              "variable_name": "df",
              "summary": "{\n  \"name\": \"df\",\n  \"rows\": 17441,\n  \"fields\": [\n    {\n      \"column\": \"The Project Gutenberg eBook of El crimen y el castigo\",\n      \"properties\": {\n        \"dtype\": \"string\",\n        \"num_unique_values\": 17313,\n        \"samples\": [\n          \"se estremeci\\u00f3 y se alteraron sus nervios. Al cabo de un instante se\",\n          \"--\\u00bfEstoy bien despierto?--pens\\u00f3 de nuevo Raskolnikoff, mirando\",\n          \"other parts of the world at no cost and with almost no restrictions\"\n        ],\n        \"semantic_type\": \"\",\n        \"description\": \"\"\n      }\n    }\n  ]\n}"
            }
          },
          "metadata": {},
          "execution_count": 51
        }
      ]
    },
    {
      "cell_type": "markdown",
      "source": [
        "- Recién la primera parte del libro empieza en el row 42, lo cual hace ver que hubiese sido bueno cortar esto del análisis."
      ],
      "metadata": {
        "id": "_J-OyAnsLpJY"
      }
    },
    {
      "cell_type": "code",
      "execution_count": 43,
      "metadata": {
        "id": "jTe_JlLX-F4g",
        "colab": {
          "base_uri": "https://localhost:8080/"
        },
        "outputId": "9e9b8975-b66e-4f51-d23c-c90b3fefb0fa"
      },
      "outputs": [
        {
          "output_type": "stream",
          "name": "stdout",
          "text": [
            "[-4.53214124e-02  2.82939583e-01 -1.55929267e-01 -4.02784228e-01\n",
            " -2.64932871e-01 -4.54302095e-02  3.03710580e-01  4.31576520e-01\n",
            "  2.59137541e-01 -9.99177322e-02  1.86456993e-01 -5.17239273e-01\n",
            " -1.12113014e-01 -6.35536373e-01 -2.15075817e-02 -1.51097149e-01\n",
            "  4.27151233e-01  2.69284576e-01  4.44830745e-01 -5.60064077e-01\n",
            " -7.13104308e-01 -2.09892750e-01  1.59694105e-01  1.61846519e-01\n",
            " -1.70965806e-01  2.15081796e-01  2.31238127e-01 -3.94093767e-02\n",
            " -1.74979582e-01  2.19926193e-01  2.07011893e-01  2.58682579e-01\n",
            " -4.60161641e-02  4.43608046e-01 -1.49647802e-01 -3.09071392e-01\n",
            "  2.62633830e-01 -6.55837059e-01  1.41712546e-01  5.39934397e-01\n",
            " -5.44731431e-02  1.44865260e-01 -5.95771484e-02 -6.61179662e-01\n",
            "  1.52387530e-01 -1.04402363e-01  9.12990630e-01  5.47845423e-01\n",
            "  3.61721247e-01 -2.94709623e-01  2.97008067e-01 -2.76270270e-01\n",
            " -7.50170723e-02  6.50844425e-02 -6.13548517e-01 -1.79101955e-02\n",
            " -4.22723591e-01 -2.15398923e-01 -4.93738838e-02  2.16727987e-01\n",
            " -7.53361434e-02 -3.47483188e-01  1.74077541e-01  3.47415328e-01\n",
            " -3.35792273e-01 -5.00745237e-01  5.48918426e-01 -2.69401878e-01\n",
            "  1.73873395e-01 -1.63384557e-01  2.92721987e-01  4.23062176e-01\n",
            " -2.78009534e-01  1.38383031e-01  5.11657854e-04  1.66258886e-01\n",
            " -2.94081092e-01 -2.49905199e-01  1.74041405e-01  1.60579935e-01\n",
            " -1.00817509e-01  1.19760528e-01  1.65866107e-01  4.66703266e-01\n",
            " -5.13763726e-01 -2.16997474e-01  6.65901959e-01 -3.68372947e-01\n",
            "  8.08849931e-02  1.51897386e-01  4.63907748e-01 -1.21463329e-01\n",
            "  1.49447992e-01 -3.22148323e-01 -2.68232256e-01  1.35999471e-01\n",
            " -1.38317630e-01  1.26214474e-01 -3.22557211e-01  6.93602860e-01\n",
            " -1.29472464e-01  1.38688266e-01  4.65027541e-01  4.20588613e-01\n",
            "  2.14270532e-01 -3.98010075e-01  5.69849089e-02 -4.35553372e-01\n",
            " -3.28651100e-01 -3.30026060e-01 -9.23858136e-02 -2.65432775e-01\n",
            "  1.98947415e-01  1.75991938e-01 -1.17618710e-01 -3.49366009e-01\n",
            " -3.71615529e-01  1.21461198e-01  4.37658727e-01  5.37335098e-01\n",
            "  4.55203176e-01  2.36642897e-01 -5.23335785e-02  8.37166756e-02\n",
            " -3.10042560e-01  2.91945130e-01  2.24404156e-01 -5.39879024e-01\n",
            " -3.09160769e-01 -2.76631594e-01 -8.48094225e-02  1.64553791e-01\n",
            "  8.98814946e-02 -1.25697836e-01  1.97975654e-02 -5.30693680e-02\n",
            " -2.29362063e-02  3.61066945e-02 -4.50544655e-02 -6.24322891e-01\n",
            "  2.87087895e-02  7.44369812e-03  1.70950487e-01  7.79602006e-02\n",
            " -4.51451957e-01 -4.98122483e-01 -1.72306091e-01  1.26172319e-01\n",
            " -4.38728929e-01 -1.39272362e-01 -3.40875573e-02 -2.14068256e-02\n",
            " -5.94101131e-01 -1.31841581e-02 -3.88417006e-01  8.83667395e-02\n",
            " -4.79059756e-01 -1.23527029e-03  1.99311793e-01  7.58121908e-01\n",
            " -2.55560994e-01  5.82984209e-01 -4.52415824e-01 -5.14067374e-02\n",
            " -4.08259220e-02  1.35625139e-01 -5.54951541e-02 -2.48954639e-01\n",
            " -4.65958178e-01  3.31862926e-01 -2.08376616e-01 -2.08667263e-01\n",
            " -4.57756370e-01 -2.30318636e-01  2.39202917e-01 -4.82405387e-02\n",
            "  8.44794452e-01 -4.27129954e-01  8.06558877e-03 -1.31720170e-01\n",
            "  4.57695127e-02 -1.19100302e-01  3.33568633e-01 -4.28712927e-03\n",
            " -1.63721234e-01  2.74627507e-01  3.16243172e-01  3.65496665e-01\n",
            "  1.74379304e-01 -2.59493560e-01 -4.70512845e-02 -1.81310371e-01\n",
            " -1.75440595e-01 -2.75357336e-01 -3.14570963e-02 -1.24310888e-01\n",
            " -4.19648528e-01 -1.56064197e-01  6.14537120e-01 -7.49371409e-01\n",
            " -6.13586865e-02  6.13444746e-01  3.71200323e-01  4.10053469e-02\n",
            " -7.88038135e-01 -1.72721744e-02 -3.83089423e-01  3.95428985e-01\n",
            "  1.56632647e-01 -1.55486301e-01  1.87111005e-01 -3.93275052e-01\n",
            "  2.38410696e-01  6.33274810e-03 -4.83575374e-01  2.22190201e-01\n",
            "  5.87078109e-02 -1.08253956e+00 -4.86395329e-01 -7.76693046e-01\n",
            "  5.48146546e-01  6.05869174e-01 -2.75340736e-01 -3.95448178e-01\n",
            " -2.34581992e-01 -2.90086359e-01  4.78600353e-01 -4.22109067e-02\n",
            " -2.13887468e-01  3.52120469e-03  5.42060256e-01 -4.14633542e-01\n",
            "  9.47493091e-02  3.19181234e-01 -2.53717542e-01  6.14213526e-01\n",
            " -4.59931232e-02 -3.57761204e-01 -5.99680245e-01 -2.89396465e-01\n",
            " -1.27806991e-01 -6.68417990e-01 -1.33182527e-02  6.46526098e-01\n",
            "  2.30107084e-01  2.26386487e-01 -1.19216949e-01  1.22404307e-01\n",
            " -3.88830215e-01  8.58701766e-01 -5.21114826e-01 -1.48823455e-01\n",
            "  1.49983630e-01  2.99796700e-01 -2.52672970e-01 -2.62478828e-01\n",
            "  8.87431562e-01  2.61357367e-01 -1.93195581e-01  1.50181606e-01\n",
            " -2.04617336e-01 -1.51413783e-01  1.75602108e-01 -4.32308525e-01\n",
            "  5.10558374e-02  4.67596084e-01 -1.11955576e-01  5.86483367e-02\n",
            " -8.63199532e-02  2.99699247e-01 -5.81021011e-01 -9.20707881e-01\n",
            " -5.49278744e-02 -2.28251383e-01  2.35971466e-01 -1.43749192e-01\n",
            " -2.19473436e-01 -9.71336290e-02  2.15068623e-01 -1.37649313e-01\n",
            " -1.44403711e-01 -2.49510720e-01 -3.65017615e-02 -2.54412413e-01\n",
            " -5.59071228e-02 -3.23213965e-01 -4.90037143e-01  2.98491955e-01\n",
            " -3.05137128e-01  3.81536543e-01 -3.98540407e-01 -2.34510735e-01\n",
            " -7.40931034e-02 -1.50127709e-01  4.30231661e-01  4.69070703e-01\n",
            "  1.27998531e-01  7.11772591e-02 -3.38086069e-01 -2.83996552e-01]\n"
          ]
        }
      ],
      "source": [
        "# Podemos comparar los vectores numéricos con la búsqueda de palabra per se\n",
        "# el método `get_vector` permite obtener los vectores:\n",
        "vector_rodia = w2v_model.wv.get_vector(\"rodia\")\n",
        "print(vector_rodia)"
      ]
    },
    {
      "cell_type": "code",
      "execution_count": 44,
      "metadata": {
        "id": "XVYdZQwU-F4g",
        "colab": {
          "base_uri": "https://localhost:8080/"
        },
        "outputId": "a638fc32-ce07-438f-cda5-33512e8eaba8"
      },
      "outputs": [
        {
          "output_type": "execute_result",
          "data": {
            "text/plain": [
              "[('rodia', 1.0),\n",
              " ('¡rodia', 0.4681476056575775),\n",
              " ('advierto', 0.4092000424861908),\n",
              " ('bendición', 0.38806861639022827),\n",
              " ('entiendo', 0.3645994961261749),\n",
              " ('querido', 0.36353421211242676),\n",
              " ('acercándose', 0.3627459406852722),\n",
              " ('dunetshka', 0.36102303862571716),\n",
              " ('dices', 0.35543087124824524),\n",
              " ('¡me', 0.3484507203102112)]"
            ]
          },
          "metadata": {},
          "execution_count": 44
        }
      ],
      "source": [
        "# el método `most_similar` también permite comparar a partir de vectores\n",
        "w2v_model.wv.most_similar(vector_rodia)"
      ]
    },
    {
      "cell_type": "code",
      "execution_count": 45,
      "metadata": {
        "id": "HfY-XhGt-F4g",
        "colab": {
          "base_uri": "https://localhost:8080/"
        },
        "outputId": "a95a058c-73be-4e2b-9c7c-c1ced96ec6c0"
      },
      "outputs": [
        {
          "output_type": "execute_result",
          "data": {
            "text/plain": [
              "[('¡rodia', 0.4681476056575775),\n",
              " ('advierto', 0.4092000424861908),\n",
              " ('bendición', 0.3880685865879059),\n",
              " ('entiendo', 0.3645994961261749),\n",
              " ('querido', 0.36353421211242676),\n",
              " ('acercándose', 0.3627459406852722),\n",
              " ('dunetshka', 0.36102303862571716),\n",
              " ('dices', 0.35543087124824524),\n",
              " ('¡me', 0.3484506607055664),\n",
              " ('pulkeria', 0.347832590341568)]"
            ]
          },
          "metadata": {},
          "execution_count": 45
        }
      ],
      "source": [
        "# Comparando con lo visto arriba:\n",
        "w2v_model.wv.most_similar(positive=[\"rodia\"], topn=10)"
      ]
    },
    {
      "cell_type": "markdown",
      "metadata": {
        "id": "_g8UVWe6lFmh"
      },
      "source": [
        "### 5 - Visualizar agrupación de vectores"
      ]
    },
    {
      "cell_type": "code",
      "execution_count": 46,
      "metadata": {
        "id": "pDxEVXAivjr9"
      },
      "outputs": [],
      "source": [
        "from sklearn.decomposition import IncrementalPCA\n",
        "from sklearn.manifold import TSNE\n",
        "import numpy as np\n",
        "\n",
        "def reduce_dimensions(model, num_dimensions = 2 ):\n",
        "\n",
        "    vectors = np.asarray(model.wv.vectors)\n",
        "    labels = np.asarray(model.wv.index_to_key)\n",
        "\n",
        "    tsne = TSNE(n_components=num_dimensions, random_state=0)\n",
        "    vectors = tsne.fit_transform(vectors)\n",
        "\n",
        "    return vectors, labels"
      ]
    },
    {
      "cell_type": "code",
      "execution_count": 47,
      "metadata": {
        "id": "NCCXtDpcugmd",
        "colab": {
          "base_uri": "https://localhost:8080/",
          "height": 542
        },
        "outputId": "ff294691-91a6-447a-cbfe-eade1af8efb5"
      },
      "outputs": [
        {
          "output_type": "display_data",
          "data": {
            "text/html": [
              "<html>\n",
              "<head><meta charset=\"utf-8\" /></head>\n",
              "<body>\n",
              "    <div>            <script src=\"https://cdnjs.cloudflare.com/ajax/libs/mathjax/2.7.5/MathJax.js?config=TeX-AMS-MML_SVG\"></script><script type=\"text/javascript\">if (window.MathJax && window.MathJax.Hub && window.MathJax.Hub.Config) {window.MathJax.Hub.Config({SVG: {font: \"STIX-Web\"}});}</script>                <script type=\"text/javascript\">window.PlotlyConfig = {MathJaxConfig: 'local'};</script>\n",
              "        <script charset=\"utf-8\" src=\"https://cdn.plot.ly/plotly-2.24.1.min.js\"></script>                <div id=\"fad0773e-9742-49e2-ac18-fc7fa4295aaf\" class=\"plotly-graph-div\" style=\"height:525px; width:100%;\"></div>            <script type=\"text/javascript\">                                    window.PLOTLYENV=window.PLOTLYENV || {};                                    if (document.getElementById(\"fad0773e-9742-49e2-ac18-fc7fa4295aaf\")) {                    Plotly.newPlot(                        \"fad0773e-9742-49e2-ac18-fc7fa4295aaf\",                        [{\"hovertemplate\":\"x=%{x}\\u003cbr\\u003ey=%{y}\\u003cbr\\u003etext=%{text}\\u003cextra\\u003e\\u003c\\u002fextra\\u003e\",\"legendgroup\":\"\",\"marker\":{\"color\":\"#636efa\",\"symbol\":\"circle\"},\"mode\":\"markers+text\",\"name\":\"\",\"orientation\":\"v\",\"showlegend\":false,\"text\":[\"de\",\"que\",\"la\",\"a\",\"en\",\"y\",\"el\",\"no\",\"se\",\"un\",\"su\",\"usted\",\"con\",\"por\",\"una\",\"lo\",\"le\",\"los\",\"es\",\"me\",\"al\",\"pero\",\"las\",\"raskolnikoff\",\"del\",\"para\",\"hab\\u00eda\",\"ha\",\"m\\u00e1s\",\"sin\",\"como\",\"he\",\"yo\",\"sus\",\"qu\\u00e9\",\"todo\",\"mi\",\"si\",\"era\",\"joven\",\"casa\",\"te\",\"\\u00e9l\",\"muy\",\"cuando\",\"dijo\",\"estaba\",\"sonia\",\"esta\",\"ya\",\"s\\u00ed\",\"despu\\u00e9s\",\"este\",\"esto\",\"dos\",\"\\u00bfqu\\u00e9\",\"razumikin\",\"ella\",\"ten\\u00eda\",\"ahora\",\"nada\",\"mismo\",\"bien\",\"tiempo\",\"aqu\\u00ed\",\"sobre\",\"momento\",\"porque\",\"o\",\"est\\u00e1\",\"eso\",\"hombre\",\"poco\",\"\\u00bb\",\"ivanovna\",\"tan\",\"ojos\",\"vez\",\"petrovitch\",\"puerta\",\"hasta\",\"aquel\",\"decir\",\"ni\",\"tiene\",\"cosa\",\"otra\",\"tambi\\u00e9n\",\"todos\",\"ese\",\"dunia\",\"modo\",\"hace\",\"\\u00bfpor\",\"hecho\",\"voz\",\"desde\",\"the\",\"parte\",\"m\\u00ed\",\"otro\",\"catalina\",\"hacer\",\"hay\",\"svidrigailoff\",\"sido\",\"antes\",\"tal\",\"cabeza\",\"durante\",\"as\\u00ed\",\"palabras\",\"t\\u00fa\",\"\\u00bfno\",\"ser\",\"hubiera\",\"madre\",\"tengo\",\"embargo\",\"porfirio\",\"d\\u00eda\",\"seguida\",\"haber\",\"mucho\",\"fu\\u00e9\",\"esa\",\"aunque\",\"puede\",\"palabra\",\"tu\",\"dinero\",\"habitaci\\u00f3n\",\"entonces\",\"son\",\"hac\\u00eda\",\"pregunt\\u00f3\",\"repente\",\"se\\u00f1or\",\"cuarto\",\"entre\",\"parec\\u00eda\",\"algo\",\"duda\",\"menos\",\"pedro\",\"siempre\",\"uno\",\"s\\u00e9\",\"respondi\\u00f3\",\"mis\",\"ellos\",\"\\u00bfc\\u00f3mo\",\"all\\u00ed\",\"pues\",\"mano\",\"hermana\",\"ver\",\"manos\",\"estado\",\"toda\",\"ustedes\",\"todas\",\"puso\",\"ludjin\",\"m\\u00edo\",\"verdad\",\"cuanto\",\"dicho\",\"estas\",\"mujer\",\"of\",\"\\u00a1ah\",\"tanto\",\"casi\",\"nos\",\"veces\",\"nuevo\",\"vieja\",\"mirada\",\"exclam\\u00f3\",\"has\",\"amigo\",\"soy\",\"han\",\"visto\",\"ir\",\"medio\",\"lado\",\"cada\",\"mir\\u00f3\",\"venido\",\"adem\\u00e1s\",\"escalera\",\"alexandrovna\",\"vida\",\"pulkeria\",\"estoy\",\"pod\\u00eda\",\"pronto\",\"e\"],\"x\":[-1.3926361799240112,-1.3428159952163696,-1.394201397895813,-1.4510143995285034,-1.4400882720947266,-1.6380354166030884,-1.9920846223831177,-1.6060925722122192,-1.7884966135025024,-2.419828414916992,-2.0573158264160156,-3.731987953186035,-16.686695098876953,-0.6429834961891174,-0.7619584798812866,2.4367105960845947,-2.0602822303771973,15.085957527160645,6.341348171234131,-1.4154635667800903,-12.933672904968262,-1.3199200630187988,11.975404739379883,-20.31240463256836,0.061274830251932144,-3.51438570022583,-5.308557987213135,0.3213585913181305,-8.536348342895508,10.178566932678223,0.25754332542419434,5.5677995681762695,0.09421992301940918,12.318263053894043,3.6614224910736084,11.726821899414062,11.1415433883667,1.163462519645691,-12.680171012878418,-15.851134300231934,-2.546581506729126,1.7596484422683716,1.9997254610061646,-15.399434089660645,-15.535054206848145,-14.982999801635742,-4.385946750640869,-11.936249732971191,-1.6094434261322021,-0.7462911605834961,-16.274375915527344,1.2113860845565796,-2.510855197906494,-5.737041473388672,20.22311782836914,2.793729066848755,-12.399556159973145,-6.5104451179504395,4.339625835418701,1.90167236328125,3.123695135116577,-8.861714363098145,-4.2236104011535645,4.322716236114502,-2.824007511138916,11.55048942565918,-0.18248407542705536,1.6366009712219238,18.567686080932617,-5.368370532989502,7.185425281524658,-10.448403358459473,-2.564225196838379,9.377920150756836,24.422712326049805,-6.528801441192627,-16.991024017333984,6.519575119018555,-24.69722557067871,-7.589558124542236,-3.096435785293579,-9.77213191986084,-16.68866539001465,9.641156196594238,-5.736006736755371,10.057266235351562,-0.28573745489120483,0.8132451176643372,15.573247909545898,-7.866390705108643,-4.789289474487305,-3.143207550048828,-1.0169923305511475,15.73287296295166,1.186807632446289,-16.62162971496582,-11.272774696350098,11.404228210449219,4.92121696472168,1.6303879022598267,-8.616888046264648,24.422208786010742,11.083847045898438,-5.496901512145996,-6.223863124847412,13.285868644714355,-1.2757827043533325,14.537053108215332,-15.820959091186523,-0.6898608803749084,-3.8386664390563965,-19.98233413696289,3.676314115524292,-5.661008358001709,6.70874547958374,12.730667114257812,-8.643165588378906,2.427385091781616,7.814995288848877,-10.581093788146973,0.35473811626434326,7.862195014953613,6.196959972381592,-1.9333504438400269,-7.12857723236084,-3.5757358074188232,11.493962287902832,10.571695327758789,1.4398419857025146,-7.398385524749756,16.127756118774414,-2.173396110534668,-15.296091079711914,16.87136459350586,-7.298990249633789,-14.88602352142334,-16.02808952331543,-8.335623741149902,-0.009447623044252396,10.4645357131958,22.913253784179688,-23.024368286132812,9.005447387695312,5.257165908813477,-24.733015060424805,-18.29669952392578,17.835119247436523,-1.7780981063842773,-22.3990421295166,12.772940635681152,8.006940841674805,0.00330765126273036,-4.495556354522705,-6.229705810546875,-12.965620040893555,-14.631487846374512,-4.8546833992004395,-13.356263160705566,2.6967175006866455,4.299375534057617,22.173370361328125,9.875502586364746,-12.514631271362305,-11.52987003326416,-7.8836894035339355,3.918450117111206,3.3666930198669434,2.6823298931121826,-20.105205535888672,-8.260007858276367,10.550050735473633,-10.53199577331543,1.9975364208221436,-21.436798095703125,-0.8164272308349609,4.126110076904297,-8.238243103027344,-1.8030062913894653,-17.423059463500977,-4.966464519500732,8.470248222351074,-8.024872779846191,-8.790364265441895,12.64795207977295,2.9655203819274902,9.986003875732422,12.81379508972168,-1.0488817691802979,8.097125053405762,-18.480276107788086,3.7071897983551025,13.22867488861084,-7.140631198883057,-25.14811134338379,4.900779724121094,-25.149608612060547,-13.963974952697754,11.790273666381836,-16.11692237854004,11.444823265075684],\"xaxis\":\"x\",\"y\":[-0.011528002098202705,0.3960708677768707,0.15136107802391052,0.4190060496330261,-0.1774388998746872,0.08749973773956299,-0.028368733823299408,0.6506226062774658,-0.03749493137001991,0.35983964800834656,-0.6928766965866089,11.68285846710205,4.224585056304932,-0.03911147266626358,1.0032094717025757,-0.01796100102365017,0.6274181008338928,-11.36088752746582,7.891077518463135,9.683578491210938,3.7195651531219482,-0.3485517203807831,-15.956849098205566,-4.181821823120117,-20.959949493408203,-5.180846214294434,-5.297897815704346,8.095537185668945,4.3408589363098145,6.780630588531494,-6.033130645751953,11.020164489746094,14.817357063293457,-6.743703842163086,13.451220512390137,-22.696496963500977,15.388283729553223,12.417398452758789,-4.813931941986084,-12.338916778564453,-23.46109962463379,11.581273078918457,-5.629920959472656,3.3918323516845703,18.512733459472656,4.484029293060303,-14.056035995483398,-13.730445861816406,-3.79095721244812,15.370620727539062,6.931962966918945,-10.814668655395508,3.3486766815185547,10.95179271697998,-5.003080368041992,13.725218772888184,8.491006851196289,-3.7242016792297363,-9.52449893951416,13.622335433959961,-9.81081485748291,0.5078989863395691,21.339433670043945,-9.350983619689941,10.168078422546387,-20.358715057373047,-12.705183982849121,11.552251815795898,5.303421497344971,18.056772232055664,8.681020736694336,19.124343872070312,2.347555160522461,13.684964179992676,-12.905497550964355,3.430964708328247,-12.737634658813477,-5.7745361328125,-0.7220303416252136,-16.954723358154297,-10.330764770507812,-7.500972747802734,2.091754913330078,2.895491600036621,26.121971130371094,11.087320327758789,-6.881041049957275,15.122509002685547,-7.296131134033203,18.335065841674805,-0.5570369958877563,11.335880279541016,5.473429203033447,14.192916870117188,8.109081268310547,0.9934030175209045,-7.288697242736816,32.444908142089844,-1.3175404071807861,19.034006118774414,-11.887284278869629,-12.906495094299316,4.168471813201904,11.725958824157715,-11.944604873657227,14.438862800598145,-14.462652206420898,3.7458906173706055,-16.274892807006836,-11.13739013671875,9.165188789367676,5.175256252288818,16.835641860961914,12.638053894042969,2.2455475330352783,10.867833137512207,13.9230375289917,13.731080055236816,-8.38394832611084,-9.309864044189453,-12.676826477050781,-26.279409408569336,-19.785226821899414,7.823755264282227,0.6538006663322449,2.763068437576294,-1.2801328897476196,9.764028549194336,-2.24023175239563,12.51176929473877,10.16326904296875,-7.769307613372803,18.615713119506836,-1.3224400281906128,-4.94662618637085,4.415628433227539,-7.372272491455078,19.964937210083008,-19.105066299438477,-16.858293533325195,-8.604934692382812,-3.682241916656494,1.6475306749343872,-0.6492406129837036,-0.7228522300720215,15.213193893432617,-8.4081449508667,14.715347290039062,4.629032611846924,-3.1506409645080566,3.952892780303955,21.54767417907715,-24.70071029663086,14.438238143920898,-10.290085792541504,11.851907730102539,1.738768219947815,-13.81702995300293,5.533389091491699,-1.0639066696166992,-2.931576728820801,-5.501775741577148,-14.201332092285156,7.473799705505371,14.706581115722656,10.778136253356934,-10.91350269317627,11.337235450744629,5.298386096954346,-3.4593358039855957,32.312564849853516,14.032183647155762,-3.1524364948272705,-4.343565940856934,8.783745765686035,2.605508804321289,-9.036460876464844,-10.004744529724121,-7.416718006134033,20.13590431213379,18.254539489746094,14.129242897033691,17.23670768737793,12.982585906982422,9.841719627380371,12.597124099731445,-8.571332931518555,-15.466423988342285,-10.264983177185059,-10.186300277709961,11.900856018066406,8.059059143066406,-17.32097625732422,-3.4827880859375,-1.330581784248352,-3.481041193008423,16.031614303588867,4.853135585784912,14.251343727111816,27.500762939453125],\"yaxis\":\"y\",\"type\":\"scatter\"}],                        {\"template\":{\"data\":{\"histogram2dcontour\":[{\"type\":\"histogram2dcontour\",\"colorbar\":{\"outlinewidth\":0,\"ticks\":\"\"},\"colorscale\":[[0.0,\"#0d0887\"],[0.1111111111111111,\"#46039f\"],[0.2222222222222222,\"#7201a8\"],[0.3333333333333333,\"#9c179e\"],[0.4444444444444444,\"#bd3786\"],[0.5555555555555556,\"#d8576b\"],[0.6666666666666666,\"#ed7953\"],[0.7777777777777778,\"#fb9f3a\"],[0.8888888888888888,\"#fdca26\"],[1.0,\"#f0f921\"]]}],\"choropleth\":[{\"type\":\"choropleth\",\"colorbar\":{\"outlinewidth\":0,\"ticks\":\"\"}}],\"histogram2d\":[{\"type\":\"histogram2d\",\"colorbar\":{\"outlinewidth\":0,\"ticks\":\"\"},\"colorscale\":[[0.0,\"#0d0887\"],[0.1111111111111111,\"#46039f\"],[0.2222222222222222,\"#7201a8\"],[0.3333333333333333,\"#9c179e\"],[0.4444444444444444,\"#bd3786\"],[0.5555555555555556,\"#d8576b\"],[0.6666666666666666,\"#ed7953\"],[0.7777777777777778,\"#fb9f3a\"],[0.8888888888888888,\"#fdca26\"],[1.0,\"#f0f921\"]]}],\"heatmap\":[{\"type\":\"heatmap\",\"colorbar\":{\"outlinewidth\":0,\"ticks\":\"\"},\"colorscale\":[[0.0,\"#0d0887\"],[0.1111111111111111,\"#46039f\"],[0.2222222222222222,\"#7201a8\"],[0.3333333333333333,\"#9c179e\"],[0.4444444444444444,\"#bd3786\"],[0.5555555555555556,\"#d8576b\"],[0.6666666666666666,\"#ed7953\"],[0.7777777777777778,\"#fb9f3a\"],[0.8888888888888888,\"#fdca26\"],[1.0,\"#f0f921\"]]}],\"heatmapgl\":[{\"type\":\"heatmapgl\",\"colorbar\":{\"outlinewidth\":0,\"ticks\":\"\"},\"colorscale\":[[0.0,\"#0d0887\"],[0.1111111111111111,\"#46039f\"],[0.2222222222222222,\"#7201a8\"],[0.3333333333333333,\"#9c179e\"],[0.4444444444444444,\"#bd3786\"],[0.5555555555555556,\"#d8576b\"],[0.6666666666666666,\"#ed7953\"],[0.7777777777777778,\"#fb9f3a\"],[0.8888888888888888,\"#fdca26\"],[1.0,\"#f0f921\"]]}],\"contourcarpet\":[{\"type\":\"contourcarpet\",\"colorbar\":{\"outlinewidth\":0,\"ticks\":\"\"}}],\"contour\":[{\"type\":\"contour\",\"colorbar\":{\"outlinewidth\":0,\"ticks\":\"\"},\"colorscale\":[[0.0,\"#0d0887\"],[0.1111111111111111,\"#46039f\"],[0.2222222222222222,\"#7201a8\"],[0.3333333333333333,\"#9c179e\"],[0.4444444444444444,\"#bd3786\"],[0.5555555555555556,\"#d8576b\"],[0.6666666666666666,\"#ed7953\"],[0.7777777777777778,\"#fb9f3a\"],[0.8888888888888888,\"#fdca26\"],[1.0,\"#f0f921\"]]}],\"surface\":[{\"type\":\"surface\",\"colorbar\":{\"outlinewidth\":0,\"ticks\":\"\"},\"colorscale\":[[0.0,\"#0d0887\"],[0.1111111111111111,\"#46039f\"],[0.2222222222222222,\"#7201a8\"],[0.3333333333333333,\"#9c179e\"],[0.4444444444444444,\"#bd3786\"],[0.5555555555555556,\"#d8576b\"],[0.6666666666666666,\"#ed7953\"],[0.7777777777777778,\"#fb9f3a\"],[0.8888888888888888,\"#fdca26\"],[1.0,\"#f0f921\"]]}],\"mesh3d\":[{\"type\":\"mesh3d\",\"colorbar\":{\"outlinewidth\":0,\"ticks\":\"\"}}],\"scatter\":[{\"fillpattern\":{\"fillmode\":\"overlay\",\"size\":10,\"solidity\":0.2},\"type\":\"scatter\"}],\"parcoords\":[{\"type\":\"parcoords\",\"line\":{\"colorbar\":{\"outlinewidth\":0,\"ticks\":\"\"}}}],\"scatterpolargl\":[{\"type\":\"scatterpolargl\",\"marker\":{\"colorbar\":{\"outlinewidth\":0,\"ticks\":\"\"}}}],\"bar\":[{\"error_x\":{\"color\":\"#2a3f5f\"},\"error_y\":{\"color\":\"#2a3f5f\"},\"marker\":{\"line\":{\"color\":\"#E5ECF6\",\"width\":0.5},\"pattern\":{\"fillmode\":\"overlay\",\"size\":10,\"solidity\":0.2}},\"type\":\"bar\"}],\"scattergeo\":[{\"type\":\"scattergeo\",\"marker\":{\"colorbar\":{\"outlinewidth\":0,\"ticks\":\"\"}}}],\"scatterpolar\":[{\"type\":\"scatterpolar\",\"marker\":{\"colorbar\":{\"outlinewidth\":0,\"ticks\":\"\"}}}],\"histogram\":[{\"marker\":{\"pattern\":{\"fillmode\":\"overlay\",\"size\":10,\"solidity\":0.2}},\"type\":\"histogram\"}],\"scattergl\":[{\"type\":\"scattergl\",\"marker\":{\"colorbar\":{\"outlinewidth\":0,\"ticks\":\"\"}}}],\"scatter3d\":[{\"type\":\"scatter3d\",\"line\":{\"colorbar\":{\"outlinewidth\":0,\"ticks\":\"\"}},\"marker\":{\"colorbar\":{\"outlinewidth\":0,\"ticks\":\"\"}}}],\"scattermapbox\":[{\"type\":\"scattermapbox\",\"marker\":{\"colorbar\":{\"outlinewidth\":0,\"ticks\":\"\"}}}],\"scatterternary\":[{\"type\":\"scatterternary\",\"marker\":{\"colorbar\":{\"outlinewidth\":0,\"ticks\":\"\"}}}],\"scattercarpet\":[{\"type\":\"scattercarpet\",\"marker\":{\"colorbar\":{\"outlinewidth\":0,\"ticks\":\"\"}}}],\"carpet\":[{\"aaxis\":{\"endlinecolor\":\"#2a3f5f\",\"gridcolor\":\"white\",\"linecolor\":\"white\",\"minorgridcolor\":\"white\",\"startlinecolor\":\"#2a3f5f\"},\"baxis\":{\"endlinecolor\":\"#2a3f5f\",\"gridcolor\":\"white\",\"linecolor\":\"white\",\"minorgridcolor\":\"white\",\"startlinecolor\":\"#2a3f5f\"},\"type\":\"carpet\"}],\"table\":[{\"cells\":{\"fill\":{\"color\":\"#EBF0F8\"},\"line\":{\"color\":\"white\"}},\"header\":{\"fill\":{\"color\":\"#C8D4E3\"},\"line\":{\"color\":\"white\"}},\"type\":\"table\"}],\"barpolar\":[{\"marker\":{\"line\":{\"color\":\"#E5ECF6\",\"width\":0.5},\"pattern\":{\"fillmode\":\"overlay\",\"size\":10,\"solidity\":0.2}},\"type\":\"barpolar\"}],\"pie\":[{\"automargin\":true,\"type\":\"pie\"}]},\"layout\":{\"autotypenumbers\":\"strict\",\"colorway\":[\"#636efa\",\"#EF553B\",\"#00cc96\",\"#ab63fa\",\"#FFA15A\",\"#19d3f3\",\"#FF6692\",\"#B6E880\",\"#FF97FF\",\"#FECB52\"],\"font\":{\"color\":\"#2a3f5f\"},\"hovermode\":\"closest\",\"hoverlabel\":{\"align\":\"left\"},\"paper_bgcolor\":\"white\",\"plot_bgcolor\":\"#E5ECF6\",\"polar\":{\"bgcolor\":\"#E5ECF6\",\"angularaxis\":{\"gridcolor\":\"white\",\"linecolor\":\"white\",\"ticks\":\"\"},\"radialaxis\":{\"gridcolor\":\"white\",\"linecolor\":\"white\",\"ticks\":\"\"}},\"ternary\":{\"bgcolor\":\"#E5ECF6\",\"aaxis\":{\"gridcolor\":\"white\",\"linecolor\":\"white\",\"ticks\":\"\"},\"baxis\":{\"gridcolor\":\"white\",\"linecolor\":\"white\",\"ticks\":\"\"},\"caxis\":{\"gridcolor\":\"white\",\"linecolor\":\"white\",\"ticks\":\"\"}},\"coloraxis\":{\"colorbar\":{\"outlinewidth\":0,\"ticks\":\"\"}},\"colorscale\":{\"sequential\":[[0.0,\"#0d0887\"],[0.1111111111111111,\"#46039f\"],[0.2222222222222222,\"#7201a8\"],[0.3333333333333333,\"#9c179e\"],[0.4444444444444444,\"#bd3786\"],[0.5555555555555556,\"#d8576b\"],[0.6666666666666666,\"#ed7953\"],[0.7777777777777778,\"#fb9f3a\"],[0.8888888888888888,\"#fdca26\"],[1.0,\"#f0f921\"]],\"sequentialminus\":[[0.0,\"#0d0887\"],[0.1111111111111111,\"#46039f\"],[0.2222222222222222,\"#7201a8\"],[0.3333333333333333,\"#9c179e\"],[0.4444444444444444,\"#bd3786\"],[0.5555555555555556,\"#d8576b\"],[0.6666666666666666,\"#ed7953\"],[0.7777777777777778,\"#fb9f3a\"],[0.8888888888888888,\"#fdca26\"],[1.0,\"#f0f921\"]],\"diverging\":[[0,\"#8e0152\"],[0.1,\"#c51b7d\"],[0.2,\"#de77ae\"],[0.3,\"#f1b6da\"],[0.4,\"#fde0ef\"],[0.5,\"#f7f7f7\"],[0.6,\"#e6f5d0\"],[0.7,\"#b8e186\"],[0.8,\"#7fbc41\"],[0.9,\"#4d9221\"],[1,\"#276419\"]]},\"xaxis\":{\"gridcolor\":\"white\",\"linecolor\":\"white\",\"ticks\":\"\",\"title\":{\"standoff\":15},\"zerolinecolor\":\"white\",\"automargin\":true,\"zerolinewidth\":2},\"yaxis\":{\"gridcolor\":\"white\",\"linecolor\":\"white\",\"ticks\":\"\",\"title\":{\"standoff\":15},\"zerolinecolor\":\"white\",\"automargin\":true,\"zerolinewidth\":2},\"scene\":{\"xaxis\":{\"backgroundcolor\":\"#E5ECF6\",\"gridcolor\":\"white\",\"linecolor\":\"white\",\"showbackground\":true,\"ticks\":\"\",\"zerolinecolor\":\"white\",\"gridwidth\":2},\"yaxis\":{\"backgroundcolor\":\"#E5ECF6\",\"gridcolor\":\"white\",\"linecolor\":\"white\",\"showbackground\":true,\"ticks\":\"\",\"zerolinecolor\":\"white\",\"gridwidth\":2},\"zaxis\":{\"backgroundcolor\":\"#E5ECF6\",\"gridcolor\":\"white\",\"linecolor\":\"white\",\"showbackground\":true,\"ticks\":\"\",\"zerolinecolor\":\"white\",\"gridwidth\":2}},\"shapedefaults\":{\"line\":{\"color\":\"#2a3f5f\"}},\"annotationdefaults\":{\"arrowcolor\":\"#2a3f5f\",\"arrowhead\":0,\"arrowwidth\":1},\"geo\":{\"bgcolor\":\"white\",\"landcolor\":\"#E5ECF6\",\"subunitcolor\":\"white\",\"showland\":true,\"showlakes\":true,\"lakecolor\":\"white\"},\"title\":{\"x\":0.05},\"mapbox\":{\"style\":\"light\"}}},\"xaxis\":{\"anchor\":\"y\",\"domain\":[0.0,1.0],\"title\":{\"text\":\"x\"}},\"yaxis\":{\"anchor\":\"x\",\"domain\":[0.0,1.0],\"title\":{\"text\":\"y\"}},\"legend\":{\"tracegroupgap\":0},\"margin\":{\"t\":60}},                        {\"responsive\": true}                    ).then(function(){\n",
              "                            \n",
              "var gd = document.getElementById('fad0773e-9742-49e2-ac18-fc7fa4295aaf');\n",
              "var x = new MutationObserver(function (mutations, observer) {{\n",
              "        var display = window.getComputedStyle(gd).display;\n",
              "        if (!display || display === 'none') {{\n",
              "            console.log([gd, 'removed!']);\n",
              "            Plotly.purge(gd);\n",
              "            observer.disconnect();\n",
              "        }}\n",
              "}});\n",
              "\n",
              "// Listen for the removal of the full notebook cells\n",
              "var notebookContainer = gd.closest('#notebook-container');\n",
              "if (notebookContainer) {{\n",
              "    x.observe(notebookContainer, {childList: true});\n",
              "}}\n",
              "\n",
              "// Listen for the clearing of the current output cell\n",
              "var outputEl = gd.closest('.output');\n",
              "if (outputEl) {{\n",
              "    x.observe(outputEl, {childList: true});\n",
              "}}\n",
              "\n",
              "                        })                };                            </script>        </div>\n",
              "</body>\n",
              "</html>"
            ]
          },
          "metadata": {}
        }
      ],
      "source": [
        "# Graficar los embedddings en 2D\n",
        "import plotly.graph_objects as go\n",
        "import plotly.express as px\n",
        "\n",
        "vecs, labels = reduce_dimensions(w2v_model)\n",
        "\n",
        "MAX_WORDS=200\n",
        "fig = px.scatter(x=vecs[:MAX_WORDS,0], y=vecs[:MAX_WORDS,1], text=labels[:MAX_WORDS])\n",
        "fig.show(renderer=\"colab\") # esto para plotly en colab"
      ]
    },
    {
      "cell_type": "code",
      "source": [
        "# Aislamos nombre y apellido de uno de los personajes\n",
        "MAX_WORDS=200\n",
        "fig = px.scatter(x=vecs[:MAX_WORDS,0], y=vecs[:MAX_WORDS,1], text=labels[:MAX_WORDS])\n",
        "fig.show(renderer=\"colab\") # esto para plotly en colab"
      ],
      "metadata": {
        "colab": {
          "base_uri": "https://localhost:8080/",
          "height": 542
        },
        "id": "tFNBCYPTHcsG",
        "outputId": "5d782fd4-f9a2-47a2-e777-00e37cf10ab0"
      },
      "execution_count": 48,
      "outputs": [
        {
          "output_type": "display_data",
          "data": {
            "text/html": [
              "<html>\n",
              "<head><meta charset=\"utf-8\" /></head>\n",
              "<body>\n",
              "    <div>            <script src=\"https://cdnjs.cloudflare.com/ajax/libs/mathjax/2.7.5/MathJax.js?config=TeX-AMS-MML_SVG\"></script><script type=\"text/javascript\">if (window.MathJax && window.MathJax.Hub && window.MathJax.Hub.Config) {window.MathJax.Hub.Config({SVG: {font: \"STIX-Web\"}});}</script>                <script type=\"text/javascript\">window.PlotlyConfig = {MathJaxConfig: 'local'};</script>\n",
              "        <script charset=\"utf-8\" src=\"https://cdn.plot.ly/plotly-2.24.1.min.js\"></script>                <div id=\"e34b120b-e8d9-455a-824d-959b19ba79b9\" class=\"plotly-graph-div\" style=\"height:525px; width:100%;\"></div>            <script type=\"text/javascript\">                                    window.PLOTLYENV=window.PLOTLYENV || {};                                    if (document.getElementById(\"e34b120b-e8d9-455a-824d-959b19ba79b9\")) {                    Plotly.newPlot(                        \"e34b120b-e8d9-455a-824d-959b19ba79b9\",                        [{\"hovertemplate\":\"x=%{x}\\u003cbr\\u003ey=%{y}\\u003cbr\\u003etext=%{text}\\u003cextra\\u003e\\u003c\\u002fextra\\u003e\",\"legendgroup\":\"\",\"marker\":{\"color\":\"#636efa\",\"symbol\":\"circle\"},\"mode\":\"markers+text\",\"name\":\"\",\"orientation\":\"v\",\"showlegend\":false,\"text\":[\"de\",\"que\",\"la\",\"a\",\"en\",\"y\",\"el\",\"no\",\"se\",\"un\",\"su\",\"usted\",\"con\",\"por\",\"una\",\"lo\",\"le\",\"los\",\"es\",\"me\",\"al\",\"pero\",\"las\",\"raskolnikoff\",\"del\",\"para\",\"hab\\u00eda\",\"ha\",\"m\\u00e1s\",\"sin\",\"como\",\"he\",\"yo\",\"sus\",\"qu\\u00e9\",\"todo\",\"mi\",\"si\",\"era\",\"joven\",\"casa\",\"te\",\"\\u00e9l\",\"muy\",\"cuando\",\"dijo\",\"estaba\",\"sonia\",\"esta\",\"ya\",\"s\\u00ed\",\"despu\\u00e9s\",\"este\",\"esto\",\"dos\",\"\\u00bfqu\\u00e9\",\"razumikin\",\"ella\",\"ten\\u00eda\",\"ahora\",\"nada\",\"mismo\",\"bien\",\"tiempo\",\"aqu\\u00ed\",\"sobre\",\"momento\",\"porque\",\"o\",\"est\\u00e1\",\"eso\",\"hombre\",\"poco\",\"\\u00bb\",\"ivanovna\",\"tan\",\"ojos\",\"vez\",\"petrovitch\",\"puerta\",\"hasta\",\"aquel\",\"decir\",\"ni\",\"tiene\",\"cosa\",\"otra\",\"tambi\\u00e9n\",\"todos\",\"ese\",\"dunia\",\"modo\",\"hace\",\"\\u00bfpor\",\"hecho\",\"voz\",\"desde\",\"the\",\"parte\",\"m\\u00ed\",\"otro\",\"catalina\",\"hacer\",\"hay\",\"svidrigailoff\",\"sido\",\"antes\",\"tal\",\"cabeza\",\"durante\",\"as\\u00ed\",\"palabras\",\"t\\u00fa\",\"\\u00bfno\",\"ser\",\"hubiera\",\"madre\",\"tengo\",\"embargo\",\"porfirio\",\"d\\u00eda\",\"seguida\",\"haber\",\"mucho\",\"fu\\u00e9\",\"esa\",\"aunque\",\"puede\",\"palabra\",\"tu\",\"dinero\",\"habitaci\\u00f3n\",\"entonces\",\"son\",\"hac\\u00eda\",\"pregunt\\u00f3\",\"repente\",\"se\\u00f1or\",\"cuarto\",\"entre\",\"parec\\u00eda\",\"algo\",\"duda\",\"menos\",\"pedro\",\"siempre\",\"uno\",\"s\\u00e9\",\"respondi\\u00f3\",\"mis\",\"ellos\",\"\\u00bfc\\u00f3mo\",\"all\\u00ed\",\"pues\",\"mano\",\"hermana\",\"ver\",\"manos\",\"estado\",\"toda\",\"ustedes\",\"todas\",\"puso\",\"ludjin\",\"m\\u00edo\",\"verdad\",\"cuanto\",\"dicho\",\"estas\",\"mujer\",\"of\",\"\\u00a1ah\",\"tanto\",\"casi\",\"nos\",\"veces\",\"nuevo\",\"vieja\",\"mirada\",\"exclam\\u00f3\",\"has\",\"amigo\",\"soy\",\"han\",\"visto\",\"ir\",\"medio\",\"lado\",\"cada\",\"mir\\u00f3\",\"venido\",\"adem\\u00e1s\",\"escalera\",\"alexandrovna\",\"vida\",\"pulkeria\",\"estoy\",\"pod\\u00eda\",\"pronto\",\"e\"],\"x\":[-1.3926361799240112,-1.3428159952163696,-1.394201397895813,-1.4510143995285034,-1.4400882720947266,-1.6380354166030884,-1.9920846223831177,-1.6060925722122192,-1.7884966135025024,-2.419828414916992,-2.0573158264160156,-3.731987953186035,-16.686695098876953,-0.6429834961891174,-0.7619584798812866,2.4367105960845947,-2.0602822303771973,15.085957527160645,6.341348171234131,-1.4154635667800903,-12.933672904968262,-1.3199200630187988,11.975404739379883,-20.31240463256836,0.061274830251932144,-3.51438570022583,-5.308557987213135,0.3213585913181305,-8.536348342895508,10.178566932678223,0.25754332542419434,5.5677995681762695,0.09421992301940918,12.318263053894043,3.6614224910736084,11.726821899414062,11.1415433883667,1.163462519645691,-12.680171012878418,-15.851134300231934,-2.546581506729126,1.7596484422683716,1.9997254610061646,-15.399434089660645,-15.535054206848145,-14.982999801635742,-4.385946750640869,-11.936249732971191,-1.6094434261322021,-0.7462911605834961,-16.274375915527344,1.2113860845565796,-2.510855197906494,-5.737041473388672,20.22311782836914,2.793729066848755,-12.399556159973145,-6.5104451179504395,4.339625835418701,1.90167236328125,3.123695135116577,-8.861714363098145,-4.2236104011535645,4.322716236114502,-2.824007511138916,11.55048942565918,-0.18248407542705536,1.6366009712219238,18.567686080932617,-5.368370532989502,7.185425281524658,-10.448403358459473,-2.564225196838379,9.377920150756836,24.422712326049805,-6.528801441192627,-16.991024017333984,6.519575119018555,-24.69722557067871,-7.589558124542236,-3.096435785293579,-9.77213191986084,-16.68866539001465,9.641156196594238,-5.736006736755371,10.057266235351562,-0.28573745489120483,0.8132451176643372,15.573247909545898,-7.866390705108643,-4.789289474487305,-3.143207550048828,-1.0169923305511475,15.73287296295166,1.186807632446289,-16.62162971496582,-11.272774696350098,11.404228210449219,4.92121696472168,1.6303879022598267,-8.616888046264648,24.422208786010742,11.083847045898438,-5.496901512145996,-6.223863124847412,13.285868644714355,-1.2757827043533325,14.537053108215332,-15.820959091186523,-0.6898608803749084,-3.8386664390563965,-19.98233413696289,3.676314115524292,-5.661008358001709,6.70874547958374,12.730667114257812,-8.643165588378906,2.427385091781616,7.814995288848877,-10.581093788146973,0.35473811626434326,7.862195014953613,6.196959972381592,-1.9333504438400269,-7.12857723236084,-3.5757358074188232,11.493962287902832,10.571695327758789,1.4398419857025146,-7.398385524749756,16.127756118774414,-2.173396110534668,-15.296091079711914,16.87136459350586,-7.298990249633789,-14.88602352142334,-16.02808952331543,-8.335623741149902,-0.009447623044252396,10.4645357131958,22.913253784179688,-23.024368286132812,9.005447387695312,5.257165908813477,-24.733015060424805,-18.29669952392578,17.835119247436523,-1.7780981063842773,-22.3990421295166,12.772940635681152,8.006940841674805,0.00330765126273036,-4.495556354522705,-6.229705810546875,-12.965620040893555,-14.631487846374512,-4.8546833992004395,-13.356263160705566,2.6967175006866455,4.299375534057617,22.173370361328125,9.875502586364746,-12.514631271362305,-11.52987003326416,-7.8836894035339355,3.918450117111206,3.3666930198669434,2.6823298931121826,-20.105205535888672,-8.260007858276367,10.550050735473633,-10.53199577331543,1.9975364208221436,-21.436798095703125,-0.8164272308349609,4.126110076904297,-8.238243103027344,-1.8030062913894653,-17.423059463500977,-4.966464519500732,8.470248222351074,-8.024872779846191,-8.790364265441895,12.64795207977295,2.9655203819274902,9.986003875732422,12.81379508972168,-1.0488817691802979,8.097125053405762,-18.480276107788086,3.7071897983551025,13.22867488861084,-7.140631198883057,-25.14811134338379,4.900779724121094,-25.149608612060547,-13.963974952697754,11.790273666381836,-16.11692237854004,11.444823265075684],\"xaxis\":\"x\",\"y\":[-0.011528002098202705,0.3960708677768707,0.15136107802391052,0.4190060496330261,-0.1774388998746872,0.08749973773956299,-0.028368733823299408,0.6506226062774658,-0.03749493137001991,0.35983964800834656,-0.6928766965866089,11.68285846710205,4.224585056304932,-0.03911147266626358,1.0032094717025757,-0.01796100102365017,0.6274181008338928,-11.36088752746582,7.891077518463135,9.683578491210938,3.7195651531219482,-0.3485517203807831,-15.956849098205566,-4.181821823120117,-20.959949493408203,-5.180846214294434,-5.297897815704346,8.095537185668945,4.3408589363098145,6.780630588531494,-6.033130645751953,11.020164489746094,14.817357063293457,-6.743703842163086,13.451220512390137,-22.696496963500977,15.388283729553223,12.417398452758789,-4.813931941986084,-12.338916778564453,-23.46109962463379,11.581273078918457,-5.629920959472656,3.3918323516845703,18.512733459472656,4.484029293060303,-14.056035995483398,-13.730445861816406,-3.79095721244812,15.370620727539062,6.931962966918945,-10.814668655395508,3.3486766815185547,10.95179271697998,-5.003080368041992,13.725218772888184,8.491006851196289,-3.7242016792297363,-9.52449893951416,13.622335433959961,-9.81081485748291,0.5078989863395691,21.339433670043945,-9.350983619689941,10.168078422546387,-20.358715057373047,-12.705183982849121,11.552251815795898,5.303421497344971,18.056772232055664,8.681020736694336,19.124343872070312,2.347555160522461,13.684964179992676,-12.905497550964355,3.430964708328247,-12.737634658813477,-5.7745361328125,-0.7220303416252136,-16.954723358154297,-10.330764770507812,-7.500972747802734,2.091754913330078,2.895491600036621,26.121971130371094,11.087320327758789,-6.881041049957275,15.122509002685547,-7.296131134033203,18.335065841674805,-0.5570369958877563,11.335880279541016,5.473429203033447,14.192916870117188,8.109081268310547,0.9934030175209045,-7.288697242736816,32.444908142089844,-1.3175404071807861,19.034006118774414,-11.887284278869629,-12.906495094299316,4.168471813201904,11.725958824157715,-11.944604873657227,14.438862800598145,-14.462652206420898,3.7458906173706055,-16.274892807006836,-11.13739013671875,9.165188789367676,5.175256252288818,16.835641860961914,12.638053894042969,2.2455475330352783,10.867833137512207,13.9230375289917,13.731080055236816,-8.38394832611084,-9.309864044189453,-12.676826477050781,-26.279409408569336,-19.785226821899414,7.823755264282227,0.6538006663322449,2.763068437576294,-1.2801328897476196,9.764028549194336,-2.24023175239563,12.51176929473877,10.16326904296875,-7.769307613372803,18.615713119506836,-1.3224400281906128,-4.94662618637085,4.415628433227539,-7.372272491455078,19.964937210083008,-19.105066299438477,-16.858293533325195,-8.604934692382812,-3.682241916656494,1.6475306749343872,-0.6492406129837036,-0.7228522300720215,15.213193893432617,-8.4081449508667,14.715347290039062,4.629032611846924,-3.1506409645080566,3.952892780303955,21.54767417907715,-24.70071029663086,14.438238143920898,-10.290085792541504,11.851907730102539,1.738768219947815,-13.81702995300293,5.533389091491699,-1.0639066696166992,-2.931576728820801,-5.501775741577148,-14.201332092285156,7.473799705505371,14.706581115722656,10.778136253356934,-10.91350269317627,11.337235450744629,5.298386096954346,-3.4593358039855957,32.312564849853516,14.032183647155762,-3.1524364948272705,-4.343565940856934,8.783745765686035,2.605508804321289,-9.036460876464844,-10.004744529724121,-7.416718006134033,20.13590431213379,18.254539489746094,14.129242897033691,17.23670768737793,12.982585906982422,9.841719627380371,12.597124099731445,-8.571332931518555,-15.466423988342285,-10.264983177185059,-10.186300277709961,11.900856018066406,8.059059143066406,-17.32097625732422,-3.4827880859375,-1.330581784248352,-3.481041193008423,16.031614303588867,4.853135585784912,14.251343727111816,27.500762939453125],\"yaxis\":\"y\",\"type\":\"scatter\"}],                        {\"template\":{\"data\":{\"histogram2dcontour\":[{\"type\":\"histogram2dcontour\",\"colorbar\":{\"outlinewidth\":0,\"ticks\":\"\"},\"colorscale\":[[0.0,\"#0d0887\"],[0.1111111111111111,\"#46039f\"],[0.2222222222222222,\"#7201a8\"],[0.3333333333333333,\"#9c179e\"],[0.4444444444444444,\"#bd3786\"],[0.5555555555555556,\"#d8576b\"],[0.6666666666666666,\"#ed7953\"],[0.7777777777777778,\"#fb9f3a\"],[0.8888888888888888,\"#fdca26\"],[1.0,\"#f0f921\"]]}],\"choropleth\":[{\"type\":\"choropleth\",\"colorbar\":{\"outlinewidth\":0,\"ticks\":\"\"}}],\"histogram2d\":[{\"type\":\"histogram2d\",\"colorbar\":{\"outlinewidth\":0,\"ticks\":\"\"},\"colorscale\":[[0.0,\"#0d0887\"],[0.1111111111111111,\"#46039f\"],[0.2222222222222222,\"#7201a8\"],[0.3333333333333333,\"#9c179e\"],[0.4444444444444444,\"#bd3786\"],[0.5555555555555556,\"#d8576b\"],[0.6666666666666666,\"#ed7953\"],[0.7777777777777778,\"#fb9f3a\"],[0.8888888888888888,\"#fdca26\"],[1.0,\"#f0f921\"]]}],\"heatmap\":[{\"type\":\"heatmap\",\"colorbar\":{\"outlinewidth\":0,\"ticks\":\"\"},\"colorscale\":[[0.0,\"#0d0887\"],[0.1111111111111111,\"#46039f\"],[0.2222222222222222,\"#7201a8\"],[0.3333333333333333,\"#9c179e\"],[0.4444444444444444,\"#bd3786\"],[0.5555555555555556,\"#d8576b\"],[0.6666666666666666,\"#ed7953\"],[0.7777777777777778,\"#fb9f3a\"],[0.8888888888888888,\"#fdca26\"],[1.0,\"#f0f921\"]]}],\"heatmapgl\":[{\"type\":\"heatmapgl\",\"colorbar\":{\"outlinewidth\":0,\"ticks\":\"\"},\"colorscale\":[[0.0,\"#0d0887\"],[0.1111111111111111,\"#46039f\"],[0.2222222222222222,\"#7201a8\"],[0.3333333333333333,\"#9c179e\"],[0.4444444444444444,\"#bd3786\"],[0.5555555555555556,\"#d8576b\"],[0.6666666666666666,\"#ed7953\"],[0.7777777777777778,\"#fb9f3a\"],[0.8888888888888888,\"#fdca26\"],[1.0,\"#f0f921\"]]}],\"contourcarpet\":[{\"type\":\"contourcarpet\",\"colorbar\":{\"outlinewidth\":0,\"ticks\":\"\"}}],\"contour\":[{\"type\":\"contour\",\"colorbar\":{\"outlinewidth\":0,\"ticks\":\"\"},\"colorscale\":[[0.0,\"#0d0887\"],[0.1111111111111111,\"#46039f\"],[0.2222222222222222,\"#7201a8\"],[0.3333333333333333,\"#9c179e\"],[0.4444444444444444,\"#bd3786\"],[0.5555555555555556,\"#d8576b\"],[0.6666666666666666,\"#ed7953\"],[0.7777777777777778,\"#fb9f3a\"],[0.8888888888888888,\"#fdca26\"],[1.0,\"#f0f921\"]]}],\"surface\":[{\"type\":\"surface\",\"colorbar\":{\"outlinewidth\":0,\"ticks\":\"\"},\"colorscale\":[[0.0,\"#0d0887\"],[0.1111111111111111,\"#46039f\"],[0.2222222222222222,\"#7201a8\"],[0.3333333333333333,\"#9c179e\"],[0.4444444444444444,\"#bd3786\"],[0.5555555555555556,\"#d8576b\"],[0.6666666666666666,\"#ed7953\"],[0.7777777777777778,\"#fb9f3a\"],[0.8888888888888888,\"#fdca26\"],[1.0,\"#f0f921\"]]}],\"mesh3d\":[{\"type\":\"mesh3d\",\"colorbar\":{\"outlinewidth\":0,\"ticks\":\"\"}}],\"scatter\":[{\"fillpattern\":{\"fillmode\":\"overlay\",\"size\":10,\"solidity\":0.2},\"type\":\"scatter\"}],\"parcoords\":[{\"type\":\"parcoords\",\"line\":{\"colorbar\":{\"outlinewidth\":0,\"ticks\":\"\"}}}],\"scatterpolargl\":[{\"type\":\"scatterpolargl\",\"marker\":{\"colorbar\":{\"outlinewidth\":0,\"ticks\":\"\"}}}],\"bar\":[{\"error_x\":{\"color\":\"#2a3f5f\"},\"error_y\":{\"color\":\"#2a3f5f\"},\"marker\":{\"line\":{\"color\":\"#E5ECF6\",\"width\":0.5},\"pattern\":{\"fillmode\":\"overlay\",\"size\":10,\"solidity\":0.2}},\"type\":\"bar\"}],\"scattergeo\":[{\"type\":\"scattergeo\",\"marker\":{\"colorbar\":{\"outlinewidth\":0,\"ticks\":\"\"}}}],\"scatterpolar\":[{\"type\":\"scatterpolar\",\"marker\":{\"colorbar\":{\"outlinewidth\":0,\"ticks\":\"\"}}}],\"histogram\":[{\"marker\":{\"pattern\":{\"fillmode\":\"overlay\",\"size\":10,\"solidity\":0.2}},\"type\":\"histogram\"}],\"scattergl\":[{\"type\":\"scattergl\",\"marker\":{\"colorbar\":{\"outlinewidth\":0,\"ticks\":\"\"}}}],\"scatter3d\":[{\"type\":\"scatter3d\",\"line\":{\"colorbar\":{\"outlinewidth\":0,\"ticks\":\"\"}},\"marker\":{\"colorbar\":{\"outlinewidth\":0,\"ticks\":\"\"}}}],\"scattermapbox\":[{\"type\":\"scattermapbox\",\"marker\":{\"colorbar\":{\"outlinewidth\":0,\"ticks\":\"\"}}}],\"scatterternary\":[{\"type\":\"scatterternary\",\"marker\":{\"colorbar\":{\"outlinewidth\":0,\"ticks\":\"\"}}}],\"scattercarpet\":[{\"type\":\"scattercarpet\",\"marker\":{\"colorbar\":{\"outlinewidth\":0,\"ticks\":\"\"}}}],\"carpet\":[{\"aaxis\":{\"endlinecolor\":\"#2a3f5f\",\"gridcolor\":\"white\",\"linecolor\":\"white\",\"minorgridcolor\":\"white\",\"startlinecolor\":\"#2a3f5f\"},\"baxis\":{\"endlinecolor\":\"#2a3f5f\",\"gridcolor\":\"white\",\"linecolor\":\"white\",\"minorgridcolor\":\"white\",\"startlinecolor\":\"#2a3f5f\"},\"type\":\"carpet\"}],\"table\":[{\"cells\":{\"fill\":{\"color\":\"#EBF0F8\"},\"line\":{\"color\":\"white\"}},\"header\":{\"fill\":{\"color\":\"#C8D4E3\"},\"line\":{\"color\":\"white\"}},\"type\":\"table\"}],\"barpolar\":[{\"marker\":{\"line\":{\"color\":\"#E5ECF6\",\"width\":0.5},\"pattern\":{\"fillmode\":\"overlay\",\"size\":10,\"solidity\":0.2}},\"type\":\"barpolar\"}],\"pie\":[{\"automargin\":true,\"type\":\"pie\"}]},\"layout\":{\"autotypenumbers\":\"strict\",\"colorway\":[\"#636efa\",\"#EF553B\",\"#00cc96\",\"#ab63fa\",\"#FFA15A\",\"#19d3f3\",\"#FF6692\",\"#B6E880\",\"#FF97FF\",\"#FECB52\"],\"font\":{\"color\":\"#2a3f5f\"},\"hovermode\":\"closest\",\"hoverlabel\":{\"align\":\"left\"},\"paper_bgcolor\":\"white\",\"plot_bgcolor\":\"#E5ECF6\",\"polar\":{\"bgcolor\":\"#E5ECF6\",\"angularaxis\":{\"gridcolor\":\"white\",\"linecolor\":\"white\",\"ticks\":\"\"},\"radialaxis\":{\"gridcolor\":\"white\",\"linecolor\":\"white\",\"ticks\":\"\"}},\"ternary\":{\"bgcolor\":\"#E5ECF6\",\"aaxis\":{\"gridcolor\":\"white\",\"linecolor\":\"white\",\"ticks\":\"\"},\"baxis\":{\"gridcolor\":\"white\",\"linecolor\":\"white\",\"ticks\":\"\"},\"caxis\":{\"gridcolor\":\"white\",\"linecolor\":\"white\",\"ticks\":\"\"}},\"coloraxis\":{\"colorbar\":{\"outlinewidth\":0,\"ticks\":\"\"}},\"colorscale\":{\"sequential\":[[0.0,\"#0d0887\"],[0.1111111111111111,\"#46039f\"],[0.2222222222222222,\"#7201a8\"],[0.3333333333333333,\"#9c179e\"],[0.4444444444444444,\"#bd3786\"],[0.5555555555555556,\"#d8576b\"],[0.6666666666666666,\"#ed7953\"],[0.7777777777777778,\"#fb9f3a\"],[0.8888888888888888,\"#fdca26\"],[1.0,\"#f0f921\"]],\"sequentialminus\":[[0.0,\"#0d0887\"],[0.1111111111111111,\"#46039f\"],[0.2222222222222222,\"#7201a8\"],[0.3333333333333333,\"#9c179e\"],[0.4444444444444444,\"#bd3786\"],[0.5555555555555556,\"#d8576b\"],[0.6666666666666666,\"#ed7953\"],[0.7777777777777778,\"#fb9f3a\"],[0.8888888888888888,\"#fdca26\"],[1.0,\"#f0f921\"]],\"diverging\":[[0,\"#8e0152\"],[0.1,\"#c51b7d\"],[0.2,\"#de77ae\"],[0.3,\"#f1b6da\"],[0.4,\"#fde0ef\"],[0.5,\"#f7f7f7\"],[0.6,\"#e6f5d0\"],[0.7,\"#b8e186\"],[0.8,\"#7fbc41\"],[0.9,\"#4d9221\"],[1,\"#276419\"]]},\"xaxis\":{\"gridcolor\":\"white\",\"linecolor\":\"white\",\"ticks\":\"\",\"title\":{\"standoff\":15},\"zerolinecolor\":\"white\",\"automargin\":true,\"zerolinewidth\":2},\"yaxis\":{\"gridcolor\":\"white\",\"linecolor\":\"white\",\"ticks\":\"\",\"title\":{\"standoff\":15},\"zerolinecolor\":\"white\",\"automargin\":true,\"zerolinewidth\":2},\"scene\":{\"xaxis\":{\"backgroundcolor\":\"#E5ECF6\",\"gridcolor\":\"white\",\"linecolor\":\"white\",\"showbackground\":true,\"ticks\":\"\",\"zerolinecolor\":\"white\",\"gridwidth\":2},\"yaxis\":{\"backgroundcolor\":\"#E5ECF6\",\"gridcolor\":\"white\",\"linecolor\":\"white\",\"showbackground\":true,\"ticks\":\"\",\"zerolinecolor\":\"white\",\"gridwidth\":2},\"zaxis\":{\"backgroundcolor\":\"#E5ECF6\",\"gridcolor\":\"white\",\"linecolor\":\"white\",\"showbackground\":true,\"ticks\":\"\",\"zerolinecolor\":\"white\",\"gridwidth\":2}},\"shapedefaults\":{\"line\":{\"color\":\"#2a3f5f\"}},\"annotationdefaults\":{\"arrowcolor\":\"#2a3f5f\",\"arrowhead\":0,\"arrowwidth\":1},\"geo\":{\"bgcolor\":\"white\",\"landcolor\":\"#E5ECF6\",\"subunitcolor\":\"white\",\"showland\":true,\"showlakes\":true,\"lakecolor\":\"white\"},\"title\":{\"x\":0.05},\"mapbox\":{\"style\":\"light\"}}},\"xaxis\":{\"anchor\":\"y\",\"domain\":[0.0,1.0],\"title\":{\"text\":\"x\"}},\"yaxis\":{\"anchor\":\"x\",\"domain\":[0.0,1.0],\"title\":{\"text\":\"y\"}},\"legend\":{\"tracegroupgap\":0},\"margin\":{\"t\":60}},                        {\"responsive\": true}                    ).then(function(){\n",
              "                            \n",
              "var gd = document.getElementById('e34b120b-e8d9-455a-824d-959b19ba79b9');\n",
              "var x = new MutationObserver(function (mutations, observer) {{\n",
              "        var display = window.getComputedStyle(gd).display;\n",
              "        if (!display || display === 'none') {{\n",
              "            console.log([gd, 'removed!']);\n",
              "            Plotly.purge(gd);\n",
              "            observer.disconnect();\n",
              "        }}\n",
              "}});\n",
              "\n",
              "// Listen for the removal of the full notebook cells\n",
              "var notebookContainer = gd.closest('#notebook-container');\n",
              "if (notebookContainer) {{\n",
              "    x.observe(notebookContainer, {childList: true});\n",
              "}}\n",
              "\n",
              "// Listen for the clearing of the current output cell\n",
              "var outputEl = gd.closest('.output');\n",
              "if (outputEl) {{\n",
              "    x.observe(outputEl, {childList: true});\n",
              "}}\n",
              "\n",
              "                        })                };                            </script>        </div>\n",
              "</body>\n",
              "</html>"
            ]
          },
          "metadata": {}
        }
      ]
    },
    {
      "cell_type": "markdown",
      "source": [
        "- Haciendo zoom en parte del texto, vemos que Pullería y Alexandrovna están relativamente cerca, dejando en claro que son el nombre y el apellido de uno de los personajes."
      ],
      "metadata": {
        "id": "ROM30hJYHOJe"
      }
    },
    {
      "cell_type": "code",
      "execution_count": 49,
      "metadata": {
        "id": "gQdaiyFG-F4h",
        "colab": {
          "base_uri": "https://localhost:8080/",
          "height": 542
        },
        "outputId": "667482f3-d4e3-479c-fb63-7806bf5ca131"
      },
      "outputs": [
        {
          "output_type": "display_data",
          "data": {
            "text/html": [
              "<html>\n",
              "<head><meta charset=\"utf-8\" /></head>\n",
              "<body>\n",
              "    <div>            <script src=\"https://cdnjs.cloudflare.com/ajax/libs/mathjax/2.7.5/MathJax.js?config=TeX-AMS-MML_SVG\"></script><script type=\"text/javascript\">if (window.MathJax && window.MathJax.Hub && window.MathJax.Hub.Config) {window.MathJax.Hub.Config({SVG: {font: \"STIX-Web\"}});}</script>                <script type=\"text/javascript\">window.PlotlyConfig = {MathJaxConfig: 'local'};</script>\n",
              "        <script charset=\"utf-8\" src=\"https://cdn.plot.ly/plotly-2.24.1.min.js\"></script>                <div id=\"81a4172b-238c-4e2e-b08c-33719460ffc6\" class=\"plotly-graph-div\" style=\"height:525px; width:100%;\"></div>            <script type=\"text/javascript\">                                    window.PLOTLYENV=window.PLOTLYENV || {};                                    if (document.getElementById(\"81a4172b-238c-4e2e-b08c-33719460ffc6\")) {                    Plotly.newPlot(                        \"81a4172b-238c-4e2e-b08c-33719460ffc6\",                        [{\"hovertemplate\":\"x=%{x}\\u003cbr\\u003ey=%{y}\\u003cbr\\u003ez=%{z}\\u003cbr\\u003etext=%{text}\\u003cextra\\u003e\\u003c\\u002fextra\\u003e\",\"legendgroup\":\"\",\"marker\":{\"color\":\"#636efa\",\"symbol\":\"circle\",\"size\":2},\"mode\":\"markers+text\",\"name\":\"\",\"scene\":\"scene\",\"showlegend\":false,\"text\":[\"de\",\"que\",\"la\",\"a\",\"en\",\"y\",\"el\",\"no\",\"se\",\"un\",\"su\",\"usted\",\"con\",\"por\",\"una\",\"lo\",\"le\",\"los\",\"es\",\"me\",\"al\",\"pero\",\"las\",\"raskolnikoff\",\"del\",\"para\",\"hab\\u00eda\",\"ha\",\"m\\u00e1s\",\"sin\",\"como\",\"he\",\"yo\",\"sus\",\"qu\\u00e9\",\"todo\",\"mi\",\"si\",\"era\",\"joven\",\"casa\",\"te\",\"\\u00e9l\",\"muy\",\"cuando\",\"dijo\",\"estaba\",\"sonia\",\"esta\",\"ya\",\"s\\u00ed\",\"despu\\u00e9s\",\"este\",\"esto\",\"dos\",\"\\u00bfqu\\u00e9\",\"razumikin\",\"ella\",\"ten\\u00eda\",\"ahora\",\"nada\",\"mismo\",\"bien\",\"tiempo\",\"aqu\\u00ed\",\"sobre\",\"momento\",\"porque\",\"o\",\"est\\u00e1\",\"eso\",\"hombre\",\"poco\",\"\\u00bb\",\"ivanovna\",\"tan\",\"ojos\",\"vez\",\"petrovitch\",\"puerta\",\"hasta\",\"aquel\",\"decir\",\"ni\",\"tiene\",\"cosa\",\"otra\",\"tambi\\u00e9n\",\"todos\",\"ese\",\"dunia\",\"modo\",\"hace\",\"\\u00bfpor\",\"hecho\",\"voz\",\"desde\",\"the\",\"parte\",\"m\\u00ed\",\"otro\",\"catalina\",\"hacer\",\"hay\",\"svidrigailoff\",\"sido\",\"antes\",\"tal\",\"cabeza\",\"durante\",\"as\\u00ed\",\"palabras\",\"t\\u00fa\",\"\\u00bfno\",\"ser\",\"hubiera\",\"madre\",\"tengo\",\"embargo\",\"porfirio\",\"d\\u00eda\",\"seguida\",\"haber\",\"mucho\",\"fu\\u00e9\",\"esa\",\"aunque\",\"puede\",\"palabra\",\"tu\",\"dinero\",\"habitaci\\u00f3n\",\"entonces\",\"son\",\"hac\\u00eda\",\"pregunt\\u00f3\",\"repente\",\"se\\u00f1or\",\"cuarto\",\"entre\",\"parec\\u00eda\",\"algo\",\"duda\",\"menos\",\"pedro\",\"siempre\",\"uno\",\"s\\u00e9\",\"respondi\\u00f3\",\"mis\",\"ellos\",\"\\u00bfc\\u00f3mo\",\"all\\u00ed\",\"pues\",\"mano\",\"hermana\",\"ver\",\"manos\",\"estado\",\"toda\",\"ustedes\",\"todas\",\"puso\",\"ludjin\",\"m\\u00edo\",\"verdad\",\"cuanto\",\"dicho\",\"estas\",\"mujer\",\"of\",\"\\u00a1ah\",\"tanto\",\"casi\",\"nos\",\"veces\",\"nuevo\",\"vieja\",\"mirada\",\"exclam\\u00f3\",\"has\",\"amigo\",\"soy\",\"han\",\"visto\",\"ir\",\"medio\",\"lado\",\"cada\",\"mir\\u00f3\",\"venido\",\"adem\\u00e1s\",\"escalera\",\"alexandrovna\",\"vida\",\"pulkeria\",\"estoy\",\"pod\\u00eda\",\"pronto\",\"e\"],\"x\":[-3.940567970275879,0.1719994992017746,-5.492748737335205,51.09794998168945,-2.465118646621704,49.99705123901367,44.7246208190918,47.5528450012207,-7.36129903793335,41.32371520996094,-9.17367172241211,-19.275251388549805,47.61079788208008,35.07550811767578,32.01415252685547,-8.20075511932373,-3.188769817352295,5.0725836753845215,13.665306091308594,24.730918884277344,-15.003650665283203,-7.046623706817627,5.867718696594238,-38.17549514770508,-14.873701095581055,-19.322433471679688,-20.67510986328125,-4.370523452758789,30.183048248291016,-20.01205825805664,-47.849586486816406,10.333776473999023,-9.968842506408691,10.548328399658203,-2.0740749835968018,-49.03398895263672,-24.51789093017578,20.859006881713867,6.069878578186035,-16.604387283325195,-29.614450454711914,14.136497497558594,-16.4146671295166,31.96406364440918,-41.482513427734375,-15.004229545593262,-14.435162544250488,-23.611021041870117,5.3891143798828125,-6.764784336090088,27.32062339782715,-28.83987808227539,7.6164116859436035,13.642897605895996,-10.941141128540039,-0.23869173228740692,-8.069524765014648,-1.6515151262283325,9.121153831481934,-10.278973579406738,-15.53423023223877,-30.927217483520508,40.438682556152344,-30.48236083984375,-33.510101318359375,-30.628063201904297,-14.009052276611328,18.704500198364258,32.13045120239258,7.420945167541504,-5.211105823516846,33.60447692871094,-29.861648559570312,-11.533942222595215,14.680932998657227,37.958614349365234,2.7181127071380615,-51.874576568603516,35.75847625732422,-36.12851333618164,-19.389163970947266,5.109992980957031,27.908565521240234,-10.652214050292969,31.683156967163086,38.063106536865234,2.987668991088867,-37.292022705078125,-1.1105824708938599,22.486125946044922,-2.8437063694000244,19.876941680908203,44.05928421020508,-37.82740783691406,-3.3087077140808105,31.14797019958496,-32.23179244995117,27.97650909423828,14.277469635009766,-17.260848999023438,-31.85952377319336,16.33635902404785,-26.203344345092773,-28.73189353942871,-19.86224937438965,38.026756286621094,-36.064544677734375,11.3231840133667,-17.44120216369629,4.215071678161621,-14.133565902709961,22.964677810668945,-0.7787519693374634,-11.796771049499512,14.513694763183594,-13.712362289428711,-8.14638900756836,-4.08681583404541,-20.96241569519043,43.552513122558594,-36.91757583618164,-24.063358306884766,-18.559587478637695,19.992525100708008,-28.303592681884766,11.213116645812988,37.284828186035156,-10.619121551513672,10.527436256408691,-22.475624084472656,32.03072738647461,-24.51378059387207,-21.577585220336914,19.503664016723633,1.7360725402832031,-18.22337532043457,6.029500484466553,-21.331655502319336,-40.59805679321289,5.996218681335449,8.329113006591797,-12.909417152404785,-1.5745705366134644,15.782136917114258,37.51842498779297,-4.221023082733154,9.45088005065918,-9.65201473236084,44.82940673828125,19.701719284057617,-24.383228302001953,14.829021453857422,-47.287384033203125,4.947621822357178,-44.84686279296875,51.641395568847656,-40.39311599731445,-9.14610481262207,39.287044525146484,10.13833236694336,-5.570402145385742,22.424972534179688,-17.69956398010254,36.56626510620117,-5.540546894073486,10.144243240356445,-40.806190490722656,10.58276081085205,23.19962501525879,15.869166374206543,22.0745849609375,8.593229293823242,-15.05986499786377,15.993163108825684,-22.482391357421875,31.92644691467285,-30.898113250732422,-21.985456466674805,9.55739974975586,14.455078125,13.114460945129395,-1.9648497104644775,13.536381721496582,11.074485778808594,-31.88007164001465,-17.230634689331055,-47.00386428833008,-30.02606773376465,-23.17963981628418,4.732640743255615,1.7669856548309326,20.431589126586914,-39.456199645996094,46.608741760253906,19.515439987182617,44.79147720336914,25.364137649536133,-12.189094543457031,-44.0868034362793,37.01018524169922],\"y\":[-8.496989250183105,-4.9814910888671875,-9.60271167755127,-2.9412686824798584,-4.013864517211914,-24.34412956237793,-32.100276947021484,-3.7614877223968506,-4.7517828941345215,-38.32575988769531,-9.1534423828125,38.94096374511719,-27.0836181640625,7.233644485473633,-15.545512199401855,-15.612665176391602,-7.330968856811523,8.687091827392578,7.4904398918151855,20.341266632080078,4.07700777053833,-2.278139114379883,-11.125904083251953,-40.59770584106445,-33.710182189941406,-38.99684143066406,-40.33837890625,10.293020248413086,-11.36368465423584,2.7003631591796875,-17.22832679748535,25.530349731445312,36.33709716796875,6.004943370819092,13.80843734741211,16.209095001220703,18.577665328979492,13.073431015014648,-39.057762145996094,-13.820480346679688,-20.806690216064453,20.50288200378418,-7.729363918304443,-8.992971420288086,6.596531391143799,45.23994064331055,-34.544918060302734,-11.451361656188965,-28.053964614868164,25.990642547607422,-20.77391815185547,-19.585840225219727,-19.58135986328125,17.26497459411621,15.58150863647461,15.47883415222168,35.76991271972656,-24.986446380615234,-35.19160079956055,28.46283721923828,-3.8689754009246826,1.8915804624557495,20.40349006652832,13.345088005065918,21.118276596069336,-40.75020217895508,-40.36577606201172,17.341083526611328,15.132637977600098,41.679405212402344,9.135334968566895,8.848377227783203,-12.432027816772461,24.545591354370117,42.344390869140625,-20.68739891052246,-0.10158716142177582,4.4882378578186035,-15.318244934082031,-4.8161725997924805,-17.382707595825195,-39.68608856201172,-18.490934371948242,-1.8223224878311157,-8.756841659545898,-12.287745475769043,-14.39670181274414,16.699270248413086,24.223814010620117,14.181280136108398,-18.649272918701172,-1.9674315452575684,17.26202392578125,21.126970291137695,7.240218162536621,-22.536970138549805,-34.14751434326172,47.14341735839844,-30.296907424926758,32.170936584472656,6.429481029510498,41.80201721191406,3.3784308433532715,31.337459564208984,-15.677099227905273,2.756620168685913,-16.690488815307617,-1.753278374671936,-21.599443435668945,-34.473079681396484,6.166584014892578,-11.809717178344727,34.1505126953125,47.04993438720703,-21.61685562133789,-34.38639450073242,44.93922424316406,18.67156410217285,24.162479400634766,-7.495615482330322,-2.656831741333008,11.901009559631348,-32.452701568603516,16.98362159729004,10.280659675598145,-23.26966667175293,1.0125210285186768,9.23232364654541,-13.333740234375,33.43780517578125,24.32340431213379,-20.57269287109375,25.007535934448242,13.796520233154297,-35.89411163330078,15.597548484802246,-30.91721534729004,44.00019073486328,-25.520484924316406,15.370603561401367,-56.4208869934082,-10.340502738952637,-1.0773290395736694,-21.45123291015625,-15.955217361450195,14.616501808166504,24.328218460083008,36.21969223022461,-18.66680335998535,0.7917397022247314,39.02894973754883,41.16041564941406,0.5688295364379883,9.649596214294434,-27.90694236755371,17.431482315063477,8.85047721862793,-15.563743591308594,-5.8629279136657715,-29.61044692993164,30.717023849487305,-6.027237892150879,-16.613445281982422,11.615225791931152,44.53915786743164,11.605636596679688,-13.153593063354492,18.76285171508789,-9.665234565734863,-45.490745544433594,51.96731185913086,31.77730941772461,-4.32753849029541,-19.043054580688477,17.69284439086914,-0.2197154462337494,-7.19200325012207,-28.058935165405273,-35.79841995239258,25.329715728759766,30.422183990478516,45.30806350708008,20.505544662475586,28.017127990722656,32.88026809692383,22.2412109375,7.262265682220459,-17.039493560791016,20.231067657470703,-13.195594787597656,23.160749435424805,-1.677598237991333,-8.270705223083496,-4.768974781036377,-29.171751022338867,-5.2603068351745605,15.747966766357422,4.562175750732422,20.81346893310547,26.93551254272461],\"z\":[0.554530680179596,-4.233918190002441,-3.7860426902770996,7.5588765144348145,0.009995082393288612,2.7091760635375977,-1.2335503101348877,-9.681172370910645,0.5532388687133789,-9.105963706970215,-0.5884355902671814,-23.907108306884766,12.808043479919434,3.593499183654785,-3.0379273891448975,-54.08936309814453,-7.379835605621338,34.77583694458008,-25.27766990661621,-38.43743133544922,10.038212776184082,-3.738295316696167,28.089502334594727,-9.873523712158203,17.947399139404297,-34.5068359375,-21.52614974975586,-46.50424575805664,9.675524711608887,-15.358562469482422,-22.363372802734375,-27.511016845703125,-16.36541175842285,24.550535202026367,-29.31262969970703,-14.669276237487793,-43.02161407470703,-19.951295852661133,-8.933815956115723,44.5338134765625,-14.516212463378906,-28.767345428466797,-20.67604637145996,4.079593181610107,-22.358701705932617,24.14447021484375,4.550232410430908,35.43301010131836,-18.44356918334961,-8.903924942016602,40.65583801269531,-28.792415618896484,-54.31747817993164,2.022430896759033,42.00421905517578,-20.732345581054688,22.08867073059082,-1.0354856252670288,-12.283446311950684,-22.261354446411133,-11.187845230102539,18.324874877929688,-16.02880096435547,-35.44591522216797,-12.624881744384766,-17.50144386291504,-18.775604248046875,-30.873579025268555,13.786096572875977,-4.480656623840332,-26.391685485839844,-10.732282638549805,-28.2115421295166,-28.60154914855957,29.434219360351562,-10.097247123718262,43.55134201049805,-16.03876304626465,31.354351043701172,10.750113487243652,-24.59467887878418,-16.536623001098633,29.16353988647461,-9.78425121307373,-23.87314224243164,-21.930744171142578,4.6360249519348145,-10.243368148803711,27.394025802612305,-11.576177597045898,-13.489603996276855,-34.17115783691406,2.3745663166046143,8.38551139831543,-39.33599853515625,25.688074111938477,-23.85982894897461,-4.165340423583984,-14.506965637207031,-40.022621154785156,22.661375045776367,28.037601470947266,-20.05905532836914,0.888329029083252,9.295732498168945,-34.86536407470703,-12.832878112792969,-21.962862014770508,36.44206237792969,-22.22752571105957,-54.457210540771484,28.35979461669922,-21.740741729736328,-16.812400817871094,-39.25322723388672,-31.282869338989258,9.253499031066895,-19.023040771484375,33.516571044921875,31.85626983642578,-24.28816795349121,-34.379859924316406,-23.794700622558594,-46.29762649536133,-17.603113174438477,-26.1982479095459,6.050103187561035,-7.495333194732666,-27.52275848388672,-20.379667282104492,-26.4393367767334,-7.573986053466797,17.355192184448242,25.311328887939453,-11.508650779724121,47.47395706176758,24.839393615722656,-30.389347076416016,-4.486156940460205,51.719749450683594,7.128057479858398,-10.535178184509277,-14.338247299194336,-18.156295776367188,33.4017448425293,42.64268112182617,32.88813018798828,-6.883814334869385,11.169655799865723,4.559850692749023,-16.913314819335938,-20.284351348876953,2.1366896629333496,-0.3702307939529419,11.644516944885254,7.162353992462158,-13.175700187683105,27.300119400024414,-35.419281005859375,-21.255264282226562,16.49230194091797,18.33690643310547,32.46400451660156,39.05678939819336,4.398764133453369,-28.11589241027832,-22.492691040039062,-34.80002212524414,33.289913177490234,-7.80001163482666,8.00507640838623,4.684144020080566,-29.4510555267334,9.499267578125,-35.207298278808594,33.113739013671875,-18.72278594970703,-9.193330764770508,34.51252365112305,1.580866813659668,-32.26278305053711,12.104262351989746,-10.688179016113281,-38.060638427734375,18.15753173828125,-26.5775146484375,21.37713050842285,-9.678557395935059,40.267032623291016,43.53968048095703,-39.39412307739258,-43.401588439941406,10.354085922241211,15.625249862670898,-16.10360336303711,16.71844482421875,2.294663429260254,-3.818027973175049,-23.80611228942871,5.865424156188965],\"type\":\"scatter3d\"}],                        {\"template\":{\"data\":{\"histogram2dcontour\":[{\"type\":\"histogram2dcontour\",\"colorbar\":{\"outlinewidth\":0,\"ticks\":\"\"},\"colorscale\":[[0.0,\"#0d0887\"],[0.1111111111111111,\"#46039f\"],[0.2222222222222222,\"#7201a8\"],[0.3333333333333333,\"#9c179e\"],[0.4444444444444444,\"#bd3786\"],[0.5555555555555556,\"#d8576b\"],[0.6666666666666666,\"#ed7953\"],[0.7777777777777778,\"#fb9f3a\"],[0.8888888888888888,\"#fdca26\"],[1.0,\"#f0f921\"]]}],\"choropleth\":[{\"type\":\"choropleth\",\"colorbar\":{\"outlinewidth\":0,\"ticks\":\"\"}}],\"histogram2d\":[{\"type\":\"histogram2d\",\"colorbar\":{\"outlinewidth\":0,\"ticks\":\"\"},\"colorscale\":[[0.0,\"#0d0887\"],[0.1111111111111111,\"#46039f\"],[0.2222222222222222,\"#7201a8\"],[0.3333333333333333,\"#9c179e\"],[0.4444444444444444,\"#bd3786\"],[0.5555555555555556,\"#d8576b\"],[0.6666666666666666,\"#ed7953\"],[0.7777777777777778,\"#fb9f3a\"],[0.8888888888888888,\"#fdca26\"],[1.0,\"#f0f921\"]]}],\"heatmap\":[{\"type\":\"heatmap\",\"colorbar\":{\"outlinewidth\":0,\"ticks\":\"\"},\"colorscale\":[[0.0,\"#0d0887\"],[0.1111111111111111,\"#46039f\"],[0.2222222222222222,\"#7201a8\"],[0.3333333333333333,\"#9c179e\"],[0.4444444444444444,\"#bd3786\"],[0.5555555555555556,\"#d8576b\"],[0.6666666666666666,\"#ed7953\"],[0.7777777777777778,\"#fb9f3a\"],[0.8888888888888888,\"#fdca26\"],[1.0,\"#f0f921\"]]}],\"heatmapgl\":[{\"type\":\"heatmapgl\",\"colorbar\":{\"outlinewidth\":0,\"ticks\":\"\"},\"colorscale\":[[0.0,\"#0d0887\"],[0.1111111111111111,\"#46039f\"],[0.2222222222222222,\"#7201a8\"],[0.3333333333333333,\"#9c179e\"],[0.4444444444444444,\"#bd3786\"],[0.5555555555555556,\"#d8576b\"],[0.6666666666666666,\"#ed7953\"],[0.7777777777777778,\"#fb9f3a\"],[0.8888888888888888,\"#fdca26\"],[1.0,\"#f0f921\"]]}],\"contourcarpet\":[{\"type\":\"contourcarpet\",\"colorbar\":{\"outlinewidth\":0,\"ticks\":\"\"}}],\"contour\":[{\"type\":\"contour\",\"colorbar\":{\"outlinewidth\":0,\"ticks\":\"\"},\"colorscale\":[[0.0,\"#0d0887\"],[0.1111111111111111,\"#46039f\"],[0.2222222222222222,\"#7201a8\"],[0.3333333333333333,\"#9c179e\"],[0.4444444444444444,\"#bd3786\"],[0.5555555555555556,\"#d8576b\"],[0.6666666666666666,\"#ed7953\"],[0.7777777777777778,\"#fb9f3a\"],[0.8888888888888888,\"#fdca26\"],[1.0,\"#f0f921\"]]}],\"surface\":[{\"type\":\"surface\",\"colorbar\":{\"outlinewidth\":0,\"ticks\":\"\"},\"colorscale\":[[0.0,\"#0d0887\"],[0.1111111111111111,\"#46039f\"],[0.2222222222222222,\"#7201a8\"],[0.3333333333333333,\"#9c179e\"],[0.4444444444444444,\"#bd3786\"],[0.5555555555555556,\"#d8576b\"],[0.6666666666666666,\"#ed7953\"],[0.7777777777777778,\"#fb9f3a\"],[0.8888888888888888,\"#fdca26\"],[1.0,\"#f0f921\"]]}],\"mesh3d\":[{\"type\":\"mesh3d\",\"colorbar\":{\"outlinewidth\":0,\"ticks\":\"\"}}],\"scatter\":[{\"fillpattern\":{\"fillmode\":\"overlay\",\"size\":10,\"solidity\":0.2},\"type\":\"scatter\"}],\"parcoords\":[{\"type\":\"parcoords\",\"line\":{\"colorbar\":{\"outlinewidth\":0,\"ticks\":\"\"}}}],\"scatterpolargl\":[{\"type\":\"scatterpolargl\",\"marker\":{\"colorbar\":{\"outlinewidth\":0,\"ticks\":\"\"}}}],\"bar\":[{\"error_x\":{\"color\":\"#2a3f5f\"},\"error_y\":{\"color\":\"#2a3f5f\"},\"marker\":{\"line\":{\"color\":\"#E5ECF6\",\"width\":0.5},\"pattern\":{\"fillmode\":\"overlay\",\"size\":10,\"solidity\":0.2}},\"type\":\"bar\"}],\"scattergeo\":[{\"type\":\"scattergeo\",\"marker\":{\"colorbar\":{\"outlinewidth\":0,\"ticks\":\"\"}}}],\"scatterpolar\":[{\"type\":\"scatterpolar\",\"marker\":{\"colorbar\":{\"outlinewidth\":0,\"ticks\":\"\"}}}],\"histogram\":[{\"marker\":{\"pattern\":{\"fillmode\":\"overlay\",\"size\":10,\"solidity\":0.2}},\"type\":\"histogram\"}],\"scattergl\":[{\"type\":\"scattergl\",\"marker\":{\"colorbar\":{\"outlinewidth\":0,\"ticks\":\"\"}}}],\"scatter3d\":[{\"type\":\"scatter3d\",\"line\":{\"colorbar\":{\"outlinewidth\":0,\"ticks\":\"\"}},\"marker\":{\"colorbar\":{\"outlinewidth\":0,\"ticks\":\"\"}}}],\"scattermapbox\":[{\"type\":\"scattermapbox\",\"marker\":{\"colorbar\":{\"outlinewidth\":0,\"ticks\":\"\"}}}],\"scatterternary\":[{\"type\":\"scatterternary\",\"marker\":{\"colorbar\":{\"outlinewidth\":0,\"ticks\":\"\"}}}],\"scattercarpet\":[{\"type\":\"scattercarpet\",\"marker\":{\"colorbar\":{\"outlinewidth\":0,\"ticks\":\"\"}}}],\"carpet\":[{\"aaxis\":{\"endlinecolor\":\"#2a3f5f\",\"gridcolor\":\"white\",\"linecolor\":\"white\",\"minorgridcolor\":\"white\",\"startlinecolor\":\"#2a3f5f\"},\"baxis\":{\"endlinecolor\":\"#2a3f5f\",\"gridcolor\":\"white\",\"linecolor\":\"white\",\"minorgridcolor\":\"white\",\"startlinecolor\":\"#2a3f5f\"},\"type\":\"carpet\"}],\"table\":[{\"cells\":{\"fill\":{\"color\":\"#EBF0F8\"},\"line\":{\"color\":\"white\"}},\"header\":{\"fill\":{\"color\":\"#C8D4E3\"},\"line\":{\"color\":\"white\"}},\"type\":\"table\"}],\"barpolar\":[{\"marker\":{\"line\":{\"color\":\"#E5ECF6\",\"width\":0.5},\"pattern\":{\"fillmode\":\"overlay\",\"size\":10,\"solidity\":0.2}},\"type\":\"barpolar\"}],\"pie\":[{\"automargin\":true,\"type\":\"pie\"}]},\"layout\":{\"autotypenumbers\":\"strict\",\"colorway\":[\"#636efa\",\"#EF553B\",\"#00cc96\",\"#ab63fa\",\"#FFA15A\",\"#19d3f3\",\"#FF6692\",\"#B6E880\",\"#FF97FF\",\"#FECB52\"],\"font\":{\"color\":\"#2a3f5f\"},\"hovermode\":\"closest\",\"hoverlabel\":{\"align\":\"left\"},\"paper_bgcolor\":\"white\",\"plot_bgcolor\":\"#E5ECF6\",\"polar\":{\"bgcolor\":\"#E5ECF6\",\"angularaxis\":{\"gridcolor\":\"white\",\"linecolor\":\"white\",\"ticks\":\"\"},\"radialaxis\":{\"gridcolor\":\"white\",\"linecolor\":\"white\",\"ticks\":\"\"}},\"ternary\":{\"bgcolor\":\"#E5ECF6\",\"aaxis\":{\"gridcolor\":\"white\",\"linecolor\":\"white\",\"ticks\":\"\"},\"baxis\":{\"gridcolor\":\"white\",\"linecolor\":\"white\",\"ticks\":\"\"},\"caxis\":{\"gridcolor\":\"white\",\"linecolor\":\"white\",\"ticks\":\"\"}},\"coloraxis\":{\"colorbar\":{\"outlinewidth\":0,\"ticks\":\"\"}},\"colorscale\":{\"sequential\":[[0.0,\"#0d0887\"],[0.1111111111111111,\"#46039f\"],[0.2222222222222222,\"#7201a8\"],[0.3333333333333333,\"#9c179e\"],[0.4444444444444444,\"#bd3786\"],[0.5555555555555556,\"#d8576b\"],[0.6666666666666666,\"#ed7953\"],[0.7777777777777778,\"#fb9f3a\"],[0.8888888888888888,\"#fdca26\"],[1.0,\"#f0f921\"]],\"sequentialminus\":[[0.0,\"#0d0887\"],[0.1111111111111111,\"#46039f\"],[0.2222222222222222,\"#7201a8\"],[0.3333333333333333,\"#9c179e\"],[0.4444444444444444,\"#bd3786\"],[0.5555555555555556,\"#d8576b\"],[0.6666666666666666,\"#ed7953\"],[0.7777777777777778,\"#fb9f3a\"],[0.8888888888888888,\"#fdca26\"],[1.0,\"#f0f921\"]],\"diverging\":[[0,\"#8e0152\"],[0.1,\"#c51b7d\"],[0.2,\"#de77ae\"],[0.3,\"#f1b6da\"],[0.4,\"#fde0ef\"],[0.5,\"#f7f7f7\"],[0.6,\"#e6f5d0\"],[0.7,\"#b8e186\"],[0.8,\"#7fbc41\"],[0.9,\"#4d9221\"],[1,\"#276419\"]]},\"xaxis\":{\"gridcolor\":\"white\",\"linecolor\":\"white\",\"ticks\":\"\",\"title\":{\"standoff\":15},\"zerolinecolor\":\"white\",\"automargin\":true,\"zerolinewidth\":2},\"yaxis\":{\"gridcolor\":\"white\",\"linecolor\":\"white\",\"ticks\":\"\",\"title\":{\"standoff\":15},\"zerolinecolor\":\"white\",\"automargin\":true,\"zerolinewidth\":2},\"scene\":{\"xaxis\":{\"backgroundcolor\":\"#E5ECF6\",\"gridcolor\":\"white\",\"linecolor\":\"white\",\"showbackground\":true,\"ticks\":\"\",\"zerolinecolor\":\"white\",\"gridwidth\":2},\"yaxis\":{\"backgroundcolor\":\"#E5ECF6\",\"gridcolor\":\"white\",\"linecolor\":\"white\",\"showbackground\":true,\"ticks\":\"\",\"zerolinecolor\":\"white\",\"gridwidth\":2},\"zaxis\":{\"backgroundcolor\":\"#E5ECF6\",\"gridcolor\":\"white\",\"linecolor\":\"white\",\"showbackground\":true,\"ticks\":\"\",\"zerolinecolor\":\"white\",\"gridwidth\":2}},\"shapedefaults\":{\"line\":{\"color\":\"#2a3f5f\"}},\"annotationdefaults\":{\"arrowcolor\":\"#2a3f5f\",\"arrowhead\":0,\"arrowwidth\":1},\"geo\":{\"bgcolor\":\"white\",\"landcolor\":\"#E5ECF6\",\"subunitcolor\":\"white\",\"showland\":true,\"showlakes\":true,\"lakecolor\":\"white\"},\"title\":{\"x\":0.05},\"mapbox\":{\"style\":\"light\"}}},\"scene\":{\"domain\":{\"x\":[0.0,1.0],\"y\":[0.0,1.0]},\"xaxis\":{\"title\":{\"text\":\"x\"}},\"yaxis\":{\"title\":{\"text\":\"y\"}},\"zaxis\":{\"title\":{\"text\":\"z\"}}},\"legend\":{\"tracegroupgap\":0},\"margin\":{\"t\":60}},                        {\"responsive\": true}                    ).then(function(){\n",
              "                            \n",
              "var gd = document.getElementById('81a4172b-238c-4e2e-b08c-33719460ffc6');\n",
              "var x = new MutationObserver(function (mutations, observer) {{\n",
              "        var display = window.getComputedStyle(gd).display;\n",
              "        if (!display || display === 'none') {{\n",
              "            console.log([gd, 'removed!']);\n",
              "            Plotly.purge(gd);\n",
              "            observer.disconnect();\n",
              "        }}\n",
              "}});\n",
              "\n",
              "// Listen for the removal of the full notebook cells\n",
              "var notebookContainer = gd.closest('#notebook-container');\n",
              "if (notebookContainer) {{\n",
              "    x.observe(notebookContainer, {childList: true});\n",
              "}}\n",
              "\n",
              "// Listen for the clearing of the current output cell\n",
              "var outputEl = gd.closest('.output');\n",
              "if (outputEl) {{\n",
              "    x.observe(outputEl, {childList: true});\n",
              "}}\n",
              "\n",
              "                        })                };                            </script>        </div>\n",
              "</body>\n",
              "</html>"
            ]
          },
          "metadata": {}
        }
      ],
      "source": [
        "# Graficar los embedddings en 3D\n",
        "\n",
        "vecs, labels = reduce_dimensions(w2v_model,3)\n",
        "\n",
        "fig = px.scatter_3d(x=vecs[:MAX_WORDS,0], y=vecs[:MAX_WORDS,1], z=vecs[:MAX_WORDS,2],text=labels[:MAX_WORDS])\n",
        "fig.update_traces(marker_size = 2)\n",
        "fig.show(renderer=\"colab\") # esto para plotly en colab"
      ]
    },
    {
      "cell_type": "code",
      "execution_count": 50,
      "metadata": {
        "id": "WHgpLUXZ-F4h"
      },
      "outputs": [],
      "source": [
        "# También se pueden guardar los vectores y labels como tsv para graficar en\n",
        "# http://projector.tensorflow.org/\n",
        "\n",
        "\n",
        "vectors = np.asarray(w2v_model.wv.vectors)\n",
        "labels = list(w2v_model.wv.index_to_key)\n",
        "\n",
        "np.savetxt(\"vectors.tsv\", vectors, delimiter=\"\\t\")\n",
        "\n",
        "with open(\"labels.tsv\", \"w\") as fp:\n",
        "    for item in labels:\n",
        "        fp.write(\"%s\\n\" % item)"
      ]
    },
    {
      "cell_type": "markdown",
      "metadata": {
        "id": "WivQZ3ZCZ9N_"
      },
      "source": [
        "### 6 - Conclusiones"
      ]
    },
    {
      "cell_type": "markdown",
      "source": [
        "- Podemos decir que usando este método Word2Vec, los embeddings de los personajes tienen relación semántica con las palabras similares.\n",
        "- Al poder graficarlos, vemos que reduciendo dimensionalidad a 2D, tenemos la posibilidad de ubicar tanto nombre y apellido de un personaje como puntos cercanos del plano.\n",
        "- Podemos agregar que buscando tan solo 1 palabra en cada una de las partes del libros, se puede apreciar la similitud en varias palabras con el contexto de lo que realmente pasa en el libro. Así, la similitud semántica es aparente.\n",
        "- Al buscar el título del libro dentro del texto en cuestión, vemos que también hay mucha similitud con las palabras que son ajenas al text. Estas palabras forman parte del detalle de propaganda y descripción del Proyecto Gutenberg. De esta forma, se abre una opotunidad para chequear y \"filtrar\" este tipo de palabras del corpus."
      ],
      "metadata": {
        "id": "xuIanC42KPK_"
      }
    },
    {
      "cell_type": "code",
      "source": [],
      "metadata": {
        "id": "8s4M_4pkKqhI"
      },
      "execution_count": null,
      "outputs": []
    }
  ],
  "metadata": {
    "colab": {
      "provenance": [],
      "toc_visible": true
    },
    "kernelspec": {
      "display_name": "Python 3 (ipykernel)",
      "language": "python",
      "name": "python3"
    },
    "language_info": {
      "codemirror_mode": {
        "name": "ipython",
        "version": 3
      },
      "file_extension": ".py",
      "mimetype": "text/x-python",
      "name": "python",
      "nbconvert_exporter": "python",
      "pygments_lexer": "ipython3",
      "version": "3.10.6"
    }
  },
  "nbformat": 4,
  "nbformat_minor": 0
}